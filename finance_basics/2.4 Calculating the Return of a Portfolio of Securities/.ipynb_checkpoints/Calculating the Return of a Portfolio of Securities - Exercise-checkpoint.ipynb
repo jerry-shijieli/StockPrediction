{
 "cells": [
  {
   "cell_type": "markdown",
   "metadata": {},
   "source": [
    "## Calculating the Return of a Portfolio of Securities"
   ]
  },
  {
   "cell_type": "markdown",
   "metadata": {},
   "source": [
    "Download data for a portfolio composed of 5 stocks. Do it for British Petroleum, Ford, Exxon, Lincoln, and Apple for the period ‘2000-1-1’ until today."
   ]
  },
  {
   "cell_type": "code",
   "execution_count": 9,
   "metadata": {
    "collapsed": true
   },
   "outputs": [],
   "source": [
    "import pandas as pd\n",
    "import numpy as np\n",
    "import matplotlib.pyplot as plt\n",
    "import os"
   ]
  },
  {
   "cell_type": "code",
   "execution_count": 11,
   "metadata": {
    "collapsed": false
   },
   "outputs": [
    {
     "name": "stdout",
     "output_type": "stream",
     "text": [
      "<class 'pandas.core.frame.DataFrame'>\n",
      "DatetimeIndex: 4344 entries, 2000-01-03 to 2017-04-07\n",
      "Data columns (total 5 columns):\n",
      "BP      4344 non-null float64\n",
      "F       4344 non-null float64\n",
      "XOM     4344 non-null float64\n",
      "LNC     4344 non-null float64\n",
      "AAPL    4344 non-null float64\n",
      "dtypes: float64(5)\n",
      "memory usage: 203.6 KB\n"
     ]
    }
   ],
   "source": [
    "tickers = ['BP', 'F', 'XOM', 'LNC', 'AAPL']\n",
    "data_dir = '../dataset'\n",
    "mydata = pd.DataFrame()\n",
    "for t in tickers:\n",
    "    mydata[t] = pd.read_csv(os.path.join(data_dir,t+'.csv'), index_col=0)['Adj Close']\n",
    "mydata.index = pd.to_datetime(mydata.index)\n",
    "mydata.info()"
   ]
  },
  {
   "cell_type": "code",
   "execution_count": 12,
   "metadata": {
    "collapsed": false
   },
   "outputs": [
    {
     "data": {
      "text/html": [
       "<div>\n",
       "<table border=\"1\" class=\"dataframe\">\n",
       "  <thead>\n",
       "    <tr style=\"text-align: right;\">\n",
       "      <th></th>\n",
       "      <th>BP</th>\n",
       "      <th>F</th>\n",
       "      <th>XOM</th>\n",
       "      <th>LNC</th>\n",
       "      <th>AAPL</th>\n",
       "    </tr>\n",
       "    <tr>\n",
       "      <th>Date</th>\n",
       "      <th></th>\n",
       "      <th></th>\n",
       "      <th></th>\n",
       "      <th></th>\n",
       "      <th></th>\n",
       "    </tr>\n",
       "  </thead>\n",
       "  <tbody>\n",
       "    <tr>\n",
       "      <th>2000-01-03</th>\n",
       "      <td>58.8125</td>\n",
       "      <td>28.782394</td>\n",
       "      <td>39.15625</td>\n",
       "      <td>39.0625</td>\n",
       "      <td>3.997768</td>\n",
       "    </tr>\n",
       "    <tr>\n",
       "      <th>2000-01-04</th>\n",
       "      <td>58.5000</td>\n",
       "      <td>27.820692</td>\n",
       "      <td>38.40625</td>\n",
       "      <td>37.9375</td>\n",
       "      <td>3.660714</td>\n",
       "    </tr>\n",
       "    <tr>\n",
       "      <th>2000-01-05</th>\n",
       "      <td>60.5000</td>\n",
       "      <td>27.923731</td>\n",
       "      <td>40.50000</td>\n",
       "      <td>36.6250</td>\n",
       "      <td>3.714286</td>\n",
       "    </tr>\n",
       "    <tr>\n",
       "      <th>2000-01-06</th>\n",
       "      <td>60.6250</td>\n",
       "      <td>27.958078</td>\n",
       "      <td>42.59375</td>\n",
       "      <td>37.0000</td>\n",
       "      <td>3.392857</td>\n",
       "    </tr>\n",
       "    <tr>\n",
       "      <th>2000-01-07</th>\n",
       "      <td>59.5000</td>\n",
       "      <td>30.018869</td>\n",
       "      <td>42.46875</td>\n",
       "      <td>37.9375</td>\n",
       "      <td>3.553571</td>\n",
       "    </tr>\n",
       "  </tbody>\n",
       "</table>\n",
       "</div>"
      ],
      "text/plain": [
       "                 BP          F       XOM      LNC      AAPL\n",
       "Date                                                       \n",
       "2000-01-03  58.8125  28.782394  39.15625  39.0625  3.997768\n",
       "2000-01-04  58.5000  27.820692  38.40625  37.9375  3.660714\n",
       "2000-01-05  60.5000  27.923731  40.50000  36.6250  3.714286\n",
       "2000-01-06  60.6250  27.958078  42.59375  37.0000  3.392857\n",
       "2000-01-07  59.5000  30.018869  42.46875  37.9375  3.553571"
      ]
     },
     "execution_count": 12,
     "metadata": {},
     "output_type": "execute_result"
    }
   ],
   "source": [
    "mydata.head()"
   ]
  },
  {
   "cell_type": "code",
   "execution_count": 13,
   "metadata": {
    "collapsed": false
   },
   "outputs": [
    {
     "data": {
      "text/html": [
       "<div>\n",
       "<table border=\"1\" class=\"dataframe\">\n",
       "  <thead>\n",
       "    <tr style=\"text-align: right;\">\n",
       "      <th></th>\n",
       "      <th>BP</th>\n",
       "      <th>F</th>\n",
       "      <th>XOM</th>\n",
       "      <th>LNC</th>\n",
       "      <th>AAPL</th>\n",
       "    </tr>\n",
       "    <tr>\n",
       "      <th>Date</th>\n",
       "      <th></th>\n",
       "      <th></th>\n",
       "      <th></th>\n",
       "      <th></th>\n",
       "      <th></th>\n",
       "    </tr>\n",
       "  </thead>\n",
       "  <tbody>\n",
       "    <tr>\n",
       "      <th>2017-04-03</th>\n",
       "      <td>34.400002</td>\n",
       "      <td>11.44</td>\n",
       "      <td>82.070000</td>\n",
       "      <td>65.230003</td>\n",
       "      <td>143.699997</td>\n",
       "    </tr>\n",
       "    <tr>\n",
       "      <th>2017-04-04</th>\n",
       "      <td>34.790001</td>\n",
       "      <td>11.37</td>\n",
       "      <td>82.370003</td>\n",
       "      <td>65.169998</td>\n",
       "      <td>144.770004</td>\n",
       "    </tr>\n",
       "    <tr>\n",
       "      <th>2017-04-05</th>\n",
       "      <td>34.590000</td>\n",
       "      <td>11.26</td>\n",
       "      <td>82.529999</td>\n",
       "      <td>64.540001</td>\n",
       "      <td>144.020004</td>\n",
       "    </tr>\n",
       "    <tr>\n",
       "      <th>2017-04-06</th>\n",
       "      <td>34.730000</td>\n",
       "      <td>11.27</td>\n",
       "      <td>83.010002</td>\n",
       "      <td>65.699997</td>\n",
       "      <td>143.660004</td>\n",
       "    </tr>\n",
       "    <tr>\n",
       "      <th>2017-04-07</th>\n",
       "      <td>34.849998</td>\n",
       "      <td>11.23</td>\n",
       "      <td>82.760002</td>\n",
       "      <td>65.610001</td>\n",
       "      <td>143.339996</td>\n",
       "    </tr>\n",
       "  </tbody>\n",
       "</table>\n",
       "</div>"
      ],
      "text/plain": [
       "                   BP      F        XOM        LNC        AAPL\n",
       "Date                                                          \n",
       "2017-04-03  34.400002  11.44  82.070000  65.230003  143.699997\n",
       "2017-04-04  34.790001  11.37  82.370003  65.169998  144.770004\n",
       "2017-04-05  34.590000  11.26  82.529999  64.540001  144.020004\n",
       "2017-04-06  34.730000  11.27  83.010002  65.699997  143.660004\n",
       "2017-04-07  34.849998  11.23  82.760002  65.610001  143.339996"
      ]
     },
     "execution_count": 13,
     "metadata": {},
     "output_type": "execute_result"
    }
   ],
   "source": [
    "mydata.tail()"
   ]
  },
  {
   "cell_type": "markdown",
   "metadata": {},
   "source": [
    "### Normalization to 100:\n",
    "\n",
    "$$\n",
    "\\frac {P_t}{P_0} * 100\n",
    "$$"
   ]
  },
  {
   "cell_type": "markdown",
   "metadata": {},
   "source": [
    "Normalize to a hundred and plot the data on a graph (you can apply the .loc() or the .iloc() method). "
   ]
  },
  {
   "cell_type": "code",
   "execution_count": 14,
   "metadata": {
    "collapsed": false
   },
   "outputs": [
    {
     "data": {
      "text/plain": [
       "BP      58.812500\n",
       "F       28.782394\n",
       "XOM     39.156250\n",
       "LNC     39.062500\n",
       "AAPL     3.997768\n",
       "Name: 2000-01-03 00:00:00, dtype: float64"
      ]
     },
     "execution_count": 14,
     "metadata": {},
     "output_type": "execute_result"
    }
   ],
   "source": [
    "mydata.iloc[0]"
   ]
  },
  {
   "cell_type": "code",
   "execution_count": 17,
   "metadata": {
    "collapsed": false
   },
   "outputs": [
    {
     "data": {
      "image/png": "[encoded data removed]",
      "text/plain": [
       "<matplotlib.figure.Figure at 0x7f97125b0a10>"
      ]
     },
     "metadata": {},
     "output_type": "display_data"
    }
   ],
   "source": [
    "(mydata / mydata.iloc[0] * 100).plot(figsize=(15,6))\n",
    "plt.show()"
   ]
  },
  {
   "cell_type": "markdown",
   "metadata": {},
   "source": [
    "How would you interpret the behavior of the stocks? Just by looking at the chart, would you be able to create a portfolio that provides a solid return on investment?"
   ]
  },
  {
   "cell_type": "markdown",
   "metadata": {},
   "source": [
    "*****"
   ]
  },
  {
   "cell_type": "markdown",
   "metadata": {},
   "source": [
    "### Calculating the Return of a Portfolio of Securities"
   ]
  },
  {
   "cell_type": "markdown",
   "metadata": {},
   "source": [
    "Obtain the simple return of the securities in the portfolio and store the results in a new table."
   ]
  },
  {
   "cell_type": "code",
   "execution_count": 18,
   "metadata": {
    "collapsed": false
   },
   "outputs": [
    {
     "data": {
      "text/html": [
       "<div>\n",
       "<table border=\"1\" class=\"dataframe\">\n",
       "  <thead>\n",
       "    <tr style=\"text-align: right;\">\n",
       "      <th></th>\n",
       "      <th>BP</th>\n",
       "      <th>F</th>\n",
       "      <th>XOM</th>\n",
       "      <th>LNC</th>\n",
       "      <th>AAPL</th>\n",
       "    </tr>\n",
       "    <tr>\n",
       "      <th>Date</th>\n",
       "      <th></th>\n",
       "      <th></th>\n",
       "      <th></th>\n",
       "      <th></th>\n",
       "      <th></th>\n",
       "    </tr>\n",
       "  </thead>\n",
       "  <tbody>\n",
       "    <tr>\n",
       "      <th>2000-01-03</th>\n",
       "      <td>NaN</td>\n",
       "      <td>NaN</td>\n",
       "      <td>NaN</td>\n",
       "      <td>NaN</td>\n",
       "      <td>NaN</td>\n",
       "    </tr>\n",
       "    <tr>\n",
       "      <th>2000-01-04</th>\n",
       "      <td>-0.005313</td>\n",
       "      <td>-0.033413</td>\n",
       "      <td>-0.019154</td>\n",
       "      <td>-0.028800</td>\n",
       "      <td>-0.084311</td>\n",
       "    </tr>\n",
       "    <tr>\n",
       "      <th>2000-01-05</th>\n",
       "      <td>0.034188</td>\n",
       "      <td>0.003704</td>\n",
       "      <td>0.054516</td>\n",
       "      <td>-0.034596</td>\n",
       "      <td>0.014634</td>\n",
       "    </tr>\n",
       "    <tr>\n",
       "      <th>2000-01-06</th>\n",
       "      <td>0.002066</td>\n",
       "      <td>0.001230</td>\n",
       "      <td>0.051698</td>\n",
       "      <td>0.010239</td>\n",
       "      <td>-0.086539</td>\n",
       "    </tr>\n",
       "    <tr>\n",
       "      <th>2000-01-07</th>\n",
       "      <td>-0.018557</td>\n",
       "      <td>0.073710</td>\n",
       "      <td>-0.002935</td>\n",
       "      <td>0.025338</td>\n",
       "      <td>0.047368</td>\n",
       "    </tr>\n",
       "  </tbody>\n",
       "</table>\n",
       "</div>"
      ],
      "text/plain": [
       "                  BP         F       XOM       LNC      AAPL\n",
       "Date                                                        \n",
       "2000-01-03       NaN       NaN       NaN       NaN       NaN\n",
       "2000-01-04 -0.005313 -0.033413 -0.019154 -0.028800 -0.084311\n",
       "2000-01-05  0.034188  0.003704  0.054516 -0.034596  0.014634\n",
       "2000-01-06  0.002066  0.001230  0.051698  0.010239 -0.086539\n",
       "2000-01-07 -0.018557  0.073710 -0.002935  0.025338  0.047368"
      ]
     },
     "execution_count": 18,
     "metadata": {},
     "output_type": "execute_result"
    }
   ],
   "source": [
    "simple_returns = (mydata / mydata.shift(1)) - 1\n",
    "simple_returns.head()"
   ]
  },
  {
   "cell_type": "markdown",
   "metadata": {},
   "source": [
    "First, assume you would like to create an equally-weighted portfolio. Create the array, naming it “weights”."
   ]
  },
  {
   "cell_type": "code",
   "execution_count": 20,
   "metadata": {
    "collapsed": false
   },
   "outputs": [
    {
     "name": "stdout",
     "output_type": "stream",
     "text": [
      "[ 0.2  0.2  0.2  0.2  0.2]\n"
     ]
    }
   ],
   "source": [
    "weights = np.array([1.0/5.0 for _ in range(5)])\n",
    "print weights"
   ]
  },
  {
   "cell_type": "markdown",
   "metadata": {},
   "source": [
    "Obtain the annual returns of each of the stocks and then calculate the dot product of these returns and the weights."
   ]
  },
  {
   "cell_type": "code",
   "execution_count": 21,
   "metadata": {
    "collapsed": false
   },
   "outputs": [
    {
     "name": "stdout",
     "output_type": "stream",
     "text": [
      "BP      0.011241\n",
      "F       0.038840\n",
      "XOM     0.073409\n",
      "LNC     0.175263\n",
      "AAPL    0.298899\n",
      "dtype: float64\n"
     ]
    }
   ],
   "source": [
    "num_of_trade_days = 250\n",
    "avg_return_a = simple_returns.mean() * num_of_trade_days\n",
    "print avg_return_a"
   ]
  },
  {
   "cell_type": "code",
   "execution_count": 23,
   "metadata": {
    "collapsed": false
   },
   "outputs": [
    {
     "name": "stdout",
     "output_type": "stream",
     "text": [
      "0.11953053967\n"
     ]
    }
   ],
   "source": [
    "portfolio_return = np.dot(weights, avg_return_a)\n",
    "print portfolio_return"
   ]
  },
  {
   "cell_type": "markdown",
   "metadata": {},
   "source": [
    "Transform the result into a percentage form. "
   ]
  },
  {
   "cell_type": "code",
   "execution_count": 24,
   "metadata": {
    "collapsed": false
   },
   "outputs": [
    {
     "name": "stdout",
     "output_type": "stream",
     "text": [
      "11.953%\n"
     ]
    }
   ],
   "source": [
    "print str(round(portfolio_return, 5)*100)+'%'"
   ]
  },
  {
   "cell_type": "markdown",
   "metadata": {},
   "source": [
    "Is the return of this portfolio satisfactory?"
   ]
  }
 ],
 "metadata": {
  "kernelspec": {
   "display_name": "Python [Root]",
   "language": "python",
   "name": "Python [Root]"
  },
  "language_info": {
   "codemirror_mode": {
    "name": "ipython",
    "version": 2
   },
   "file_extension": ".py",
   "mimetype": "text/x-python",
   "name": "python",
   "nbconvert_exporter": "python",
   "pygments_lexer": "ipython2",
   "version": "2.7.13"
  }
 },
 "nbformat": 4,
 "nbformat_minor": 2
}
