{
 "cells": [
  {
   "cell_type": "markdown",
   "metadata": {},
   "source": [
    "## Simple Returns - Part II"
   ]
  },
  {
   "cell_type": "markdown",
   "metadata": {},
   "source": [
    "*Suggested Answers follow (usually there are multiple ways to solve a problem in Python).*"
   ]
  },
  {
   "cell_type": "markdown",
   "metadata": {},
   "source": [
    "$$\n",
    "\\frac{P_1 - P_0}{P_0} = \\frac{P_1}{P_0} - 1\n",
    "$$"
   ]
  },
  {
   "cell_type": "code",
   "execution_count": 1,
   "metadata": {
    "collapsed": false
   },
   "outputs": [
    {
     "name": "stdout",
     "output_type": "stream",
     "text": [
      "Date\n",
      "2000-01-03         NaN\n",
      "2000-01-04   -0.033780\n",
      "2000-01-05    0.010544\n",
      "2000-01-06   -0.033498\n",
      "2000-01-07    0.013068\n",
      "2000-01-10    0.007291\n",
      "2000-01-11   -0.025612\n",
      "2000-01-12   -0.032571\n",
      "2000-01-13    0.018901\n",
      "2000-01-14    0.041159\n",
      "2000-01-18    0.027283\n",
      "2000-01-19   -0.072087\n",
      "2000-01-20   -0.009346\n",
      "2000-01-21   -0.021226\n",
      "2000-01-24   -0.024096\n",
      "2000-01-25    0.015432\n",
      "2000-01-26   -0.033435\n",
      "2000-01-27   -0.006289\n",
      "2000-01-28   -0.005063\n",
      "2000-01-31   -0.003817\n",
      "2000-02-01    0.051724\n",
      "2000-02-02   -0.020644\n",
      "2000-02-03    0.027898\n",
      "2000-02-04    0.028347\n",
      "2000-02-07    0.000587\n",
      "2000-02-08    0.031067\n",
      "2000-02-09   -0.054008\n",
      "2000-02-10    0.019231\n",
      "2000-02-11   -0.057193\n",
      "2000-02-14   -0.003127\n",
      "                ...   \n",
      "2017-02-27   -0.006035\n",
      "2017-02-28   -0.003892\n",
      "2017-03-01    0.015005\n",
      "2017-03-02   -0.014321\n",
      "2017-03-03    0.003749\n",
      "2017-03-06    0.000311\n",
      "2017-03-07    0.002023\n",
      "2017-03-08    0.009161\n",
      "2017-03-09   -0.004001\n",
      "2017-03-10    0.003090\n",
      "2017-03-13   -0.003388\n",
      "2017-03-14   -0.004636\n",
      "2017-03-15    0.005279\n",
      "2017-03-16   -0.001699\n",
      "2017-03-17    0.003558\n",
      "2017-03-20    0.000925\n",
      "2017-03-21   -0.011089\n",
      "2017-03-22    0.012771\n",
      "2017-03-23   -0.002460\n",
      "2017-03-24    0.001696\n",
      "2017-03-27    0.001847\n",
      "2017-03-28    0.002919\n",
      "2017-03-29    0.002757\n",
      "2017-03-30    0.003666\n",
      "2017-03-31    0.002283\n",
      "2017-04-03   -0.004707\n",
      "2017-04-04    0.002746\n",
      "2017-04-05   -0.002586\n",
      "2017-04-06    0.002593\n",
      "2017-04-07   -0.000761\n",
      "Name: simple_return, dtype: float64\n"
     ]
    }
   ],
   "source": [
    "import numpy as np\n",
    "from pandas_datareader import data as wb\n",
    "MSFT = wb.DataReader('MSFT', data_source='yahoo', start='2000-1-1')\n",
    "MSFT['simple_return'] = (MSFT['Adj Close'] / MSFT['Adj Close'].shift(1)) - 1\n",
    "print MSFT['simple_return']"
   ]
  },
  {
   "cell_type": "markdown",
   "metadata": {},
   "source": [
    "Plot the simple returns on a graph."
   ]
  },
  {
   "cell_type": "code",
   "execution_count": 2,
   "metadata": {
    "collapsed": false
   },
   "outputs": [],
   "source": [
    "import matplotlib.pyplot as plt"
   ]
  },
  {
   "cell_type": "code",
   "execution_count": 3,
   "metadata": {
    "collapsed": false
   },
   "outputs": [
    {
     "data": {
      "image/png": "[encoded data removed]",
      "text/plain": [
       "<matplotlib.figure.Figure at 0x9afcd68>"
      ]
     },
     "metadata": {},
     "output_type": "display_data"
    }
   ],
   "source": [
    "MSFT['simple_return'].plot(figsize=(8, 5))\n",
    "plt.show()"
   ]
  },
  {
   "cell_type": "markdown",
   "metadata": {},
   "source": [
    "Calculate the average daily return."
   ]
  },
  {
   "cell_type": "code",
   "execution_count": 4,
   "metadata": {
    "collapsed": false
   },
   "outputs": [
    {
     "data": {
      "text/plain": [
       "0.0003107232959436288"
      ]
     },
     "execution_count": 4,
     "metadata": {},
     "output_type": "execute_result"
    }
   ],
   "source": [
    "avg_returns_d = MSFT['simple_return'].mean()\n",
    "avg_returns_d"
   ]
  },
  {
   "cell_type": "markdown",
   "metadata": {},
   "source": [
    "Estimate the average annual return."
   ]
  },
  {
   "cell_type": "code",
   "execution_count": 5,
   "metadata": {
    "collapsed": false
   },
   "outputs": [
    {
     "data": {
      "text/plain": [
       "0.0776808239859072"
      ]
     },
     "execution_count": 5,
     "metadata": {},
     "output_type": "execute_result"
    }
   ],
   "source": [
    "avg_returns_a = MSFT['simple_return'].mean() * 250\n",
    "avg_returns_a"
   ]
  },
  {
   "cell_type": "markdown",
   "metadata": {},
   "source": [
    "Print the percentage version of the result as a float with 2 digits after the decimal point."
   ]
  },
  {
   "cell_type": "code",
   "execution_count": 6,
   "metadata": {
    "collapsed": false
   },
   "outputs": [
    {
     "name": "stdout",
     "output_type": "stream",
     "text": [
      "7.77 %\n"
     ]
    }
   ],
   "source": [
    "print str(round(avg_returns_a, 4) * 100) + ' %'"
   ]
  }
 ],
 "metadata": {
  "kernelspec": {
   "display_name": "Python [Root]",
   "language": "python",
   "name": "Python [Root]"
  },
  "language_info": {
   "codemirror_mode": {
    "name": "ipython",
    "version": 2
   },
   "file_extension": ".py",
   "mimetype": "text/x-python",
   "name": "python",
   "nbconvert_exporter": "python",
   "pygments_lexer": "ipython2",
   "version": "2.7.13"
  }
 },
 "nbformat": 4,
 "nbformat_minor": 2
}
