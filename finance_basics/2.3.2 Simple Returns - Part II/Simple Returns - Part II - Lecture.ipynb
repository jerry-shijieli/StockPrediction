{
 "cells": [
  {
   "cell_type": "code",
   "execution_count": 1,
   "metadata": {
    "collapsed": true
   },
   "outputs": [],
   "source": [
    "import numpy as np\n",
    "from pandas_datareader import data as wb\n",
    "import matplotlib.pyplot as plt"
   ]
  },
  {
   "cell_type": "code",
   "execution_count": 2,
   "metadata": {
    "collapsed": false
   },
   "outputs": [],
   "source": [
    "PG = wb.DataReader('PG', data_source='yahoo', start='1995-1-1')"
   ]
  },
  {
   "cell_type": "code",
   "execution_count": 3,
   "metadata": {
    "collapsed": false
   },
   "outputs": [
    {
     "data": {
      "text/html": [
       "<div>\n",
       "<table border=\"1\" class=\"dataframe\">\n",
       "  <thead>\n",
       "    <tr style=\"text-align: right;\">\n",
       "      <th></th>\n",
       "      <th>Open</th>\n",
       "      <th>High</th>\n",
       "      <th>Low</th>\n",
       "      <th>Close</th>\n",
       "      <th>Volume</th>\n",
       "      <th>Adj Close</th>\n",
       "    </tr>\n",
       "    <tr>\n",
       "      <th>Date</th>\n",
       "      <th></th>\n",
       "      <th></th>\n",
       "      <th></th>\n",
       "      <th></th>\n",
       "      <th></th>\n",
       "      <th></th>\n",
       "    </tr>\n",
       "  </thead>\n",
       "  <tbody>\n",
       "    <tr>\n",
       "      <th>1995-01-03</th>\n",
       "      <td>61.875</td>\n",
       "      <td>62.500</td>\n",
       "      <td>61.750</td>\n",
       "      <td>62.375</td>\n",
       "      <td>3318400</td>\n",
       "      <td>9.168104</td>\n",
       "    </tr>\n",
       "    <tr>\n",
       "      <th>1995-01-04</th>\n",
       "      <td>62.125</td>\n",
       "      <td>62.625</td>\n",
       "      <td>61.250</td>\n",
       "      <td>61.875</td>\n",
       "      <td>2218800</td>\n",
       "      <td>9.094613</td>\n",
       "    </tr>\n",
       "    <tr>\n",
       "      <th>1995-01-05</th>\n",
       "      <td>61.500</td>\n",
       "      <td>61.750</td>\n",
       "      <td>60.875</td>\n",
       "      <td>61.000</td>\n",
       "      <td>2319600</td>\n",
       "      <td>8.966002</td>\n",
       "    </tr>\n",
       "    <tr>\n",
       "      <th>1995-01-06</th>\n",
       "      <td>60.625</td>\n",
       "      <td>61.625</td>\n",
       "      <td>60.625</td>\n",
       "      <td>61.125</td>\n",
       "      <td>3438000</td>\n",
       "      <td>8.984375</td>\n",
       "    </tr>\n",
       "    <tr>\n",
       "      <th>1995-01-09</th>\n",
       "      <td>61.375</td>\n",
       "      <td>61.625</td>\n",
       "      <td>60.750</td>\n",
       "      <td>60.875</td>\n",
       "      <td>1795200</td>\n",
       "      <td>8.947629</td>\n",
       "    </tr>\n",
       "  </tbody>\n",
       "</table>\n",
       "</div>"
      ],
      "text/plain": [
       "              Open    High     Low   Close   Volume  Adj Close\n",
       "Date                                                          \n",
       "1995-01-03  61.875  62.500  61.750  62.375  3318400   9.168104\n",
       "1995-01-04  62.125  62.625  61.250  61.875  2218800   9.094613\n",
       "1995-01-05  61.500  61.750  60.875  61.000  2319600   8.966002\n",
       "1995-01-06  60.625  61.625  60.625  61.125  3438000   8.984375\n",
       "1995-01-09  61.375  61.625  60.750  60.875  1795200   8.947629"
      ]
     },
     "execution_count": 3,
     "metadata": {},
     "output_type": "execute_result"
    }
   ],
   "source": [
    "PG.head()"
   ]
  },
  {
   "cell_type": "code",
   "execution_count": 4,
   "metadata": {
    "collapsed": false
   },
   "outputs": [
    {
     "data": {
      "text/html": [
       "<div>\n",
       "<table border=\"1\" class=\"dataframe\">\n",
       "  <thead>\n",
       "    <tr style=\"text-align: right;\">\n",
       "      <th></th>\n",
       "      <th>Open</th>\n",
       "      <th>High</th>\n",
       "      <th>Low</th>\n",
       "      <th>Close</th>\n",
       "      <th>Volume</th>\n",
       "      <th>Adj Close</th>\n",
       "    </tr>\n",
       "    <tr>\n",
       "      <th>Date</th>\n",
       "      <th></th>\n",
       "      <th></th>\n",
       "      <th></th>\n",
       "      <th></th>\n",
       "      <th></th>\n",
       "      <th></th>\n",
       "    </tr>\n",
       "  </thead>\n",
       "  <tbody>\n",
       "    <tr>\n",
       "      <th>2017-04-03</th>\n",
       "      <td>89.860001</td>\n",
       "      <td>90.059998</td>\n",
       "      <td>89.449997</td>\n",
       "      <td>89.680000</td>\n",
       "      <td>6965900</td>\n",
       "      <td>89.680000</td>\n",
       "    </tr>\n",
       "    <tr>\n",
       "      <th>2017-04-04</th>\n",
       "      <td>89.750000</td>\n",
       "      <td>89.959999</td>\n",
       "      <td>89.419998</td>\n",
       "      <td>89.910004</td>\n",
       "      <td>5661900</td>\n",
       "      <td>89.910004</td>\n",
       "    </tr>\n",
       "    <tr>\n",
       "      <th>2017-04-05</th>\n",
       "      <td>90.000000</td>\n",
       "      <td>90.500000</td>\n",
       "      <td>89.760002</td>\n",
       "      <td>89.970001</td>\n",
       "      <td>6150800</td>\n",
       "      <td>89.970001</td>\n",
       "    </tr>\n",
       "    <tr>\n",
       "      <th>2017-04-06</th>\n",
       "      <td>89.769997</td>\n",
       "      <td>89.809998</td>\n",
       "      <td>89.309998</td>\n",
       "      <td>89.400002</td>\n",
       "      <td>7218700</td>\n",
       "      <td>89.400002</td>\n",
       "    </tr>\n",
       "    <tr>\n",
       "      <th>2017-04-07</th>\n",
       "      <td>89.459999</td>\n",
       "      <td>89.610001</td>\n",
       "      <td>89.180000</td>\n",
       "      <td>89.230003</td>\n",
       "      <td>4732600</td>\n",
       "      <td>89.230003</td>\n",
       "    </tr>\n",
       "  </tbody>\n",
       "</table>\n",
       "</div>"
      ],
      "text/plain": [
       "                 Open       High        Low      Close   Volume  Adj Close\n",
       "Date                                                                      \n",
       "2017-04-03  89.860001  90.059998  89.449997  89.680000  6965900  89.680000\n",
       "2017-04-04  89.750000  89.959999  89.419998  89.910004  5661900  89.910004\n",
       "2017-04-05  90.000000  90.500000  89.760002  89.970001  6150800  89.970001\n",
       "2017-04-06  89.769997  89.809998  89.309998  89.400002  7218700  89.400002\n",
       "2017-04-07  89.459999  89.610001  89.180000  89.230003  4732600  89.230003"
      ]
     },
     "execution_count": 4,
     "metadata": {},
     "output_type": "execute_result"
    }
   ],
   "source": [
    "PG.tail()"
   ]
  },
  {
   "cell_type": "markdown",
   "metadata": {
    "collapsed": true
   },
   "source": [
    "## Simple Rate of Return"
   ]
  },
  {
   "cell_type": "markdown",
   "metadata": {},
   "source": [
    "$$\n",
    "\\frac{P_1 - P_0}{P_0} = \\frac{P_1}{P_0} - 1\n",
    "$$"
   ]
  },
  {
   "cell_type": "code",
   "execution_count": 5,
   "metadata": {
    "collapsed": false
   },
   "outputs": [
    {
     "name": "stdout",
     "output_type": "stream",
     "text": [
      "Date\n",
      "1995-01-03         NaN\n",
      "1995-01-04   -0.008016\n",
      "1995-01-05   -0.014141\n",
      "1995-01-06    0.002049\n",
      "1995-01-09   -0.004090\n",
      "1995-01-10    0.012320\n",
      "1995-01-11   -0.002028\n",
      "1995-01-12    0.010163\n",
      "1995-01-13    0.011736\n",
      "1995-01-16    0.008000\n",
      "1995-01-17    0.003968\n",
      "1995-01-18   -0.021739\n",
      "1995-01-19   -0.004040\n",
      "1995-01-20   -0.004057\n",
      "1995-01-23    0.010183\n",
      "1995-01-24   -0.002016\n",
      "1995-01-25    0.014141\n",
      "1995-01-26    0.003984\n",
      "1995-01-27    0.027778\n",
      "1995-01-30    0.015444\n",
      "1995-01-31   -0.009506\n",
      "1995-02-01   -0.019194\n",
      "1995-02-02    0.007828\n",
      "1995-02-03    0.009709\n",
      "1995-02-06    0.023077\n",
      "1995-02-07   -0.001880\n",
      "1995-02-08   -0.011299\n",
      "1995-02-09   -0.001905\n",
      "1995-02-10   -0.001908\n",
      "1995-02-13    0.007648\n",
      "                ...   \n",
      "2017-02-27   -0.001757\n",
      "2017-02-28    0.001980\n",
      "2017-03-01    0.006479\n",
      "2017-03-02   -0.008182\n",
      "2017-03-03   -0.004510\n",
      "2017-03-06   -0.001436\n",
      "2017-03-07   -0.000885\n",
      "2017-03-08   -0.001661\n",
      "2017-03-09    0.002219\n",
      "2017-03-10    0.008081\n",
      "2017-03-13    0.002635\n",
      "2017-03-14   -0.003395\n",
      "2017-03-15    0.004396\n",
      "2017-03-16    0.000438\n",
      "2017-03-17   -0.004812\n",
      "2017-03-20    0.002418\n",
      "2017-03-21   -0.000329\n",
      "2017-03-22   -0.002193\n",
      "2017-03-23   -0.002418\n",
      "2017-03-24   -0.002203\n",
      "2017-03-27   -0.000883\n",
      "2017-03-28    0.002984\n",
      "2017-03-29   -0.001763\n",
      "2017-03-30   -0.004415\n",
      "2017-03-31   -0.003880\n",
      "2017-04-03   -0.001892\n",
      "2017-04-04    0.002565\n",
      "2017-04-05    0.000667\n",
      "2017-04-06   -0.006335\n",
      "2017-04-07   -0.001902\n",
      "Name: simple_return, dtype: float64\n"
     ]
    }
   ],
   "source": [
    "PG['simple_return'] = (PG['Adj Close'] / PG['Adj Close'].shift(1)) - 1\n",
    "print PG['simple_return']"
   ]
  },
  {
   "cell_type": "code",
   "execution_count": 6,
   "metadata": {
    "collapsed": false
   },
   "outputs": [
    {
     "data": {
      "image/png": "[encoded data removed]",
      "text/plain": [
       "<matplotlib.figure.Figure at 0x64cbdd8>"
      ]
     },
     "metadata": {},
     "output_type": "display_data"
    }
   ],
   "source": [
    "PG['simple_return'].plot(figsize=(8, 5))\n",
    "plt.show()"
   ]
  },
  {
   "cell_type": "code",
   "execution_count": 7,
   "metadata": {
    "collapsed": false
   },
   "outputs": [
    {
     "data": {
      "text/plain": [
       "0.0005097837985317336"
      ]
     },
     "execution_count": 7,
     "metadata": {},
     "output_type": "execute_result"
    }
   ],
   "source": [
    "avg_returns_d = PG['simple_return'].mean()\n",
    "avg_returns_d"
   ]
  },
  {
   "cell_type": "code",
   "execution_count": 8,
   "metadata": {
    "collapsed": false
   },
   "outputs": [
    {
     "data": {
      "text/plain": [
       "0.12744594963293338"
      ]
     },
     "execution_count": 8,
     "metadata": {},
     "output_type": "execute_result"
    }
   ],
   "source": [
    "avg_returns_a = PG['simple_return'].mean() * 250\n",
    "avg_returns_a"
   ]
  },
  {
   "cell_type": "code",
   "execution_count": 9,
   "metadata": {
    "collapsed": false
   },
   "outputs": [
    {
     "name": "stdout",
     "output_type": "stream",
     "text": [
      "12.745 %\n"
     ]
    }
   ],
   "source": [
    "print str(round(avg_returns_a, 5) * 100) + ' %'"
   ]
  }
 ],
 "metadata": {
  "kernelspec": {
   "display_name": "Python [Root]",
   "language": "python",
   "name": "Python [Root]"
  },
  "language_info": {
   "codemirror_mode": {
    "name": "ipython",
    "version": 2
   },
   "file_extension": ".py",
   "mimetype": "text/x-python",
   "name": "python",
   "nbconvert_exporter": "python",
   "pygments_lexer": "ipython2",
   "version": "2.7.13"
  }
 },
 "nbformat": 4,
 "nbformat_minor": 2
}
