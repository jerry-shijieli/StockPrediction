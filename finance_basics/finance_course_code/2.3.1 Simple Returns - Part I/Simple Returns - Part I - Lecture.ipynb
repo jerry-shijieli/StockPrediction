{
 "cells": [
  {
   "cell_type": "code",
   "execution_count": 1,
   "metadata": {
    "collapsed": true
   },
   "outputs": [],
   "source": [
    "import numpy as np\n",
    "from pandas_datareader import data as wb\n",
    "import matplotlib.pyplot as plt"
   ]
  },
  {
   "cell_type": "code",
   "execution_count": 2,
   "metadata": {
    "collapsed": false
   },
   "outputs": [],
   "source": [
    "PG = wb.DataReader('PG', data_source='yahoo', start='1995-1-1')"
   ]
  },
  {
   "cell_type": "code",
   "execution_count": 3,
   "metadata": {
    "collapsed": false
   },
   "outputs": [
    {
     "data": {
      "text/html": [
       "<div>\n",
       "<table border=\"1\" class=\"dataframe\">\n",
       "  <thead>\n",
       "    <tr style=\"text-align: right;\">\n",
       "      <th></th>\n",
       "      <th>Open</th>\n",
       "      <th>High</th>\n",
       "      <th>Low</th>\n",
       "      <th>Close</th>\n",
       "      <th>Volume</th>\n",
       "      <th>Adj Close</th>\n",
       "    </tr>\n",
       "    <tr>\n",
       "      <th>Date</th>\n",
       "      <th></th>\n",
       "      <th></th>\n",
       "      <th></th>\n",
       "      <th></th>\n",
       "      <th></th>\n",
       "      <th></th>\n",
       "    </tr>\n",
       "  </thead>\n",
       "  <tbody>\n",
       "    <tr>\n",
       "      <th>1995-01-03</th>\n",
       "      <td>61.875</td>\n",
       "      <td>62.500</td>\n",
       "      <td>61.750</td>\n",
       "      <td>62.375</td>\n",
       "      <td>3318400</td>\n",
       "      <td>9.168104</td>\n",
       "    </tr>\n",
       "    <tr>\n",
       "      <th>1995-01-04</th>\n",
       "      <td>62.125</td>\n",
       "      <td>62.625</td>\n",
       "      <td>61.250</td>\n",
       "      <td>61.875</td>\n",
       "      <td>2218800</td>\n",
       "      <td>9.094613</td>\n",
       "    </tr>\n",
       "    <tr>\n",
       "      <th>1995-01-05</th>\n",
       "      <td>61.500</td>\n",
       "      <td>61.750</td>\n",
       "      <td>60.875</td>\n",
       "      <td>61.000</td>\n",
       "      <td>2319600</td>\n",
       "      <td>8.966002</td>\n",
       "    </tr>\n",
       "    <tr>\n",
       "      <th>1995-01-06</th>\n",
       "      <td>60.625</td>\n",
       "      <td>61.625</td>\n",
       "      <td>60.625</td>\n",
       "      <td>61.125</td>\n",
       "      <td>3438000</td>\n",
       "      <td>8.984375</td>\n",
       "    </tr>\n",
       "    <tr>\n",
       "      <th>1995-01-09</th>\n",
       "      <td>61.375</td>\n",
       "      <td>61.625</td>\n",
       "      <td>60.750</td>\n",
       "      <td>60.875</td>\n",
       "      <td>1795200</td>\n",
       "      <td>8.947629</td>\n",
       "    </tr>\n",
       "  </tbody>\n",
       "</table>\n",
       "</div>"
      ],
      "text/plain": [
       "              Open    High     Low   Close   Volume  Adj Close\n",
       "Date                                                          \n",
       "1995-01-03  61.875  62.500  61.750  62.375  3318400   9.168104\n",
       "1995-01-04  62.125  62.625  61.250  61.875  2218800   9.094613\n",
       "1995-01-05  61.500  61.750  60.875  61.000  2319600   8.966002\n",
       "1995-01-06  60.625  61.625  60.625  61.125  3438000   8.984375\n",
       "1995-01-09  61.375  61.625  60.750  60.875  1795200   8.947629"
      ]
     },
     "execution_count": 3,
     "metadata": {},
     "output_type": "execute_result"
    }
   ],
   "source": [
    "PG.head()"
   ]
  },
  {
   "cell_type": "code",
   "execution_count": 4,
   "metadata": {
    "collapsed": false
   },
   "outputs": [
    {
     "data": {
      "text/html": [
       "<div>\n",
       "<table border=\"1\" class=\"dataframe\">\n",
       "  <thead>\n",
       "    <tr style=\"text-align: right;\">\n",
       "      <th></th>\n",
       "      <th>Open</th>\n",
       "      <th>High</th>\n",
       "      <th>Low</th>\n",
       "      <th>Close</th>\n",
       "      <th>Volume</th>\n",
       "      <th>Adj Close</th>\n",
       "    </tr>\n",
       "    <tr>\n",
       "      <th>Date</th>\n",
       "      <th></th>\n",
       "      <th></th>\n",
       "      <th></th>\n",
       "      <th></th>\n",
       "      <th></th>\n",
       "      <th></th>\n",
       "    </tr>\n",
       "  </thead>\n",
       "  <tbody>\n",
       "    <tr>\n",
       "      <th>2017-03-17</th>\n",
       "      <td>91.449997</td>\n",
       "      <td>92.000000</td>\n",
       "      <td>90.919998</td>\n",
       "      <td>91.000000</td>\n",
       "      <td>36378800</td>\n",
       "      <td>91.000000</td>\n",
       "    </tr>\n",
       "    <tr>\n",
       "      <th>2017-03-20</th>\n",
       "      <td>90.959999</td>\n",
       "      <td>91.410004</td>\n",
       "      <td>90.940002</td>\n",
       "      <td>91.220001</td>\n",
       "      <td>7504700</td>\n",
       "      <td>91.220001</td>\n",
       "    </tr>\n",
       "    <tr>\n",
       "      <th>2017-03-21</th>\n",
       "      <td>91.300003</td>\n",
       "      <td>91.750000</td>\n",
       "      <td>91.029999</td>\n",
       "      <td>91.190002</td>\n",
       "      <td>7885700</td>\n",
       "      <td>91.190002</td>\n",
       "    </tr>\n",
       "    <tr>\n",
       "      <th>2017-03-22</th>\n",
       "      <td>91.309998</td>\n",
       "      <td>91.800003</td>\n",
       "      <td>90.750000</td>\n",
       "      <td>90.989998</td>\n",
       "      <td>7782700</td>\n",
       "      <td>90.989998</td>\n",
       "    </tr>\n",
       "    <tr>\n",
       "      <th>2017-03-23</th>\n",
       "      <td>90.910004</td>\n",
       "      <td>91.459999</td>\n",
       "      <td>90.599998</td>\n",
       "      <td>90.769997</td>\n",
       "      <td>6433600</td>\n",
       "      <td>90.769997</td>\n",
       "    </tr>\n",
       "  </tbody>\n",
       "</table>\n",
       "</div>"
      ],
      "text/plain": [
       "                 Open       High        Low      Close    Volume  Adj Close\n",
       "Date                                                                       \n",
       "2017-03-17  91.449997  92.000000  90.919998  91.000000  36378800  91.000000\n",
       "2017-03-20  90.959999  91.410004  90.940002  91.220001   7504700  91.220001\n",
       "2017-03-21  91.300003  91.750000  91.029999  91.190002   7885700  91.190002\n",
       "2017-03-22  91.309998  91.800003  90.750000  90.989998   7782700  90.989998\n",
       "2017-03-23  90.910004  91.459999  90.599998  90.769997   6433600  90.769997"
      ]
     },
     "execution_count": 4,
     "metadata": {},
     "output_type": "execute_result"
    }
   ],
   "source": [
    "PG.tail()"
   ]
  },
  {
   "cell_type": "markdown",
   "metadata": {
    "collapsed": true
   },
   "source": [
    "## Simple Rate of Return"
   ]
  },
  {
   "cell_type": "markdown",
   "metadata": {},
   "source": [
    "$$\n",
    "\\frac{P_1 - P_0}{P_0} = \\frac{P_1}{P_0} - 1\n",
    "$$"
   ]
  },
  {
   "cell_type": "code",
   "execution_count": 5,
   "metadata": {
    "collapsed": false
   },
   "outputs": [
    {
     "name": "stdout",
     "output_type": "stream",
     "text": [
      "Date\n",
      "1995-01-03         NaN\n",
      "1995-01-04   -0.008016\n",
      "1995-01-05   -0.014141\n",
      "1995-01-06    0.002049\n",
      "1995-01-09   -0.004090\n",
      "1995-01-10    0.012320\n",
      "1995-01-11   -0.002028\n",
      "1995-01-12    0.010163\n",
      "1995-01-13    0.011736\n",
      "1995-01-16    0.008000\n",
      "1995-01-17    0.003968\n",
      "1995-01-18   -0.021739\n",
      "1995-01-19   -0.004040\n",
      "1995-01-20   -0.004057\n",
      "1995-01-23    0.010183\n",
      "1995-01-24   -0.002016\n",
      "1995-01-25    0.014141\n",
      "1995-01-26    0.003984\n",
      "1995-01-27    0.027778\n",
      "1995-01-30    0.015444\n",
      "1995-01-31   -0.009506\n",
      "1995-02-01   -0.019194\n",
      "1995-02-02    0.007828\n",
      "1995-02-03    0.009709\n",
      "1995-02-06    0.023077\n",
      "1995-02-07   -0.001880\n",
      "1995-02-08   -0.011299\n",
      "1995-02-09   -0.001905\n",
      "1995-02-10   -0.001908\n",
      "1995-02-13    0.007648\n",
      "                ...   \n",
      "2017-02-09    0.003849\n",
      "2017-02-10   -0.007894\n",
      "2017-02-13    0.003865\n",
      "2017-02-14   -0.005096\n",
      "2017-02-15    0.037105\n",
      "2017-02-16   -0.003622\n",
      "2017-02-17    0.003304\n",
      "2017-02-21    0.006367\n",
      "2017-02-22   -0.002509\n",
      "2017-02-23   -0.003390\n",
      "2017-02-24   -0.000878\n",
      "2017-02-27   -0.001757\n",
      "2017-02-28    0.001980\n",
      "2017-03-01    0.006479\n",
      "2017-03-02   -0.008182\n",
      "2017-03-03   -0.004510\n",
      "2017-03-06   -0.001436\n",
      "2017-03-07   -0.000885\n",
      "2017-03-08   -0.001661\n",
      "2017-03-09    0.002219\n",
      "2017-03-10    0.008081\n",
      "2017-03-13    0.002635\n",
      "2017-03-14   -0.003395\n",
      "2017-03-15    0.004396\n",
      "2017-03-16    0.000438\n",
      "2017-03-17   -0.004812\n",
      "2017-03-20    0.002418\n",
      "2017-03-21   -0.000329\n",
      "2017-03-22   -0.002193\n",
      "2017-03-23   -0.002418\n",
      "Name: simple_return, dtype: float64\n"
     ]
    }
   ],
   "source": [
    "PG['simple_return'] = (PG['Adj Close'] / PG['Adj Close'].shift(1)) - 1\n",
    "print PG['simple_return']"
   ]
  },
  {
   "cell_type": "code",
   "execution_count": null,
   "metadata": {
    "collapsed": true
   },
   "outputs": [],
   "source": []
  }
 ],
 "metadata": {
  "kernelspec": {
   "display_name": "Python [Root]",
   "language": "python",
   "name": "Python [Root]"
  },
  "language_info": {
   "codemirror_mode": {
    "name": "ipython",
    "version": 2
   },
   "file_extension": ".py",
   "mimetype": "text/x-python",
   "name": "python",
   "nbconvert_exporter": "python",
   "pygments_lexer": "ipython2",
   "version": "2.7.13"
  }
 },
 "nbformat": 4,
 "nbformat_minor": 2
}
