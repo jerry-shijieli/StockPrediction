{
 "cells": [
  {
   "cell_type": "markdown",
   "metadata": {},
   "source": [
    "## Logarithmic Returns"
   ]
  },
  {
   "cell_type": "code",
   "execution_count": 1,
   "metadata": {
    "collapsed": false
   },
   "outputs": [
    {
     "data": {
      "text/html": [
       "<div>\n",
       "<table border=\"1\" class=\"dataframe\">\n",
       "  <thead>\n",
       "    <tr style=\"text-align: right;\">\n",
       "      <th></th>\n",
       "      <th>Open</th>\n",
       "      <th>High</th>\n",
       "      <th>Low</th>\n",
       "      <th>Close</th>\n",
       "      <th>Adj Close</th>\n",
       "      <th>Volume</th>\n",
       "    </tr>\n",
       "    <tr>\n",
       "      <th>Date</th>\n",
       "      <th></th>\n",
       "      <th></th>\n",
       "      <th></th>\n",
       "      <th></th>\n",
       "      <th></th>\n",
       "      <th></th>\n",
       "    </tr>\n",
       "  </thead>\n",
       "  <tbody>\n",
       "    <tr>\n",
       "      <th>2017-04-03</th>\n",
       "      <td>65.809998</td>\n",
       "      <td>65.940002</td>\n",
       "      <td>65.190002</td>\n",
       "      <td>65.550003</td>\n",
       "      <td>65.550003</td>\n",
       "      <td>20400900</td>\n",
       "    </tr>\n",
       "    <tr>\n",
       "      <th>2017-04-04</th>\n",
       "      <td>65.389999</td>\n",
       "      <td>65.809998</td>\n",
       "      <td>65.279999</td>\n",
       "      <td>65.730003</td>\n",
       "      <td>65.730003</td>\n",
       "      <td>12997400</td>\n",
       "    </tr>\n",
       "    <tr>\n",
       "      <th>2017-04-05</th>\n",
       "      <td>66.300003</td>\n",
       "      <td>66.349998</td>\n",
       "      <td>65.440002</td>\n",
       "      <td>65.559998</td>\n",
       "      <td>65.559998</td>\n",
       "      <td>21448600</td>\n",
       "    </tr>\n",
       "    <tr>\n",
       "      <th>2017-04-06</th>\n",
       "      <td>65.599998</td>\n",
       "      <td>66.059998</td>\n",
       "      <td>65.480003</td>\n",
       "      <td>65.730003</td>\n",
       "      <td>65.730003</td>\n",
       "      <td>18103500</td>\n",
       "    </tr>\n",
       "    <tr>\n",
       "      <th>2017-04-07</th>\n",
       "      <td>65.849998</td>\n",
       "      <td>65.959999</td>\n",
       "      <td>65.440002</td>\n",
       "      <td>65.680000</td>\n",
       "      <td>65.680000</td>\n",
       "      <td>14108500</td>\n",
       "    </tr>\n",
       "  </tbody>\n",
       "</table>\n",
       "</div>"
      ],
      "text/plain": [
       "                 Open       High        Low      Close  Adj Close    Volume\n",
       "Date                                                                       \n",
       "2017-04-03  65.809998  65.940002  65.190002  65.550003  65.550003  20400900\n",
       "2017-04-04  65.389999  65.809998  65.279999  65.730003  65.730003  12997400\n",
       "2017-04-05  66.300003  66.349998  65.440002  65.559998  65.559998  21448600\n",
       "2017-04-06  65.599998  66.059998  65.480003  65.730003  65.730003  18103500\n",
       "2017-04-07  65.849998  65.959999  65.440002  65.680000  65.680000  14108500"
      ]
     },
     "execution_count": 1,
     "metadata": {},
     "output_type": "execute_result"
    }
   ],
   "source": [
    "import numpy as np\n",
    "import pandas as pd\n",
    "from pandas_datareader import data as wb\n",
    "import matplotlib.pyplot as plt\n",
    "# MSFT = wb.DataReader('MSFT', data_source='yahoo', start='2000-1-1')\n",
    "data_path = '../dataset/MSFT.csv'\n",
    "MSFT = pd.read_csv(data_path, index_col=0)\n",
    "MSFT.index = pd.to_datetime(MSFT.index)\n",
    "MSFT = MSFT.ix[MSFT.index<='20170407']\n",
    "MSFT.tail()"
   ]
  },
  {
   "cell_type": "markdown",
   "metadata": {},
   "source": [
    "### Log Returns"
   ]
  },
  {
   "cell_type": "markdown",
   "metadata": {},
   "source": [
    "$$\n",
    "ln(\\frac{P_t}{P_{t-1}})\n",
    "$$"
   ]
  },
  {
   "cell_type": "markdown",
   "metadata": {},
   "source": [
    "Calculate the Log returns for Microsoft."
   ]
  },
  {
   "cell_type": "code",
   "execution_count": 2,
   "metadata": {
    "collapsed": false,
    "scrolled": true
   },
   "outputs": [
    {
     "name": "stdout",
     "output_type": "stream",
     "text": [
      "Date\n",
      "2000-01-03         NaN\n",
      "2000-01-04   -0.034364\n",
      "2000-01-05    0.010489\n",
      "2000-01-06   -0.034072\n",
      "2000-01-07    0.012984\n",
      "2000-01-10    0.007265\n",
      "2000-01-11   -0.025946\n",
      "2000-01-12   -0.033114\n",
      "2000-01-13    0.018725\n",
      "2000-01-14    0.040335\n",
      "2000-01-18    0.026917\n",
      "2000-01-19   -0.074817\n",
      "2000-01-20   -0.009390\n",
      "2000-01-21   -0.021455\n",
      "2000-01-24   -0.024391\n",
      "2000-01-25    0.015314\n",
      "2000-01-26   -0.034006\n",
      "2000-01-27   -0.006309\n",
      "2000-01-28   -0.005076\n",
      "2000-01-31   -0.003824\n",
      "2000-02-01    0.050431\n",
      "2000-02-02   -0.020860\n",
      "2000-02-03    0.027516\n",
      "2000-02-04    0.027953\n",
      "2000-02-07    0.000586\n",
      "2000-02-08    0.030594\n",
      "2000-02-09   -0.055521\n",
      "2000-02-10    0.019048\n",
      "2000-02-11   -0.058894\n",
      "2000-02-14   -0.003132\n",
      "                ...   \n",
      "2017-02-27   -0.006054\n",
      "2017-02-28   -0.003900\n",
      "2017-03-01    0.014893\n",
      "2017-03-02   -0.014424\n",
      "2017-03-03    0.003742\n",
      "2017-03-06    0.000311\n",
      "2017-03-07    0.002021\n",
      "2017-03-08    0.009120\n",
      "2017-03-09   -0.004009\n",
      "2017-03-10    0.003085\n",
      "2017-03-13   -0.003394\n",
      "2017-03-14   -0.004647\n",
      "2017-03-15    0.005265\n",
      "2017-03-16   -0.001700\n",
      "2017-03-17    0.003552\n",
      "2017-03-20    0.000924\n",
      "2017-03-21   -0.011151\n",
      "2017-03-22    0.012690\n",
      "2017-03-23   -0.002463\n",
      "2017-03-24    0.001694\n",
      "2017-03-27    0.001845\n",
      "2017-03-28    0.002914\n",
      "2017-03-29    0.002753\n",
      "2017-03-30    0.003659\n",
      "2017-03-31    0.002280\n",
      "2017-04-03   -0.004718\n",
      "2017-04-04    0.002742\n",
      "2017-04-05   -0.002590\n",
      "2017-04-06    0.002590\n",
      "2017-04-07   -0.000761\n",
      "Name: log_return, dtype: float64\n"
     ]
    }
   ],
   "source": [
    "MSFT['log_return'] = np.log(MSFT['Adj Close']/MSFT['Adj Close'].shift(1))\n",
    "print MSFT['log_return']"
   ]
  },
  {
   "cell_type": "markdown",
   "metadata": {},
   "source": [
    "Plot the results on a graph."
   ]
  },
  {
   "cell_type": "code",
   "execution_count": 3,
   "metadata": {
    "collapsed": false
   },
   "outputs": [
    {
     "data": {
      "image/png": "[encoded data removed]",
      "text/plain": [
       "<matplotlib.figure.Figure at 0x7f582452f790>"
      ]
     },
     "metadata": {},
     "output_type": "display_data"
    }
   ],
   "source": [
    "MSFT['log_return'].plot(figsize=(8,5))\n",
    "plt.tight_layout()\n",
    "plt.show()"
   ]
  },
  {
   "cell_type": "markdown",
   "metadata": {},
   "source": [
    "Estimate the daily and the annual mean of the obtained log returns."
   ]
  },
  {
   "cell_type": "code",
   "execution_count": 4,
   "metadata": {
    "collapsed": false
   },
   "outputs": [
    {
     "data": {
      "text/plain": [
       "2.7518774088414323e-05"
      ]
     },
     "execution_count": 4,
     "metadata": {},
     "output_type": "execute_result"
    }
   ],
   "source": [
    "log_return_d = MSFT['log_return'].mean()\n",
    "log_return_d"
   ]
  },
  {
   "cell_type": "code",
   "execution_count": 5,
   "metadata": {
    "collapsed": false
   },
   "outputs": [
    {
     "data": {
      "text/plain": [
       "0.006879693522103581"
      ]
     },
     "execution_count": 5,
     "metadata": {},
     "output_type": "execute_result"
    }
   ],
   "source": [
    "log_return_a = MSFT['log_return'].mean() * 250 # approximately 250 trading days in on e year\n",
    "log_return_a"
   ]
  },
  {
   "cell_type": "markdown",
   "metadata": {},
   "source": [
    "Print the result in a presentable form."
   ]
  },
  {
   "cell_type": "code",
   "execution_count": 6,
   "metadata": {
    "collapsed": false
   },
   "outputs": [
    {
     "name": "stdout",
     "output_type": "stream",
     "text": [
      "0.69%\n"
     ]
    }
   ],
   "source": [
    "print str(round(log_return_a, 4)*100) + '%'"
   ]
  },
  {
   "cell_type": "code",
   "execution_count": null,
   "metadata": {
    "collapsed": false
   },
   "outputs": [],
   "source": []
  },
  {
   "cell_type": "code",
   "execution_count": null,
   "metadata": {
    "collapsed": true
   },
   "outputs": [],
   "source": []
  },
  {
   "cell_type": "markdown",
   "metadata": {},
   "source": [
    "****"
   ]
  },
  {
   "cell_type": "markdown",
   "metadata": {},
   "source": [
    "Repeat this exercise for any stock of interest to you. :)"
   ]
  }
 ],
 "metadata": {
  "kernelspec": {
   "display_name": "Python [Root]",
   "language": "python",
   "name": "Python [Root]"
  },
  "language_info": {
   "codemirror_mode": {
    "name": "ipython",
    "version": 2
   },
   "file_extension": ".py",
   "mimetype": "text/x-python",
   "name": "python",
   "nbconvert_exporter": "python",
   "pygments_lexer": "ipython2",
   "version": "2.7.13"
  }
 },
 "nbformat": 4,
 "nbformat_minor": 2
}
