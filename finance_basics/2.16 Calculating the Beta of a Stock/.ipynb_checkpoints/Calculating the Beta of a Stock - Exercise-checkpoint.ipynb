{
 "cells": [
  {
   "cell_type": "markdown",
   "metadata": {},
   "source": [
    "## Calculating the Beta of a Stock"
   ]
  },
  {
   "cell_type": "markdown",
   "metadata": {},
   "source": [
    "*Suggested Answers follow (usually there are multiple ways to solve a problem in Python).*"
   ]
  },
  {
   "cell_type": "markdown",
   "metadata": {},
   "source": [
    "Obtain data for Microsoft and S&P 500 for the period 1st of January 2012 – 31st of December 2016 from Yahoo Finance. "
   ]
  },
  {
   "cell_type": "code",
   "execution_count": 2,
   "metadata": {
    "collapsed": false
   },
   "outputs": [
    {
     "name": "stdout",
     "output_type": "stream",
     "text": [
      "<class 'pandas.core.frame.DataFrame'>\n",
      "Index: 4344 entries, 2000-01-03 to 2017-04-07\n",
      "Data columns (total 2 columns):\n",
      "MSFT     4344 non-null float64\n",
      "^GSPC    4343 non-null float64\n",
      "dtypes: float64(2)\n",
      "memory usage: 101.8+ KB\n"
     ]
    }
   ],
   "source": [
    "import pandas as pd\n",
    "import numpy as np\n",
    "import os \n",
    "\n",
    "data_dir = '../dataset'\n",
    "tickers = ['MSFT', '^GSPC']\n",
    "data = pd.DataFrame()\n",
    "\n",
    "for t in tickers:\n",
    "    data[t] = pd.read_csv(os.path.join(data_dir, t+'.csv'), index_col=0, na_values='null')['Adj Close']\n",
    "data.info()"
   ]
  },
  {
   "cell_type": "markdown",
   "metadata": {},
   "source": [
    "Let S&P 500 act as the market. "
   ]
  },
  {
   "cell_type": "markdown",
   "metadata": {},
   "source": [
    "*****"
   ]
  },
  {
   "cell_type": "markdown",
   "metadata": {},
   "source": [
    "Calculate the beta of Microsoft."
   ]
  },
  {
   "cell_type": "code",
   "execution_count": 3,
   "metadata": {
    "collapsed": false
   },
   "outputs": [
    {
     "data": {
      "text/html": [
       "<div>\n",
       "<table border=\"1\" class=\"dataframe\">\n",
       "  <thead>\n",
       "    <tr style=\"text-align: right;\">\n",
       "      <th></th>\n",
       "      <th>MSFT</th>\n",
       "      <th>^GSPC</th>\n",
       "    </tr>\n",
       "    <tr>\n",
       "      <th>Date</th>\n",
       "      <th></th>\n",
       "      <th></th>\n",
       "    </tr>\n",
       "  </thead>\n",
       "  <tbody>\n",
       "    <tr>\n",
       "      <th>2000-01-03</th>\n",
       "      <td>NaN</td>\n",
       "      <td>NaN</td>\n",
       "    </tr>\n",
       "    <tr>\n",
       "      <th>2000-01-04</th>\n",
       "      <td>-0.034364</td>\n",
       "      <td>-0.039099</td>\n",
       "    </tr>\n",
       "    <tr>\n",
       "      <th>2000-01-05</th>\n",
       "      <td>0.010489</td>\n",
       "      <td>0.001920</td>\n",
       "    </tr>\n",
       "    <tr>\n",
       "      <th>2000-01-06</th>\n",
       "      <td>-0.034072</td>\n",
       "      <td>0.000955</td>\n",
       "    </tr>\n",
       "    <tr>\n",
       "      <th>2000-01-07</th>\n",
       "      <td>0.012984</td>\n",
       "      <td>0.026730</td>\n",
       "    </tr>\n",
       "    <tr>\n",
       "      <th>2000-01-10</th>\n",
       "      <td>0.007265</td>\n",
       "      <td>0.011128</td>\n",
       "    </tr>\n",
       "    <tr>\n",
       "      <th>2000-01-11</th>\n",
       "      <td>-0.025946</td>\n",
       "      <td>-0.013149</td>\n",
       "    </tr>\n",
       "    <tr>\n",
       "      <th>2000-01-12</th>\n",
       "      <td>-0.033114</td>\n",
       "      <td>-0.004396</td>\n",
       "    </tr>\n",
       "    <tr>\n",
       "      <th>2000-01-13</th>\n",
       "      <td>0.018725</td>\n",
       "      <td>0.012096</td>\n",
       "    </tr>\n",
       "    <tr>\n",
       "      <th>2000-01-14</th>\n",
       "      <td>0.040335</td>\n",
       "      <td>0.010615</td>\n",
       "    </tr>\n",
       "    <tr>\n",
       "      <th>2000-01-18</th>\n",
       "      <td>0.026917</td>\n",
       "      <td>-0.006856</td>\n",
       "    </tr>\n",
       "    <tr>\n",
       "      <th>2000-01-19</th>\n",
       "      <td>-0.074817</td>\n",
       "      <td>0.000522</td>\n",
       "    </tr>\n",
       "    <tr>\n",
       "      <th>2000-01-20</th>\n",
       "      <td>-0.009390</td>\n",
       "      <td>-0.007121</td>\n",
       "    </tr>\n",
       "    <tr>\n",
       "      <th>2000-01-21</th>\n",
       "      <td>-0.021455</td>\n",
       "      <td>-0.002917</td>\n",
       "    </tr>\n",
       "    <tr>\n",
       "      <th>2000-01-24</th>\n",
       "      <td>-0.024391</td>\n",
       "      <td>-0.028023</td>\n",
       "    </tr>\n",
       "    <tr>\n",
       "      <th>2000-01-25</th>\n",
       "      <td>0.015314</td>\n",
       "      <td>0.006046</td>\n",
       "    </tr>\n",
       "    <tr>\n",
       "      <th>2000-01-26</th>\n",
       "      <td>-0.034006</td>\n",
       "      <td>-0.004222</td>\n",
       "    </tr>\n",
       "    <tr>\n",
       "      <th>2000-01-27</th>\n",
       "      <td>-0.006309</td>\n",
       "      <td>-0.003946</td>\n",
       "    </tr>\n",
       "    <tr>\n",
       "      <th>2000-01-28</th>\n",
       "      <td>-0.005076</td>\n",
       "      <td>-0.027841</td>\n",
       "    </tr>\n",
       "    <tr>\n",
       "      <th>2000-01-31</th>\n",
       "      <td>-0.003824</td>\n",
       "      <td>0.024905</td>\n",
       "    </tr>\n",
       "    <tr>\n",
       "      <th>2000-02-01</th>\n",
       "      <td>0.050431</td>\n",
       "      <td>0.010572</td>\n",
       "    </tr>\n",
       "    <tr>\n",
       "      <th>2000-02-02</th>\n",
       "      <td>-0.020860</td>\n",
       "      <td>-0.000114</td>\n",
       "    </tr>\n",
       "    <tr>\n",
       "      <th>2000-02-03</th>\n",
       "      <td>0.027516</td>\n",
       "      <td>0.011185</td>\n",
       "    </tr>\n",
       "    <tr>\n",
       "      <th>2000-02-04</th>\n",
       "      <td>0.027953</td>\n",
       "      <td>-0.000421</td>\n",
       "    </tr>\n",
       "    <tr>\n",
       "      <th>2000-02-07</th>\n",
       "      <td>0.000586</td>\n",
       "      <td>-0.000091</td>\n",
       "    </tr>\n",
       "    <tr>\n",
       "      <th>2000-02-08</th>\n",
       "      <td>0.030594</td>\n",
       "      <td>0.012198</td>\n",
       "    </tr>\n",
       "    <tr>\n",
       "      <th>2000-02-09</th>\n",
       "      <td>-0.055521</td>\n",
       "      <td>-0.021035</td>\n",
       "    </tr>\n",
       "    <tr>\n",
       "      <th>2000-02-10</th>\n",
       "      <td>0.019048</td>\n",
       "      <td>0.003620</td>\n",
       "    </tr>\n",
       "    <tr>\n",
       "      <th>2000-02-11</th>\n",
       "      <td>-0.058894</td>\n",
       "      <td>-0.021192</td>\n",
       "    </tr>\n",
       "    <tr>\n",
       "      <th>2000-02-14</th>\n",
       "      <td>-0.003132</td>\n",
       "      <td>0.002031</td>\n",
       "    </tr>\n",
       "    <tr>\n",
       "      <th>...</th>\n",
       "      <td>...</td>\n",
       "      <td>...</td>\n",
       "    </tr>\n",
       "    <tr>\n",
       "      <th>2017-02-27</th>\n",
       "      <td>-0.006054</td>\n",
       "      <td>0.001017</td>\n",
       "    </tr>\n",
       "    <tr>\n",
       "      <th>2017-02-28</th>\n",
       "      <td>-0.003900</td>\n",
       "      <td>-0.002582</td>\n",
       "    </tr>\n",
       "    <tr>\n",
       "      <th>2017-03-01</th>\n",
       "      <td>0.014893</td>\n",
       "      <td>0.013581</td>\n",
       "    </tr>\n",
       "    <tr>\n",
       "      <th>2017-03-02</th>\n",
       "      <td>-0.014424</td>\n",
       "      <td>-0.005877</td>\n",
       "    </tr>\n",
       "    <tr>\n",
       "      <th>2017-03-03</th>\n",
       "      <td>0.003742</td>\n",
       "      <td>0.000504</td>\n",
       "    </tr>\n",
       "    <tr>\n",
       "      <th>2017-03-06</th>\n",
       "      <td>0.000311</td>\n",
       "      <td>-0.003283</td>\n",
       "    </tr>\n",
       "    <tr>\n",
       "      <th>2017-03-07</th>\n",
       "      <td>0.002021</td>\n",
       "      <td>-0.002918</td>\n",
       "    </tr>\n",
       "    <tr>\n",
       "      <th>2017-03-08</th>\n",
       "      <td>0.009120</td>\n",
       "      <td>-0.002287</td>\n",
       "    </tr>\n",
       "    <tr>\n",
       "      <th>2017-03-09</th>\n",
       "      <td>-0.004009</td>\n",
       "      <td>0.000800</td>\n",
       "    </tr>\n",
       "    <tr>\n",
       "      <th>2017-03-10</th>\n",
       "      <td>0.003085</td>\n",
       "      <td>0.003263</td>\n",
       "    </tr>\n",
       "    <tr>\n",
       "      <th>2017-03-13</th>\n",
       "      <td>-0.003394</td>\n",
       "      <td>0.000367</td>\n",
       "    </tr>\n",
       "    <tr>\n",
       "      <th>2017-03-14</th>\n",
       "      <td>-0.004647</td>\n",
       "      <td>-0.003385</td>\n",
       "    </tr>\n",
       "    <tr>\n",
       "      <th>2017-03-15</th>\n",
       "      <td>0.005265</td>\n",
       "      <td>0.008340</td>\n",
       "    </tr>\n",
       "    <tr>\n",
       "      <th>2017-03-16</th>\n",
       "      <td>-0.001700</td>\n",
       "      <td>-0.001628</td>\n",
       "    </tr>\n",
       "    <tr>\n",
       "      <th>2017-03-17</th>\n",
       "      <td>0.003552</td>\n",
       "      <td>-0.001315</td>\n",
       "    </tr>\n",
       "    <tr>\n",
       "      <th>2017-03-20</th>\n",
       "      <td>0.000924</td>\n",
       "      <td>-0.002012</td>\n",
       "    </tr>\n",
       "    <tr>\n",
       "      <th>2017-03-21</th>\n",
       "      <td>-0.011151</td>\n",
       "      <td>-0.012486</td>\n",
       "    </tr>\n",
       "    <tr>\n",
       "      <th>2017-03-22</th>\n",
       "      <td>0.012690</td>\n",
       "      <td>0.001888</td>\n",
       "    </tr>\n",
       "    <tr>\n",
       "      <th>2017-03-23</th>\n",
       "      <td>-0.002463</td>\n",
       "      <td>-0.001061</td>\n",
       "    </tr>\n",
       "    <tr>\n",
       "      <th>2017-03-24</th>\n",
       "      <td>0.001694</td>\n",
       "      <td>-0.000844</td>\n",
       "    </tr>\n",
       "    <tr>\n",
       "      <th>2017-03-27</th>\n",
       "      <td>0.001845</td>\n",
       "      <td>-0.001020</td>\n",
       "    </tr>\n",
       "    <tr>\n",
       "      <th>2017-03-28</th>\n",
       "      <td>0.002914</td>\n",
       "      <td>0.007225</td>\n",
       "    </tr>\n",
       "    <tr>\n",
       "      <th>2017-03-29</th>\n",
       "      <td>0.002753</td>\n",
       "      <td>0.001085</td>\n",
       "    </tr>\n",
       "    <tr>\n",
       "      <th>2017-03-30</th>\n",
       "      <td>0.003659</td>\n",
       "      <td>0.002931</td>\n",
       "    </tr>\n",
       "    <tr>\n",
       "      <th>2017-03-31</th>\n",
       "      <td>0.002280</td>\n",
       "      <td>-0.002258</td>\n",
       "    </tr>\n",
       "    <tr>\n",
       "      <th>2017-04-03</th>\n",
       "      <td>-0.004718</td>\n",
       "      <td>-0.001643</td>\n",
       "    </tr>\n",
       "    <tr>\n",
       "      <th>2017-04-04</th>\n",
       "      <td>0.002742</td>\n",
       "      <td>0.000559</td>\n",
       "    </tr>\n",
       "    <tr>\n",
       "      <th>2017-04-05</th>\n",
       "      <td>-0.002590</td>\n",
       "      <td>-0.003060</td>\n",
       "    </tr>\n",
       "    <tr>\n",
       "      <th>2017-04-06</th>\n",
       "      <td>0.002590</td>\n",
       "      <td>0.001928</td>\n",
       "    </tr>\n",
       "    <tr>\n",
       "      <th>2017-04-07</th>\n",
       "      <td>-0.000761</td>\n",
       "      <td>-0.000827</td>\n",
       "    </tr>\n",
       "  </tbody>\n",
       "</table>\n",
       "<p>4344 rows × 2 columns</p>\n",
       "</div>"
      ],
      "text/plain": [
       "                MSFT     ^GSPC\n",
       "Date                          \n",
       "2000-01-03       NaN       NaN\n",
       "2000-01-04 -0.034364 -0.039099\n",
       "2000-01-05  0.010489  0.001920\n",
       "2000-01-06 -0.034072  0.000955\n",
       "2000-01-07  0.012984  0.026730\n",
       "2000-01-10  0.007265  0.011128\n",
       "2000-01-11 -0.025946 -0.013149\n",
       "2000-01-12 -0.033114 -0.004396\n",
       "2000-01-13  0.018725  0.012096\n",
       "2000-01-14  0.040335  0.010615\n",
       "2000-01-18  0.026917 -0.006856\n",
       "2000-01-19 -0.074817  0.000522\n",
       "2000-01-20 -0.009390 -0.007121\n",
       "2000-01-21 -0.021455 -0.002917\n",
       "2000-01-24 -0.024391 -0.028023\n",
       "2000-01-25  0.015314  0.006046\n",
       "2000-01-26 -0.034006 -0.004222\n",
       "2000-01-27 -0.006309 -0.003946\n",
       "2000-01-28 -0.005076 -0.027841\n",
       "2000-01-31 -0.003824  0.024905\n",
       "2000-02-01  0.050431  0.010572\n",
       "2000-02-02 -0.020860 -0.000114\n",
       "2000-02-03  0.027516  0.011185\n",
       "2000-02-04  0.027953 -0.000421\n",
       "2000-02-07  0.000586 -0.000091\n",
       "2000-02-08  0.030594  0.012198\n",
       "2000-02-09 -0.055521 -0.021035\n",
       "2000-02-10  0.019048  0.003620\n",
       "2000-02-11 -0.058894 -0.021192\n",
       "2000-02-14 -0.003132  0.002031\n",
       "...              ...       ...\n",
       "2017-02-27 -0.006054  0.001017\n",
       "2017-02-28 -0.003900 -0.002582\n",
       "2017-03-01  0.014893  0.013581\n",
       "2017-03-02 -0.014424 -0.005877\n",
       "2017-03-03  0.003742  0.000504\n",
       "2017-03-06  0.000311 -0.003283\n",
       "2017-03-07  0.002021 -0.002918\n",
       "2017-03-08  0.009120 -0.002287\n",
       "2017-03-09 -0.004009  0.000800\n",
       "2017-03-10  0.003085  0.003263\n",
       "2017-03-13 -0.003394  0.000367\n",
       "2017-03-14 -0.004647 -0.003385\n",
       "2017-03-15  0.005265  0.008340\n",
       "2017-03-16 -0.001700 -0.001628\n",
       "2017-03-17  0.003552 -0.001315\n",
       "2017-03-20  0.000924 -0.002012\n",
       "2017-03-21 -0.011151 -0.012486\n",
       "2017-03-22  0.012690  0.001888\n",
       "2017-03-23 -0.002463 -0.001061\n",
       "2017-03-24  0.001694 -0.000844\n",
       "2017-03-27  0.001845 -0.001020\n",
       "2017-03-28  0.002914  0.007225\n",
       "2017-03-29  0.002753  0.001085\n",
       "2017-03-30  0.003659  0.002931\n",
       "2017-03-31  0.002280 -0.002258\n",
       "2017-04-03 -0.004718 -0.001643\n",
       "2017-04-04  0.002742  0.000559\n",
       "2017-04-05 -0.002590 -0.003060\n",
       "2017-04-06  0.002590  0.001928\n",
       "2017-04-07 -0.000761 -0.000827\n",
       "\n",
       "[4344 rows x 2 columns]"
      ]
     },
     "execution_count": 3,
     "metadata": {},
     "output_type": "execute_result"
    }
   ],
   "source": [
    "log_returns = np.log(data / data.shift(1))\n",
    "log_returns"
   ]
  },
  {
   "cell_type": "code",
   "execution_count": 4,
   "metadata": {
    "collapsed": false
   },
   "outputs": [
    {
     "data": {
      "text/html": [
       "<div>\n",
       "<table border=\"1\" class=\"dataframe\">\n",
       "  <thead>\n",
       "    <tr style=\"text-align: right;\">\n",
       "      <th></th>\n",
       "      <th>MSFT</th>\n",
       "      <th>^GSPC</th>\n",
       "    </tr>\n",
       "  </thead>\n",
       "  <tbody>\n",
       "    <tr>\n",
       "      <th>MSFT</th>\n",
       "      <td>0.096887</td>\n",
       "      <td>0.040231</td>\n",
       "    </tr>\n",
       "    <tr>\n",
       "      <th>^GSPC</th>\n",
       "      <td>0.040231</td>\n",
       "      <td>0.038208</td>\n",
       "    </tr>\n",
       "  </tbody>\n",
       "</table>\n",
       "</div>"
      ],
      "text/plain": [
       "           MSFT     ^GSPC\n",
       "MSFT   0.096887  0.040231\n",
       "^GSPC  0.040231  0.038208"
      ]
     },
     "execution_count": 4,
     "metadata": {},
     "output_type": "execute_result"
    }
   ],
   "source": [
    "cov_matrix = log_returns.cov() * 250\n",
    "cov_matrix"
   ]
  },
  {
   "cell_type": "code",
   "execution_count": 5,
   "metadata": {
    "collapsed": false
   },
   "outputs": [
    {
     "data": {
      "text/plain": [
       "0.040231458868064111"
      ]
     },
     "execution_count": 5,
     "metadata": {},
     "output_type": "execute_result"
    }
   ],
   "source": [
    "cov_MSFT_market = cov_matrix.iloc[0, 1]\n",
    "cov_MSFT_market"
   ]
  },
  {
   "cell_type": "code",
   "execution_count": 6,
   "metadata": {
    "collapsed": false
   },
   "outputs": [
    {
     "data": {
      "text/plain": [
       "0.038208478071765431"
      ]
     },
     "execution_count": 6,
     "metadata": {},
     "output_type": "execute_result"
    }
   ],
   "source": [
    "market_var = cov_matrix.iloc[1, 1]\n",
    "market_var"
   ]
  },
  {
   "cell_type": "markdown",
   "metadata": {},
   "source": [
    "** Beta: **\n",
    "### $$ \n",
    "\\beta_{pg} = \\frac{\\sigma_{pg,m}}{\\sigma_{m}^2}\n",
    "$$\n",
    "\n",
    "It measures the mark risk that cannot be avoided through diversification."
   ]
  },
  {
   "cell_type": "code",
   "execution_count": 7,
   "metadata": {
    "collapsed": false
   },
   "outputs": [
    {
     "data": {
      "text/plain": [
       "1.0529458617142247"
      ]
     },
     "execution_count": 7,
     "metadata": {},
     "output_type": "execute_result"
    }
   ],
   "source": [
    "beta = cov_MSFT_market / market_var\n",
    "beta"
   ]
  },
  {
   "cell_type": "code",
   "execution_count": null,
   "metadata": {
    "collapsed": true
   },
   "outputs": [],
   "source": []
  }
 ],
 "metadata": {
  "anaconda-cloud": {},
  "kernelspec": {
   "display_name": "Python [Root]",
   "language": "python",
   "name": "Python [Root]"
  },
  "language_info": {
   "codemirror_mode": {
    "name": "ipython",
    "version": 2
   },
   "file_extension": ".py",
   "mimetype": "text/x-python",
   "name": "python",
   "nbconvert_exporter": "python",
   "pygments_lexer": "ipython2",
   "version": "2.7.13"
  }
 },
 "nbformat": 4,
 "nbformat_minor": 1
}
