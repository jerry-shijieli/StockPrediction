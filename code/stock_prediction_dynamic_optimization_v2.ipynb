{
 "cells": [
  {
   "cell_type": "markdown",
   "metadata": {},
   "source": [
    "Continue with v1, but dynamically update the parameters weekly (5 trading days per week)"
   ]
  },
  {
   "cell_type": "code",
   "execution_count": 1,
   "metadata": {
    "collapsed": false
   },
   "outputs": [],
   "source": [
    "from rectangle_fuzzy import *\n",
    "\n",
    "import pandas as pd\n",
    "import numpy as np\n",
    "import operator\n",
    "import matplotlib.pyplot as plt\n",
    "%matplotlib inline\n",
    "from time import time\n",
    "\n",
    "from collections import defaultdict\n",
    "from sklearn.model_selection import train_test_split\n",
    "from sklearn.metrics import mean_squared_error, mean_absolute_error"
   ]
  },
  {
   "cell_type": "code",
   "execution_count": 2,
   "metadata": {
    "collapsed": false
   },
   "outputs": [],
   "source": [
    "# helper functions\n",
    "def binary_to_decimal(binary, di=0):\n",
    "    decimal = 0\n",
    "    for i in range(len(binary)):\n",
    "        if i<len(binary)-di+1:\n",
    "            power = len(binary)-(i+1)-di\n",
    "            decimal += int(binary[i]) * (2**power)\n",
    "        else:\n",
    "            power = len(binary)-(i+1)-di\n",
    "            decimal += int(binary[i]) * (2**(-power))\n",
    "    return decimal\n",
    "\n",
    "def universe_partition_adjusted(data, n=10, d1=10, d2=10):\n",
    "    x_max, x_min = data.max(axis=0), data.min(axis=0)   \n",
    "    delta = x_max - x_min\n",
    "    std_val = data.std(axis=0)\n",
    "    len_val = np.round(std_val / (n+5)) # partition interval\n",
    "    u_max, u_min = int(x_max+(d2+1)*(delta/100)), int(x_min-(d1+1)*(delta/100)) # bound of universe discourse\n",
    "    u_b = np.arange(u_min, u_max, step=float(len_val)) # cutting points\n",
    "    u_discourse = u_b\n",
    "    return u_discourse\n",
    "\n",
    "def compute_fitness(data, n, d1, d2, option='Price'):\n",
    "    reserved_days = 200\n",
    "    first_date = data['Date'][0] - pd.DateOffset(days=1)\n",
    "    train_data = data.iloc[:-reserved_days]\n",
    "    valid_data = data.iloc[-(reserved_days+1):]\n",
    "    fit_prices = list()\n",
    "    u_discourse = universe_partition_adjusted(train_data[option], n, d1, d2)\n",
    "    A_list = set_fuzzy_numbers(u_discourse)\n",
    "    train_data_membership_series = membership_assignment(train_data[option], fuzzy_numbers=u_discourse)\n",
    "    transition_FLR = FLR(train_data_membership_series)\n",
    "    train_data_days = train_data['Date'].apply(lambda x: x-first_date).dt.days.tolist()\n",
    "    jump_weights = FLR_weight(transition_FLR, train_data_days[:len(transition_FLR)])\n",
    "    transition_weights = FRG_weight(transition_FLR, train_data_days[:len(transition_FLR)])\n",
    "    for price in valid_data.iloc[:-1][option]:\n",
    "        index = get_membership(price, u_discourse)\n",
    "        next_price = forecast_price(forecast_jump(index, jump_weights, A_list), forecast_transition(index, transition_weights, A_list), gamma=0.9)\n",
    "        fit_prices.append(next_price)\n",
    "    return np.sqrt(mean_squared_error(valid_data.iloc[1:][option], fit_prices))\n",
    "\n",
    "def parameter_tuning_ASHLO(data, option):\n",
    "    # initialize hyperparameters\n",
    "    d1_digits = 4\n",
    "    n_digits = 6\n",
    "    d2_digits = 4\n",
    "    population = 20\n",
    "    iter_max = 100\n",
    "    pr = 0.1\n",
    "    pi = 0.9\n",
    "    # initialize data structures\n",
    "    dim_IKD = d1_digits+n_digits+d2_digits\n",
    "    RMSE_list = list() # training data RMSE as fitness function value\n",
    "    IKD = np.zeros((population, dim_IKD), dtype=int) # individual learning \n",
    "    SKD = np.array([]) # social network learning\n",
    "    RMSE_min = 0 # best fitness value\n",
    "    for i in range(population):\n",
    "        for j in range(dim_IKD):\n",
    "            r = np.random.rand()\n",
    "            if r>0.5:\n",
    "                IKD[i, j] = 0\n",
    "            else:\n",
    "                IKD[i, j] = 1\n",
    "        d1 = binary_to_decimal(IKD[i, 0:d1_digits])\n",
    "        d2 = binary_to_decimal(IKD[i, (d1_digits+n_digits): dim_IKD])\n",
    "        n_par = binary_to_decimal(IKD[i, d1_digits:(d1_digits+n_digits)])\n",
    "        rmse = compute_fitness(data, n_par, d1, d2)\n",
    "        RMSE_list.append(rmse)\n",
    "    RMSE_min = np.min(RMSE_list) # best individual fitness\n",
    "    SKD = np.array(IKD[np.argmin(RMSE_list)])\n",
    "    # learning iterations\n",
    "    for iter_count in range(iter_max):\n",
    "        temp_IKD = np.zeros((population, dim_IKD))\n",
    "        temp_rmse_list = list()\n",
    "        # learning process\n",
    "        for i in range(population):\n",
    "            for j in range(dim_IKD):\n",
    "                p = np.random.rand()\n",
    "                if p < pi:\n",
    "                    r = np.random.rand()\n",
    "                    if r > 0.5:\n",
    "                        temp_IKD[i, j] = 1\n",
    "                elif pi <= p <= pr:\n",
    "                    temp_IKD[i,j] = IKD[i, j]\n",
    "                else:\n",
    "                    temp_IKD[i,j] = SKD[j]\n",
    "        # update fitness of newly learned knowledge \n",
    "        for i in range(population):\n",
    "            d1 = binary_to_decimal(temp_IKD[i, 0:d1_digits])\n",
    "            d2 = binary_to_decimal(temp_IKD[i, (d1_digits+n_digits): dim_IKD])\n",
    "            n_par = binary_to_decimal(temp_IKD[i, d1_digits:(d1_digits+n_digits)])\n",
    "            rmse = compute_fitness(data, n_par, d1, d2)\n",
    "            temp_rmse_list.append(rmse)\n",
    "\n",
    "        # update knowledge base if necessary\n",
    "        RMSE_max = np.max(RMSE_list) # worst individual fitness\n",
    "        RMSE_max_index = np.argmax(RMSE_list)\n",
    "        for i in range(population):\n",
    "            if temp_rmse_list[i] < RMSE_max:\n",
    "                IKD[RMSE_max_index] = temp_IKD[i]\n",
    "                RMSE_list[RMSE_max_index] = temp_rmse_list[i]\n",
    "                RMSE_max = np.max(RMSE_list)\n",
    "                RMSE_max_index = np.argmax(RMSE_list)\n",
    "        temp_rmse_min = np.min(RMSE_list) # best individual fitness\n",
    "        if RMSE_min > temp_rmse_min:\n",
    "            SKD = np.array(IKD[np.argmin(RMSE_list)])\n",
    "            RMSE_min = temp_rmse_min\n",
    "    # output optimal parameter settings        \n",
    "    d1 = binary_to_decimal(SKD[0:d1_digits])\n",
    "    d2 = binary_to_decimal(SKD[(d1_digits+n_digits): ])\n",
    "    n_par = binary_to_decimal(SKD[d1_digits:(d1_digits+n_digits)])\n",
    "    return d1, n_par, d2"
   ]
  },
  {
   "cell_type": "code",
   "execution_count": 3,
   "metadata": {
    "collapsed": true
   },
   "outputs": [],
   "source": [
    "def mean_absolute_percentage_error(y_true, y_pred):\n",
    "    y_true, y_pred = np.array(y_true), np.array(y_pred)\n",
    "    return np.mean(np.abs((y_true-y_pred)/y_true))*100 # beware of zero division"
   ]
  },
  {
   "cell_type": "code",
   "execution_count": 4,
   "metadata": {
    "collapsed": false
   },
   "outputs": [
    {
     "ename": "ValueError",
     "evalue": "unconverted data remains: 13",
     "output_type": "error",
     "traceback": [
      "\u001b[0;31m---------------------------------------------------------------------------\u001b[0m",
      "\u001b[0;31mValueError\u001b[0m                                Traceback (most recent call last)",
      "\u001b[0;32m<ipython-input-4-1ee241d9ff36>\u001b[0m in \u001b[0;36m<module>\u001b[0;34m()\u001b[0m\n\u001b[1;32m      3\u001b[0m \u001b[0mdatafile\u001b[0m \u001b[0;34m=\u001b[0m \u001b[0;34m'../data/NI225.csv'\u001b[0m\u001b[0;34m\u001b[0m\u001b[0m\n\u001b[1;32m      4\u001b[0m \u001b[0mdateparse\u001b[0m \u001b[0;34m=\u001b[0m \u001b[0;32mlambda\u001b[0m \u001b[0mx\u001b[0m\u001b[0;34m:\u001b[0m \u001b[0mpd\u001b[0m\u001b[0;34m.\u001b[0m\u001b[0mdatetime\u001b[0m\u001b[0;34m.\u001b[0m\u001b[0mstrptime\u001b[0m\u001b[0;34m(\u001b[0m\u001b[0mx\u001b[0m\u001b[0;34m,\u001b[0m \u001b[0;34m'%m/%d/%y'\u001b[0m\u001b[0;34m)\u001b[0m\u001b[0;34m\u001b[0m\u001b[0m\n\u001b[0;32m----> 5\u001b[0;31m \u001b[0mdf\u001b[0m \u001b[0;34m=\u001b[0m \u001b[0mpd\u001b[0m\u001b[0;34m.\u001b[0m\u001b[0mread_csv\u001b[0m\u001b[0;34m(\u001b[0m\u001b[0mdatafile\u001b[0m\u001b[0;34m,\u001b[0m \u001b[0mheader\u001b[0m\u001b[0;34m=\u001b[0m\u001b[0;36m0\u001b[0m\u001b[0;34m,\u001b[0m \u001b[0mparse_dates\u001b[0m\u001b[0;34m=\u001b[0m\u001b[0;34m[\u001b[0m\u001b[0;34m'Date'\u001b[0m\u001b[0;34m]\u001b[0m\u001b[0;34m,\u001b[0m \u001b[0mdate_parser\u001b[0m\u001b[0;34m=\u001b[0m\u001b[0mdateparse\u001b[0m\u001b[0;34m)\u001b[0m\u001b[0;34m\u001b[0m\u001b[0m\n\u001b[0m\u001b[1;32m      6\u001b[0m \u001b[0;34m\u001b[0m\u001b[0m\n\u001b[1;32m      7\u001b[0m \u001b[0msplit_date\u001b[0m \u001b[0;34m=\u001b[0m \u001b[0mpd\u001b[0m\u001b[0;34m.\u001b[0m\u001b[0mdatetime\u001b[0m\u001b[0;34m.\u001b[0m\u001b[0mstrptime\u001b[0m\u001b[0;34m(\u001b[0m\u001b[0;34m'2014-12-31'\u001b[0m\u001b[0;34m,\u001b[0m \u001b[0;34m'%Y-%m-%d'\u001b[0m\u001b[0;34m)\u001b[0m\u001b[0;34m\u001b[0m\u001b[0m\n",
      "\u001b[0;32m/Users/Jerry/anaconda/lib/python2.7/site-packages/pandas/io/parsers.pyc\u001b[0m in \u001b[0;36mparser_f\u001b[0;34m(filepath_or_buffer, sep, delimiter, header, names, index_col, usecols, squeeze, prefix, mangle_dupe_cols, dtype, engine, converters, true_values, false_values, skipinitialspace, skiprows, nrows, na_values, keep_default_na, na_filter, verbose, skip_blank_lines, parse_dates, infer_datetime_format, keep_date_col, date_parser, dayfirst, iterator, chunksize, compression, thousands, decimal, lineterminator, quotechar, quoting, escapechar, comment, encoding, dialect, tupleize_cols, error_bad_lines, warn_bad_lines, skipfooter, skip_footer, doublequote, delim_whitespace, as_recarray, compact_ints, use_unsigned, low_memory, buffer_lines, memory_map, float_precision)\u001b[0m\n\u001b[1;32m    644\u001b[0m                     skip_blank_lines=skip_blank_lines)\n\u001b[1;32m    645\u001b[0m \u001b[0;34m\u001b[0m\u001b[0m\n\u001b[0;32m--> 646\u001b[0;31m         \u001b[0;32mreturn\u001b[0m \u001b[0m_read\u001b[0m\u001b[0;34m(\u001b[0m\u001b[0mfilepath_or_buffer\u001b[0m\u001b[0;34m,\u001b[0m \u001b[0mkwds\u001b[0m\u001b[0;34m)\u001b[0m\u001b[0;34m\u001b[0m\u001b[0m\n\u001b[0m\u001b[1;32m    647\u001b[0m \u001b[0;34m\u001b[0m\u001b[0m\n\u001b[1;32m    648\u001b[0m     \u001b[0mparser_f\u001b[0m\u001b[0;34m.\u001b[0m\u001b[0m__name__\u001b[0m \u001b[0;34m=\u001b[0m \u001b[0mname\u001b[0m\u001b[0;34m\u001b[0m\u001b[0m\n",
      "\u001b[0;32m/Users/Jerry/anaconda/lib/python2.7/site-packages/pandas/io/parsers.pyc\u001b[0m in \u001b[0;36m_read\u001b[0;34m(filepath_or_buffer, kwds)\u001b[0m\n\u001b[1;32m    399\u001b[0m         \u001b[0;32mreturn\u001b[0m \u001b[0mparser\u001b[0m\u001b[0;34m\u001b[0m\u001b[0m\n\u001b[1;32m    400\u001b[0m \u001b[0;34m\u001b[0m\u001b[0m\n\u001b[0;32m--> 401\u001b[0;31m     \u001b[0mdata\u001b[0m \u001b[0;34m=\u001b[0m \u001b[0mparser\u001b[0m\u001b[0;34m.\u001b[0m\u001b[0mread\u001b[0m\u001b[0;34m(\u001b[0m\u001b[0;34m)\u001b[0m\u001b[0;34m\u001b[0m\u001b[0m\n\u001b[0m\u001b[1;32m    402\u001b[0m     \u001b[0mparser\u001b[0m\u001b[0;34m.\u001b[0m\u001b[0mclose\u001b[0m\u001b[0;34m(\u001b[0m\u001b[0;34m)\u001b[0m\u001b[0;34m\u001b[0m\u001b[0m\n\u001b[1;32m    403\u001b[0m     \u001b[0;32mreturn\u001b[0m \u001b[0mdata\u001b[0m\u001b[0;34m\u001b[0m\u001b[0m\n",
      "\u001b[0;32m/Users/Jerry/anaconda/lib/python2.7/site-packages/pandas/io/parsers.pyc\u001b[0m in \u001b[0;36mread\u001b[0;34m(self, nrows)\u001b[0m\n\u001b[1;32m    937\u001b[0m                 \u001b[0;32mraise\u001b[0m \u001b[0mValueError\u001b[0m\u001b[0;34m(\u001b[0m\u001b[0;34m'skipfooter not supported for iteration'\u001b[0m\u001b[0;34m)\u001b[0m\u001b[0;34m\u001b[0m\u001b[0m\n\u001b[1;32m    938\u001b[0m \u001b[0;34m\u001b[0m\u001b[0m\n\u001b[0;32m--> 939\u001b[0;31m         \u001b[0mret\u001b[0m \u001b[0;34m=\u001b[0m \u001b[0mself\u001b[0m\u001b[0;34m.\u001b[0m\u001b[0m_engine\u001b[0m\u001b[0;34m.\u001b[0m\u001b[0mread\u001b[0m\u001b[0;34m(\u001b[0m\u001b[0mnrows\u001b[0m\u001b[0;34m)\u001b[0m\u001b[0;34m\u001b[0m\u001b[0m\n\u001b[0m\u001b[1;32m    940\u001b[0m \u001b[0;34m\u001b[0m\u001b[0m\n\u001b[1;32m    941\u001b[0m         \u001b[0;32mif\u001b[0m \u001b[0mself\u001b[0m\u001b[0;34m.\u001b[0m\u001b[0moptions\u001b[0m\u001b[0;34m.\u001b[0m\u001b[0mget\u001b[0m\u001b[0;34m(\u001b[0m\u001b[0;34m'as_recarray'\u001b[0m\u001b[0;34m)\u001b[0m\u001b[0;34m:\u001b[0m\u001b[0;34m\u001b[0m\u001b[0m\n",
      "\u001b[0;32m/Users/Jerry/anaconda/lib/python2.7/site-packages/pandas/io/parsers.pyc\u001b[0m in \u001b[0;36mread\u001b[0;34m(self, nrows)\u001b[0m\n\u001b[1;32m   1583\u001b[0m             \u001b[0mdata\u001b[0m \u001b[0;34m=\u001b[0m \u001b[0mdict\u001b[0m\u001b[0;34m(\u001b[0m\u001b[0;34m(\u001b[0m\u001b[0mk\u001b[0m\u001b[0;34m,\u001b[0m \u001b[0mv\u001b[0m\u001b[0;34m)\u001b[0m \u001b[0;32mfor\u001b[0m \u001b[0mk\u001b[0m\u001b[0;34m,\u001b[0m \u001b[0;34m(\u001b[0m\u001b[0mi\u001b[0m\u001b[0;34m,\u001b[0m \u001b[0mv\u001b[0m\u001b[0;34m)\u001b[0m \u001b[0;32min\u001b[0m \u001b[0mzip\u001b[0m\u001b[0;34m(\u001b[0m\u001b[0mnames\u001b[0m\u001b[0;34m,\u001b[0m \u001b[0mdata\u001b[0m\u001b[0;34m)\u001b[0m\u001b[0;34m)\u001b[0m\u001b[0;34m\u001b[0m\u001b[0m\n\u001b[1;32m   1584\u001b[0m \u001b[0;34m\u001b[0m\u001b[0m\n\u001b[0;32m-> 1585\u001b[0;31m             \u001b[0mnames\u001b[0m\u001b[0;34m,\u001b[0m \u001b[0mdata\u001b[0m \u001b[0;34m=\u001b[0m \u001b[0mself\u001b[0m\u001b[0;34m.\u001b[0m\u001b[0m_do_date_conversions\u001b[0m\u001b[0;34m(\u001b[0m\u001b[0mnames\u001b[0m\u001b[0;34m,\u001b[0m \u001b[0mdata\u001b[0m\u001b[0;34m)\u001b[0m\u001b[0;34m\u001b[0m\u001b[0m\n\u001b[0m\u001b[1;32m   1586\u001b[0m             \u001b[0mindex\u001b[0m\u001b[0;34m,\u001b[0m \u001b[0mnames\u001b[0m \u001b[0;34m=\u001b[0m \u001b[0mself\u001b[0m\u001b[0;34m.\u001b[0m\u001b[0m_make_index\u001b[0m\u001b[0;34m(\u001b[0m\u001b[0mdata\u001b[0m\u001b[0;34m,\u001b[0m \u001b[0malldata\u001b[0m\u001b[0;34m,\u001b[0m \u001b[0mnames\u001b[0m\u001b[0;34m)\u001b[0m\u001b[0;34m\u001b[0m\u001b[0m\n\u001b[1;32m   1587\u001b[0m \u001b[0;34m\u001b[0m\u001b[0m\n",
      "\u001b[0;32m/Users/Jerry/anaconda/lib/python2.7/site-packages/pandas/io/parsers.pyc\u001b[0m in \u001b[0;36m_do_date_conversions\u001b[0;34m(self, names, data)\u001b[0m\n\u001b[1;32m   1362\u001b[0m             data, names = _process_date_conversion(\n\u001b[1;32m   1363\u001b[0m                 \u001b[0mdata\u001b[0m\u001b[0;34m,\u001b[0m \u001b[0mself\u001b[0m\u001b[0;34m.\u001b[0m\u001b[0m_date_conv\u001b[0m\u001b[0;34m,\u001b[0m \u001b[0mself\u001b[0m\u001b[0;34m.\u001b[0m\u001b[0mparse_dates\u001b[0m\u001b[0;34m,\u001b[0m \u001b[0mself\u001b[0m\u001b[0;34m.\u001b[0m\u001b[0mindex_col\u001b[0m\u001b[0;34m,\u001b[0m\u001b[0;34m\u001b[0m\u001b[0m\n\u001b[0;32m-> 1364\u001b[0;31m                 self.index_names, names, keep_date_col=self.keep_date_col)\n\u001b[0m\u001b[1;32m   1365\u001b[0m \u001b[0;34m\u001b[0m\u001b[0m\n\u001b[1;32m   1366\u001b[0m         \u001b[0;32mreturn\u001b[0m \u001b[0mnames\u001b[0m\u001b[0;34m,\u001b[0m \u001b[0mdata\u001b[0m\u001b[0;34m\u001b[0m\u001b[0m\n",
      "\u001b[0;32m/Users/Jerry/anaconda/lib/python2.7/site-packages/pandas/io/parsers.pyc\u001b[0m in \u001b[0;36m_process_date_conversion\u001b[0;34m(data_dict, converter, parse_spec, index_col, index_names, columns, keep_date_col)\u001b[0m\n\u001b[1;32m   2705\u001b[0m                 \u001b[0;32mif\u001b[0m \u001b[0m_isindex\u001b[0m\u001b[0;34m(\u001b[0m\u001b[0mcolspec\u001b[0m\u001b[0;34m)\u001b[0m\u001b[0;34m:\u001b[0m\u001b[0;34m\u001b[0m\u001b[0m\n\u001b[1;32m   2706\u001b[0m                     \u001b[0;32mcontinue\u001b[0m\u001b[0;34m\u001b[0m\u001b[0m\n\u001b[0;32m-> 2707\u001b[0;31m                 \u001b[0mdata_dict\u001b[0m\u001b[0;34m[\u001b[0m\u001b[0mcolspec\u001b[0m\u001b[0;34m]\u001b[0m \u001b[0;34m=\u001b[0m \u001b[0mconverter\u001b[0m\u001b[0;34m(\u001b[0m\u001b[0mdata_dict\u001b[0m\u001b[0;34m[\u001b[0m\u001b[0mcolspec\u001b[0m\u001b[0;34m]\u001b[0m\u001b[0;34m)\u001b[0m\u001b[0;34m\u001b[0m\u001b[0m\n\u001b[0m\u001b[1;32m   2708\u001b[0m             \u001b[0;32melse\u001b[0m\u001b[0;34m:\u001b[0m\u001b[0;34m\u001b[0m\u001b[0m\n\u001b[1;32m   2709\u001b[0m                 new_name, col, old_names = _try_convert_dates(\n",
      "\u001b[0;32m/Users/Jerry/anaconda/lib/python2.7/site-packages/pandas/io/parsers.pyc\u001b[0m in \u001b[0;36mconverter\u001b[0;34m(*date_cols)\u001b[0m\n\u001b[1;32m   2672\u001b[0m                         errors='ignore')\n\u001b[1;32m   2673\u001b[0m                 \u001b[0;32mexcept\u001b[0m \u001b[0mException\u001b[0m\u001b[0;34m:\u001b[0m\u001b[0;34m\u001b[0m\u001b[0m\n\u001b[0;32m-> 2674\u001b[0;31m                     \u001b[0;32mreturn\u001b[0m \u001b[0mgeneric_parser\u001b[0m\u001b[0;34m(\u001b[0m\u001b[0mdate_parser\u001b[0m\u001b[0;34m,\u001b[0m \u001b[0;34m*\u001b[0m\u001b[0mdate_cols\u001b[0m\u001b[0;34m)\u001b[0m\u001b[0;34m\u001b[0m\u001b[0m\n\u001b[0m\u001b[1;32m   2675\u001b[0m \u001b[0;34m\u001b[0m\u001b[0m\n\u001b[1;32m   2676\u001b[0m     \u001b[0;32mreturn\u001b[0m \u001b[0mconverter\u001b[0m\u001b[0;34m\u001b[0m\u001b[0m\n",
      "\u001b[0;32m/Users/Jerry/anaconda/lib/python2.7/site-packages/pandas/io/date_converters.pyc\u001b[0m in \u001b[0;36mgeneric_parser\u001b[0;34m(parse_func, *cols)\u001b[0m\n\u001b[1;32m     36\u001b[0m     \u001b[0;32mfor\u001b[0m \u001b[0mi\u001b[0m \u001b[0;32min\u001b[0m \u001b[0mrange\u001b[0m\u001b[0;34m(\u001b[0m\u001b[0mN\u001b[0m\u001b[0;34m)\u001b[0m\u001b[0;34m:\u001b[0m\u001b[0;34m\u001b[0m\u001b[0m\n\u001b[1;32m     37\u001b[0m         \u001b[0margs\u001b[0m \u001b[0;34m=\u001b[0m \u001b[0;34m[\u001b[0m\u001b[0mc\u001b[0m\u001b[0;34m[\u001b[0m\u001b[0mi\u001b[0m\u001b[0;34m]\u001b[0m \u001b[0;32mfor\u001b[0m \u001b[0mc\u001b[0m \u001b[0;32min\u001b[0m \u001b[0mcols\u001b[0m\u001b[0;34m]\u001b[0m\u001b[0;34m\u001b[0m\u001b[0m\n\u001b[0;32m---> 38\u001b[0;31m         \u001b[0mresults\u001b[0m\u001b[0;34m[\u001b[0m\u001b[0mi\u001b[0m\u001b[0;34m]\u001b[0m \u001b[0;34m=\u001b[0m \u001b[0mparse_func\u001b[0m\u001b[0;34m(\u001b[0m\u001b[0;34m*\u001b[0m\u001b[0margs\u001b[0m\u001b[0;34m)\u001b[0m\u001b[0;34m\u001b[0m\u001b[0m\n\u001b[0m\u001b[1;32m     39\u001b[0m \u001b[0;34m\u001b[0m\u001b[0m\n\u001b[1;32m     40\u001b[0m     \u001b[0;32mreturn\u001b[0m \u001b[0mresults\u001b[0m\u001b[0;34m\u001b[0m\u001b[0m\n",
      "\u001b[0;32m<ipython-input-4-1ee241d9ff36>\u001b[0m in \u001b[0;36m<lambda>\u001b[0;34m(x)\u001b[0m\n\u001b[1;32m      2\u001b[0m \u001b[0mstart_time\u001b[0m \u001b[0;34m=\u001b[0m \u001b[0mtime\u001b[0m\u001b[0;34m(\u001b[0m\u001b[0;34m)\u001b[0m\u001b[0;34m\u001b[0m\u001b[0m\n\u001b[1;32m      3\u001b[0m \u001b[0mdatafile\u001b[0m \u001b[0;34m=\u001b[0m \u001b[0;34m'../data/NI225.csv'\u001b[0m\u001b[0;34m\u001b[0m\u001b[0m\n\u001b[0;32m----> 4\u001b[0;31m \u001b[0mdateparse\u001b[0m \u001b[0;34m=\u001b[0m \u001b[0;32mlambda\u001b[0m \u001b[0mx\u001b[0m\u001b[0;34m:\u001b[0m \u001b[0mpd\u001b[0m\u001b[0;34m.\u001b[0m\u001b[0mdatetime\u001b[0m\u001b[0;34m.\u001b[0m\u001b[0mstrptime\u001b[0m\u001b[0;34m(\u001b[0m\u001b[0mx\u001b[0m\u001b[0;34m,\u001b[0m \u001b[0;34m'%m/%d/%y'\u001b[0m\u001b[0;34m)\u001b[0m\u001b[0;34m\u001b[0m\u001b[0m\n\u001b[0m\u001b[1;32m      5\u001b[0m \u001b[0mdf\u001b[0m \u001b[0;34m=\u001b[0m \u001b[0mpd\u001b[0m\u001b[0;34m.\u001b[0m\u001b[0mread_csv\u001b[0m\u001b[0;34m(\u001b[0m\u001b[0mdatafile\u001b[0m\u001b[0;34m,\u001b[0m \u001b[0mheader\u001b[0m\u001b[0;34m=\u001b[0m\u001b[0;36m0\u001b[0m\u001b[0;34m,\u001b[0m \u001b[0mparse_dates\u001b[0m\u001b[0;34m=\u001b[0m\u001b[0;34m[\u001b[0m\u001b[0;34m'Date'\u001b[0m\u001b[0;34m]\u001b[0m\u001b[0;34m,\u001b[0m \u001b[0mdate_parser\u001b[0m\u001b[0;34m=\u001b[0m\u001b[0mdateparse\u001b[0m\u001b[0;34m)\u001b[0m\u001b[0;34m\u001b[0m\u001b[0m\n\u001b[1;32m      6\u001b[0m \u001b[0;34m\u001b[0m\u001b[0m\n",
      "\u001b[0;32m/Users/Jerry/anaconda/lib/python2.7/_strptime.pyc\u001b[0m in \u001b[0;36m_strptime\u001b[0;34m(data_string, format)\u001b[0m\n\u001b[1;32m    333\u001b[0m     \u001b[0;32mif\u001b[0m \u001b[0mlen\u001b[0m\u001b[0;34m(\u001b[0m\u001b[0mdata_string\u001b[0m\u001b[0;34m)\u001b[0m \u001b[0;34m!=\u001b[0m \u001b[0mfound\u001b[0m\u001b[0;34m.\u001b[0m\u001b[0mend\u001b[0m\u001b[0;34m(\u001b[0m\u001b[0;34m)\u001b[0m\u001b[0;34m:\u001b[0m\u001b[0;34m\u001b[0m\u001b[0m\n\u001b[1;32m    334\u001b[0m         raise ValueError(\"unconverted data remains: %s\" %\n\u001b[0;32m--> 335\u001b[0;31m                           data_string[found.end():])\n\u001b[0m\u001b[1;32m    336\u001b[0m \u001b[0;34m\u001b[0m\u001b[0m\n\u001b[1;32m    337\u001b[0m     \u001b[0myear\u001b[0m \u001b[0;34m=\u001b[0m \u001b[0mNone\u001b[0m\u001b[0;34m\u001b[0m\u001b[0m\n",
      "\u001b[0;31mValueError\u001b[0m: unconverted data remains: 13"
     ]
    }
   ],
   "source": [
    "# Load data \n",
    "start_time = time()\n",
    "datafile = '../data/IBEX35.csv'\n",
    "dateparse = lambda x: pd.datetime.strptime(x, '%m/%d/%y')\n",
    "df = pd.read_csv(datafile, header=0, parse_dates=['Date'], date_parser=dateparse)\n",
    "\n",
    "split_date = pd.datetime.strptime('2014-12-31', '%Y-%m-%d')\n",
    "train_data = df[df['Date'] < split_date]\n",
    "test_data = df[df['Date'] >= split_date]\n",
    "first_date = train_data['Date'][0] - pd.DateOffset(days=1)\n",
    "\n",
    "option = 'Price'\n",
    "update_interval = 5 # days"
   ]
  },
  {
   "cell_type": "code",
   "execution_count": null,
   "metadata": {
    "collapsed": false
   },
   "outputs": [],
   "source": [
    "# forecasting using test data\n",
    "start_time = time()\n",
    "pred_prices = list()\n",
    "error_percentages = list() # percentage of forecasting residual\n",
    "actual_prices = test_data[option].tolist()[1:]\n",
    "indices = test_data.index\n",
    "for i in range(len(indices)-1):\n",
    "    print(\"Iteration #%s\" % str(i))\n",
    "    prev = test_data.iloc[i]\n",
    "    train_data.append(prev)\n",
    "    if (i % update_interval)==0:\n",
    "        print(\"\\tUpdate parameter setting and fuzzy sets ...\")\n",
    "        d1, n_par, d2 = parameter_tuning_ASHLO(train_data, option)\n",
    "        print(\"\\t\\td1=%f, d2=%f, n=%f\" % (d1, d2, n_par))\n",
    "        u_discourse = universe_partition_adjusted(train_data[option], n_par, d1, d2)\n",
    "        A_list = set_fuzzy_numbers(u_discourse)\n",
    "        train_data_membership_series = membership_assignment(train_data[option], fuzzy_numbers=u_discourse)\n",
    "        transition_FLR = FLR(train_data_membership_series)\n",
    "        train_data_days = train_data['Date'].apply(lambda x: x-first_date).dt.days.tolist() # convert Timedelta to numeric days\n",
    "        jump_weights = FLR_weight(transition_FLR, train_data_days[:len(transition_FLR)])\n",
    "        transition_weights = FRG_weight(transition_FLR, train_data_days[:len(transition_FLR)])\n",
    "    price = prev[option]\n",
    "    index = get_membership(price, u_discourse)\n",
    "    next_price = forecast_price(forecast_jump(index, jump_weights, A_list), forecast_transition(index, transition_weights, A_list), gamma=0.9)\n",
    "    pred_prices.append(next_price)\n",
    "    pred_ep = (np.abs(actual_prices[i] - next_price)/actual_prices[i])\n",
    "    error_percentages.append(pred_ep)\n",
    "    print(\"\\t---- error percentage = %f\" % pred_ep)\n",
    "    \n",
    "print \"MAD = \"+str(mean_absolute_error(actual_prices, pred_prices))\n",
    "print \"RMSE = \"+str(np.sqrt(mean_squared_error(actual_prices, pred_prices)))\n",
    "print \"MAPE = \"+str(mean_absolute_percentage_error(actual_prices, pred_prices))\n",
    "print \"Time cost: \"+str(time()-start_time)+\" seconds\" "
   ]
  },
  {
   "cell_type": "code",
   "execution_count": null,
   "metadata": {
    "collapsed": false
   },
   "outputs": [],
   "source": [
    "df_test = pd.DataFrame(test_data.iloc[1:]['Date'])\n",
    "df_test['data testing'] = pd.Series(actual_prices).values\n",
    "df_test['forecasting'] = pd.Series(pred_prices).values\n",
    "df_test.index = df_test['Date']\n",
    "plt.figure(figsize=(14,7))\n",
    "df_test['data testing'].plot(style='k-', linewidth=2, label='data testing')\n",
    "df_test['forecasting'].plot(style='g:', linewidth=3, label='forecasting')\n",
    "plt.ylabel('Price', fontsize=18)\n",
    "plt.legend(loc='best')\n",
    "plt.title(\"IBEX35_forecasting\", fontsize=24)"
   ]
  },
  {
   "cell_type": "code",
   "execution_count": null,
   "metadata": {
    "collapsed": false
   },
   "outputs": [],
   "source": [
    "plt.figure(figsize=(14,7))\n",
    "df_test[\"residual\"] = df_test[\"data testing\"] - df_test[\"forecasting\"]\n",
    "df_test[\"residual\"].plot(style='bo', linewidth=3, label='residual')\n",
    "plt.ylabel('Residual', fontsize=18)\n",
    "plt.axhline(y=0.0, color='k', linestyle='--')\n",
    "plt.legend(loc='best')\n",
    "plt.title(\"IBEX35_forecasting_residual\", fontsize=24)"
   ]
  }
 ],
 "metadata": {
  "kernelspec": {
   "display_name": "Python 2",
   "language": "python",
   "name": "python2"
  },
  "language_info": {
   "codemirror_mode": {
    "name": "ipython",
    "version": 2
   },
   "file_extension": ".py",
   "mimetype": "text/x-python",
   "name": "python",
   "nbconvert_exporter": "python",
   "pygments_lexer": "ipython2",
   "version": "2.7.13"
  }
 },
 "nbformat": 4,
 "nbformat_minor": 0
}
