{
 "cells": [
  {
   "cell_type": "code",
   "execution_count": 1,
   "metadata": {
    "collapsed": true
   },
   "outputs": [],
   "source": [
    "import pandas as pd\n",
    "import numpy as np\n",
    "from collections import defaultdict\n",
    "import operator\n",
    "import matplotlib.pyplot as plt\n",
    "%matplotlib inline\n",
    "from sklearn.model_selection import train_test_split"
   ]
  },
  {
   "cell_type": "code",
   "execution_count": 2,
   "metadata": {
    "collapsed": false
   },
   "outputs": [
    {
     "data": {
      "text/plain": [
       "[u'Sheet1']"
      ]
     },
     "execution_count": 2,
     "metadata": {},
     "output_type": "execute_result"
    }
   ],
   "source": [
    "datafile = '../data/IBEX35(201301-201512).xlsx'\n",
    "xl = pd.ExcelFile(datafile)\n",
    "xl.sheet_names"
   ]
  },
  {
   "cell_type": "code",
   "execution_count": 3,
   "metadata": {
    "collapsed": false
   },
   "outputs": [
    {
     "data": {
      "text/html": [
       "<div>\n",
       "<table border=\"1\" class=\"dataframe\">\n",
       "  <thead>\n",
       "    <tr style=\"text-align: right;\">\n",
       "      <th></th>\n",
       "      <th>Date</th>\n",
       "      <th>Price</th>\n",
       "      <th>Open</th>\n",
       "      <th>High</th>\n",
       "      <th>Low</th>\n",
       "      <th>Vol.</th>\n",
       "      <th>Change %</th>\n",
       "    </tr>\n",
       "  </thead>\n",
       "  <tbody>\n",
       "    <tr>\n",
       "      <th>0</th>\n",
       "      <td>2013-01-02</td>\n",
       "      <td>8447.6</td>\n",
       "      <td>8337.9</td>\n",
       "      <td>8447.6</td>\n",
       "      <td>8286.7</td>\n",
       "      <td>280.53M</td>\n",
       "      <td>0.0343</td>\n",
       "    </tr>\n",
       "    <tr>\n",
       "      <th>1</th>\n",
       "      <td>2013-01-03</td>\n",
       "      <td>8403.4</td>\n",
       "      <td>8375.0</td>\n",
       "      <td>8422.6</td>\n",
       "      <td>8334.3</td>\n",
       "      <td>182.28M</td>\n",
       "      <td>-0.0052</td>\n",
       "    </tr>\n",
       "    <tr>\n",
       "      <th>2</th>\n",
       "      <td>2013-01-04</td>\n",
       "      <td>8435.8</td>\n",
       "      <td>8411.7</td>\n",
       "      <td>8447.0</td>\n",
       "      <td>8386.7</td>\n",
       "      <td>230.12M</td>\n",
       "      <td>0.0039</td>\n",
       "    </tr>\n",
       "    <tr>\n",
       "      <th>3</th>\n",
       "      <td>2013-01-07</td>\n",
       "      <td>8419.0</td>\n",
       "      <td>8434.3</td>\n",
       "      <td>8485.6</td>\n",
       "      <td>8406.3</td>\n",
       "      <td>289.12M</td>\n",
       "      <td>-0.0020</td>\n",
       "    </tr>\n",
       "    <tr>\n",
       "      <th>4</th>\n",
       "      <td>2013-01-08</td>\n",
       "      <td>8453.0</td>\n",
       "      <td>8388.2</td>\n",
       "      <td>8493.5</td>\n",
       "      <td>8374.7</td>\n",
       "      <td>335.52M</td>\n",
       "      <td>0.0040</td>\n",
       "    </tr>\n",
       "  </tbody>\n",
       "</table>\n",
       "</div>"
      ],
      "text/plain": [
       "        Date   Price    Open    High     Low     Vol.  Change %\n",
       "0 2013-01-02  8447.6  8337.9  8447.6  8286.7  280.53M    0.0343\n",
       "1 2013-01-03  8403.4  8375.0  8422.6  8334.3  182.28M   -0.0052\n",
       "2 2013-01-04  8435.8  8411.7  8447.0  8386.7  230.12M    0.0039\n",
       "3 2013-01-07  8419.0  8434.3  8485.6  8406.3  289.12M   -0.0020\n",
       "4 2013-01-08  8453.0  8388.2  8493.5  8374.7  335.52M    0.0040"
      ]
     },
     "execution_count": 3,
     "metadata": {},
     "output_type": "execute_result"
    }
   ],
   "source": [
    "df = xl.parse(u'Sheet1')\n",
    "df.head()"
   ]
  },
  {
   "cell_type": "code",
   "execution_count": 4,
   "metadata": {
    "collapsed": false,
    "scrolled": true
   },
   "outputs": [
    {
     "data": {
      "text/html": [
       "<div>\n",
       "<table border=\"1\" class=\"dataframe\">\n",
       "  <thead>\n",
       "    <tr style=\"text-align: right;\">\n",
       "      <th></th>\n",
       "      <th>Price</th>\n",
       "      <th>Open</th>\n",
       "      <th>High</th>\n",
       "      <th>Low</th>\n",
       "      <th>Change %</th>\n",
       "    </tr>\n",
       "  </thead>\n",
       "  <tbody>\n",
       "    <tr>\n",
       "      <th>count</th>\n",
       "      <td>792.000000</td>\n",
       "      <td>792.000000</td>\n",
       "      <td>792.000000</td>\n",
       "      <td>792.000000</td>\n",
       "      <td>792.000000</td>\n",
       "    </tr>\n",
       "    <tr>\n",
       "      <th>mean</th>\n",
       "      <td>9963.164141</td>\n",
       "      <td>9965.216667</td>\n",
       "      <td>10037.700379</td>\n",
       "      <td>9878.218687</td>\n",
       "      <td>0.000415</td>\n",
       "    </tr>\n",
       "    <tr>\n",
       "      <th>std</th>\n",
       "      <td>1040.412907</td>\n",
       "      <td>1042.242568</td>\n",
       "      <td>1042.808739</td>\n",
       "      <td>1037.357084</td>\n",
       "      <td>0.012150</td>\n",
       "    </tr>\n",
       "    <tr>\n",
       "      <th>min</th>\n",
       "      <td>7553.200000</td>\n",
       "      <td>7636.600000</td>\n",
       "      <td>7674.600000</td>\n",
       "      <td>7508.400000</td>\n",
       "      <td>-0.050100</td>\n",
       "    </tr>\n",
       "    <tr>\n",
       "      <th>25%</th>\n",
       "      <td>9348.350000</td>\n",
       "      <td>9334.300000</td>\n",
       "      <td>9416.875000</td>\n",
       "      <td>9264.625000</td>\n",
       "      <td>-0.006800</td>\n",
       "    </tr>\n",
       "    <tr>\n",
       "      <th>50%</th>\n",
       "      <td>10223.250000</td>\n",
       "      <td>10227.000000</td>\n",
       "      <td>10310.500000</td>\n",
       "      <td>10129.350000</td>\n",
       "      <td>0.001000</td>\n",
       "    </tr>\n",
       "    <tr>\n",
       "      <th>75%</th>\n",
       "      <td>10691.600000</td>\n",
       "      <td>10700.725000</td>\n",
       "      <td>10761.575000</td>\n",
       "      <td>10611.200000</td>\n",
       "      <td>0.007600</td>\n",
       "    </tr>\n",
       "    <tr>\n",
       "      <th>max</th>\n",
       "      <td>11866.400000</td>\n",
       "      <td>11798.500000</td>\n",
       "      <td>11884.600000</td>\n",
       "      <td>11760.800000</td>\n",
       "      <td>0.038700</td>\n",
       "    </tr>\n",
       "  </tbody>\n",
       "</table>\n",
       "</div>"
      ],
      "text/plain": [
       "              Price          Open          High           Low    Change %\n",
       "count    792.000000    792.000000    792.000000    792.000000  792.000000\n",
       "mean    9963.164141   9965.216667  10037.700379   9878.218687    0.000415\n",
       "std     1040.412907   1042.242568   1042.808739   1037.357084    0.012150\n",
       "min     7553.200000   7636.600000   7674.600000   7508.400000   -0.050100\n",
       "25%     9348.350000   9334.300000   9416.875000   9264.625000   -0.006800\n",
       "50%    10223.250000  10227.000000  10310.500000  10129.350000    0.001000\n",
       "75%    10691.600000  10700.725000  10761.575000  10611.200000    0.007600\n",
       "max    11866.400000  11798.500000  11884.600000  11760.800000    0.038700"
      ]
     },
     "execution_count": 4,
     "metadata": {},
     "output_type": "execute_result"
    }
   ],
   "source": [
    "df['Date'] = pd.to_datetime(df['Date'])\n",
    "df.describe()"
   ]
  },
  {
   "cell_type": "code",
   "execution_count": 5,
   "metadata": {
    "collapsed": false
   },
   "outputs": [
    {
     "name": "stdout",
     "output_type": "stream",
     "text": [
      "(557, 7) (235, 7)\n"
     ]
    }
   ],
   "source": [
    "split_date = '2014-12-31'\n",
    "train_data = df[df['Date'] <= split_date]\n",
    "test_data = df[df['Date'] > split_date]\n",
    "print train_data.shape, test_data.shape"
   ]
  },
  {
   "cell_type": "code",
   "execution_count": 6,
   "metadata": {
    "collapsed": true
   },
   "outputs": [],
   "source": [
    "def universe_partition(data, d1=10, d2=10):\n",
    "    x_max, x_min = data.max(axis=0), data.min(axis=0)\n",
    "    std_val = data.std(axis=0)\n",
    "    len_val = np.round(std_val / 10)\n",
    "    u_max, u_min = int(x_max+d2), int(x_min-d1) # bound of universe discourse\n",
    "    u_b = np.arange(u_min, u_max, step=float(len_val)) # cutting points\n",
    "    u_s = u_b[:-1] # u1\n",
    "    u_e = u_b[1:] # u2\n",
    "    u_discourse = zip(u_b, u_e) # interval\n",
    "    return u_discourse"
   ]
  },
  {
   "cell_type": "code",
   "execution_count": 7,
   "metadata": {
    "collapsed": false,
    "scrolled": true
   },
   "outputs": [
    {
     "name": "stdout",
     "output_type": "stream",
     "text": [
      "[(6600.0, 6701.0), (6701.0, 6802.0), (6802.0, 6903.0), (6903.0, 7004.0), (7004.0, 7105.0), (7105.0, 7206.0), (7206.0, 7307.0), (7307.0, 7408.0), (7408.0, 7509.0), (7509.0, 7610.0), (7610.0, 7711.0), (7711.0, 7812.0), (7812.0, 7913.0), (7913.0, 8014.0), (8014.0, 8115.0), (8115.0, 8216.0), (8216.0, 8317.0), (8317.0, 8418.0), (8418.0, 8519.0), (8519.0, 8620.0), (8620.0, 8721.0), (8721.0, 8822.0), (8822.0, 8923.0), (8923.0, 9024.0), (9024.0, 9125.0), (9125.0, 9226.0), (9226.0, 9327.0), (9327.0, 9428.0), (9428.0, 9529.0), (9529.0, 9630.0), (9630.0, 9731.0), (9731.0, 9832.0), (9832.0, 9933.0), (9933.0, 10034.0), (10034.0, 10135.0), (10135.0, 10236.0), (10236.0, 10337.0), (10337.0, 10438.0), (10438.0, 10539.0), (10539.0, 10640.0), (10640.0, 10741.0), (10741.0, 10842.0), (10842.0, 10943.0), (10943.0, 11044.0), (11044.0, 11145.0), (11145.0, 11246.0), (11246.0, 11347.0), (11347.0, 11448.0), (11448.0, 11549.0), (11549.0, 11650.0), (11650.0, 11751.0), (11751.0, 11852.0), (11852.0, 11953.0)]\n"
     ]
    }
   ],
   "source": [
    "u_discourse = universe_partition(train_data['Price'], d1=953, d2=812)\n",
    "print(u_discourse)"
   ]
  },
  {
   "cell_type": "code",
   "execution_count": 8,
   "metadata": {
    "collapsed": false
   },
   "outputs": [],
   "source": [
    "def set_fuzzy_numbers(u_discourse):\n",
    "    fuzzy_numbers = list()\n",
    "    for i, u_i in enumerate(u_discourse):\n",
    "        if (i!=0) and (i!=len(u_discourse)-1):\n",
    "            u_l, u_r = u_discourse[i-1], u_discourse[i+1]\n",
    "            A_l, A_r = np.mean(u_l), np.mean(u_r)\n",
    "            fuzzy_numbers.append((A_l, u_i[0], u_i[1], A_r))\n",
    "    return fuzzy_numbers"
   ]
  },
  {
   "cell_type": "code",
   "execution_count": 9,
   "metadata": {
    "collapsed": false,
    "scrolled": true
   },
   "outputs": [
    {
     "name": "stdout",
     "output_type": "stream",
     "text": [
      "[(6650.5, 6701.0, 6802.0, 6852.5), (6751.5, 6802.0, 6903.0, 6953.5), (6852.5, 6903.0, 7004.0, 7054.5), (6953.5, 7004.0, 7105.0, 7155.5), (7054.5, 7105.0, 7206.0, 7256.5), (7155.5, 7206.0, 7307.0, 7357.5), (7256.5, 7307.0, 7408.0, 7458.5), (7357.5, 7408.0, 7509.0, 7559.5), (7458.5, 7509.0, 7610.0, 7660.5), (7559.5, 7610.0, 7711.0, 7761.5), (7660.5, 7711.0, 7812.0, 7862.5), (7761.5, 7812.0, 7913.0, 7963.5), (7862.5, 7913.0, 8014.0, 8064.5), (7963.5, 8014.0, 8115.0, 8165.5), (8064.5, 8115.0, 8216.0, 8266.5), (8165.5, 8216.0, 8317.0, 8367.5), (8266.5, 8317.0, 8418.0, 8468.5), (8367.5, 8418.0, 8519.0, 8569.5), (8468.5, 8519.0, 8620.0, 8670.5), (8569.5, 8620.0, 8721.0, 8771.5), (8670.5, 8721.0, 8822.0, 8872.5), (8771.5, 8822.0, 8923.0, 8973.5), (8872.5, 8923.0, 9024.0, 9074.5), (8973.5, 9024.0, 9125.0, 9175.5), (9074.5, 9125.0, 9226.0, 9276.5), (9175.5, 9226.0, 9327.0, 9377.5), (9276.5, 9327.0, 9428.0, 9478.5), (9377.5, 9428.0, 9529.0, 9579.5), (9478.5, 9529.0, 9630.0, 9680.5), (9579.5, 9630.0, 9731.0, 9781.5), (9680.5, 9731.0, 9832.0, 9882.5), (9781.5, 9832.0, 9933.0, 9983.5), (9882.5, 9933.0, 10034.0, 10084.5), (9983.5, 10034.0, 10135.0, 10185.5), (10084.5, 10135.0, 10236.0, 10286.5), (10185.5, 10236.0, 10337.0, 10387.5), (10286.5, 10337.0, 10438.0, 10488.5), (10387.5, 10438.0, 10539.0, 10589.5), (10488.5, 10539.0, 10640.0, 10690.5), (10589.5, 10640.0, 10741.0, 10791.5), (10690.5, 10741.0, 10842.0, 10892.5), (10791.5, 10842.0, 10943.0, 10993.5), (10892.5, 10943.0, 11044.0, 11094.5), (10993.5, 11044.0, 11145.0, 11195.5), (11094.5, 11145.0, 11246.0, 11296.5), (11195.5, 11246.0, 11347.0, 11397.5), (11296.5, 11347.0, 11448.0, 11498.5), (11397.5, 11448.0, 11549.0, 11599.5), (11498.5, 11549.0, 11650.0, 11700.5), (11599.5, 11650.0, 11751.0, 11801.5), (11700.5, 11751.0, 11852.0, 11902.5)]\n"
     ]
    }
   ],
   "source": [
    "A_list = set_fuzzy_numbers(u_discourse)\n",
    "print(A_list)"
   ]
  },
  {
   "cell_type": "code",
   "execution_count": 10,
   "metadata": {
    "collapsed": true
   },
   "outputs": [],
   "source": [
    "def membership_evaluation(value, fuzzy_number):\n",
    "    A_l, u_1, u_2, A_r = fuzzy_number\n",
    "    mu = 0 # membership indication\n",
    "    try:\n",
    "        if np.logical_and(value>=A_l, value <u_1):\n",
    "            mu = (value - A_l) / (u_1 - A_l)\n",
    "        elif np.logical_and(value>=u_1, value<=u_2):\n",
    "            mu = 1\n",
    "        elif np.logical_and(value>u_2, value<=A_r):\n",
    "            mu = (value - u_2) / (A_r - u_2)\n",
    "    except ZeroDivisionError:\n",
    "        mu = 0\n",
    "    return mu"
   ]
  },
  {
   "cell_type": "code",
   "execution_count": 11,
   "metadata": {
    "collapsed": true
   },
   "outputs": [],
   "source": [
    "def membership_assignement(value_time_series, fuzzy_numbers):\n",
    "    n_fuzzy_numbers = len(fuzzy_numbers)\n",
    "    membership_list = list()\n",
    "    for i, value in enumerate(value_time_series):\n",
    "        value_rep = [value] * n_fuzzy_numbers\n",
    "        memberships = map(lambda val, A: membership_evaluation(val, A), value_rep, fuzzy_numbers)\n",
    "        max_index, _ = max(enumerate(memberships), key=operator.itemgetter(1))\n",
    "        membership_list.append(max_index)\n",
    "    return membership_list"
   ]
  },
  {
   "cell_type": "code",
   "execution_count": 12,
   "metadata": {
    "collapsed": false
   },
   "outputs": [
    {
     "name": "stdout",
     "output_type": "stream",
     "text": [
      "557\n"
     ]
    }
   ],
   "source": [
    "train_data_membership_series = membership_assignement(train_data['Price'], fuzzy_numbers=A_list)\n",
    "print len(train_data_membership_series)"
   ]
  },
  {
   "cell_type": "code",
   "execution_count": 13,
   "metadata": {
    "collapsed": true
   },
   "outputs": [],
   "source": [
    "def FLR(membership_time_series): # transition between consecutive observations\n",
    "    transitions = list()\n",
    "    for j, Aj in enumerate(membership_time_series):\n",
    "        if j!=0:\n",
    "            Ai = membership_time_series[j-1]\n",
    "            transitions.append((Ai, Aj))\n",
    "    return transitions"
   ]
  },
  {
   "cell_type": "code",
   "execution_count": 14,
   "metadata": {
    "collapsed": false,
    "scrolled": true
   },
   "outputs": [
    {
     "name": "stdout",
     "output_type": "stream",
     "text": [
      "[(17, 16), (16, 17), (17, 17), (17, 17), (17, 18), (18, 18), (18, 19), (19, 19), (19, 18), (18, 18), (18, 19), (19, 18), (18, 19), (19, 19), (19, 18), (18, 19), (19, 20), (20, 19), (19, 19), (19, 18), (18, 16), (16, 15), (15, 12), (12, 13), (13, 13), (13, 13), (13, 14), (14, 13), (13, 15), (15, 15), (15, 15), (15, 14), (14, 13), (13, 15), (15, 14), (14, 13), (13, 14), (14, 15), (15, 12), (12, 14), (14, 15), (15, 14), (14, 15), (15, 17), (17, 16), (16, 16), (16, 19), (19, 18), (18, 18), (18, 17), (17, 19), (19, 18), (18, 17), (17, 16), (16, 16), (16, 16), (16, 16), (16, 14), (14, 12), (12, 11), (11, 12), (12, 13), (13, 11), (11, 11), (11, 10), (10, 10), (10, 11), (11, 14), (14, 14), (14, 13), (13, 13), (13, 12), (12, 10), (10, 11), (11, 12), (12, 13), (13, 15), (15, 16), (16, 16), (16, 15), (15, 17), (17, 17), (17, 16), (16, 18), (18, 17), (17, 18), (18, 18), (18, 18), (18, 18), (18, 17), (17, 17), (17, 18), (18, 18), (18, 18), (18, 17), (17, 17), (17, 17), (17, 16), (16, 15), (15, 16), (16, 17), (17, 17), (17, 17), (17, 16), (16, 15), (15, 16), (16, 15), (15, 15), (15, 15), (15, 15), (15, 13), (13, 14), (14, 13), (13, 13), (13, 14), (14, 14), (14, 13), (13, 11), (11, 9), (9, 8), (8, 8), (8, 11), (11, 11), (11, 10), (10, 11), (11, 11), (11, 10), (10, 12), (12, 11), (11, 13), (13, 13), (13, 12), (12, 13), (13, 11), (11, 11), (11, 10), (10, 11), (11, 12), (12, 12), (12, 12), (12, 13), (13, 14), (14, 15), (15, 16), (16, 16), (16, 17), (17, 17), (17, 18), (18, 18), (18, 18), (18, 18), (18, 18), (18, 19), (19, 20), (20, 19), (19, 20), (20, 20), (20, 20), (20, 20), (20, 19), (19, 17), (17, 17), (17, 19), (19, 19), (19, 19), (19, 16), (16, 16), (16, 17), (17, 15), (15, 17), (17, 17), (17, 17), (17, 18), (18, 19), (19, 19), (19, 20), (20, 21), (21, 22), (22, 22), (22, 22), (22, 22), (22, 23), (23, 24), (24, 24), (24, 23), (23, 24), (24, 25), (25, 25), (25, 25), (25, 24), (24, 26), (26, 26), (26, 25), (25, 26), (26, 26), (26, 25), (25, 27), (27, 29), (29, 29), (29, 29), (29, 30), (30, 31), (31, 31), (31, 32), (32, 33), (33, 32), (32, 30), (30, 31), (31, 30), (30, 30), (30, 31), (31, 30), (30, 31), (31, 31), (31, 31), (31, 30), (30, 31), (31, 30), (30, 30), (30, 30), (30, 29), (29, 29), (29, 29), (29, 29), (29, 30), (30, 28), (28, 28), (28, 28), (28, 29), (29, 29), (29, 29), (29, 30), (30, 31), (31, 31), (31, 30), (30, 28), (28, 28), (28, 26), (26, 26), (26, 27), (27, 27), (27, 26), (26, 25), (25, 25), (25, 27), (27, 26), (26, 27), (27, 29), (29, 29), (29, 30), (30, 30), (30, 31), (31, 31), (31, 31), (31, 30), (30, 30), (30, 31), (31, 34), (34, 35), (35, 34), (34, 35), (35, 36), (36, 36), (36, 37), (37, 37), (37, 37), (37, 37), (37, 36), (36, 35), (35, 35), (35, 31), (31, 30), (30, 31), (31, 31), (31, 32), (32, 31), (31, 29), (29, 30), (30, 30), (30, 32), (32, 33), (33, 32), (32, 33), (33, 33), (33, 33), (33, 33), (33, 33), (33, 33), (33, 33), (33, 33), (33, 33), (33, 34), (34, 35), (35, 34), (34, 34), (34, 33), (33, 31), (31, 33), (33, 34), (34, 35), (35, 34), (34, 34), (34, 34), (34, 34), (34, 34), (34, 33), (33, 33), (33, 32), (32, 32), (32, 30), (30, 30), (30, 32), (32, 32), (32, 33), (33, 33), (33, 33), (33, 33), (33, 33), (33, 33), (33, 33), (33, 33), (33, 31), (31, 31), (31, 32), (32, 32), (32, 34), (34, 34), (34, 34), (34, 34), (34, 35), (35, 35), (35, 36), (36, 36), (36, 37), (37, 37), (37, 36), (36, 36), (36, 38), (38, 38), (38, 39), (39, 39), (39, 38), (38, 38), (38, 37), (37, 37), (37, 37), (37, 37), (37, 35), (35, 35), (35, 34), (34, 34), (34, 34), (34, 34), (34, 33), (33, 33), (33, 35), (35, 35), (35, 35), (35, 35), (35, 36), (36, 36), (36, 36), (36, 36), (36, 37), (37, 37), (37, 35), (35, 35), (35, 35), (35, 35), (35, 37), (37, 37), (37, 37), (37, 37), (37, 37), (37, 37), (37, 37), (37, 37), (37, 37), (37, 37), (37, 36), (36, 36), (36, 38), (38, 38), (38, 37), (37, 37), (37, 38), (38, 38), (38, 38), (38, 38), (38, 38), (38, 38), (38, 36), (36, 36), (36, 37), (37, 37), (37, 36), (36, 37), (37, 37), (37, 37), (37, 38), (38, 39), (39, 39), (39, 40), (40, 39), (39, 40), (40, 40), (40, 40), (40, 40), (40, 41), (41, 43), (43, 44), (44, 44), (44, 43), (43, 43), (43, 43), (43, 42), (42, 43), (43, 43), (43, 44), (44, 44), (44, 43), (43, 43), (43, 42), (42, 42), (42, 42), (42, 41), (41, 42), (42, 42), (42, 43), (43, 42), (42, 41), (41, 39), (39, 40), (40, 37), (37, 37), (37, 38), (38, 37), (37, 39), (39, 38), (38, 37), (37, 37), (37, 39), (39, 39), (39, 41), (41, 41), (41, 41), (41, 41), (41, 41), (41, 39), (39, 37), (37, 37), (37, 36), (36, 35), (35, 33), (33, 33), (33, 34), (34, 35), (35, 35), (35, 35), (35, 34), (34, 36), (36, 36), (36, 36), (36, 38), (38, 37), (37, 39), (39, 40), (40, 40), (40, 39), (39, 39), (39, 40), (40, 40), (40, 41), (41, 43), (43, 44), (44, 43), (43, 42), (42, 41), (41, 41), (41, 41), (41, 40), (40, 40), (40, 41), (41, 42), (42, 42), (42, 42), (42, 40), (40, 41), (41, 40), (40, 41), (41, 39), (39, 40), (40, 40), (40, 36), (36, 38), (38, 39), (39, 36), (36, 36), (36, 35), (35, 34), (34, 34), (34, 34), (34, 31), (31, 29), (29, 32), (32, 31), (31, 34), (34, 35), (35, 35), (35, 36), (36, 34), (34, 36), (36, 35), (35, 35), (35, 37), (37, 36), (36, 34), (34, 35), (35, 35), (35, 33), (33, 35), (35, 36), (36, 34), (34, 34), (34, 34), (34, 35), (35, 36), (36, 36), (36, 34), (34, 37), (37, 39), (39, 39), (39, 39), (39, 39), (39, 40), (40, 39), (39, 40), (40, 41), (41, 38), (38, 41), (41, 40), (40, 37), (37, 36), (36, 36), (36, 34), (34, 31), (31, 33), (33, 33), (33, 36), (36, 36), (36, 36), (36, 37), (37, 37), (37, 36), (36, 35), (35, 35)]\n"
     ]
    }
   ],
   "source": [
    "transition_FLR = FLR(train_data_membership_series)\n",
    "print(transition_FLR)"
   ]
  },
  {
   "cell_type": "code",
   "execution_count": 15,
   "metadata": {
    "collapsed": false
   },
   "outputs": [],
   "source": [
    "\n",
    "def FLR_weight(transitions, time_series): # compute jump frequency by FLR\n",
    "    jumps = map(lambda x: x[1]-x[0], transitions) # compute jumps by transitions \n",
    "    jump_time_series = zip(jumps, time_series) # assign timestamp for each jump beta^t_p,p+k\n",
    "    jump_counts = defaultdict(list) \n",
    "    for key, value in jump_time_series:\n",
    "        jump_counts[key].append(value) # count jump by its timestamps\n",
    "    jump_counts = {key: np.sum(value) for key, value in jump_counts.items()} # sum up total time for each jump\n",
    "    total_count = float(np.sum(jump_counts.values()))\n",
    "    for key, value in jump_counts.iteritems(): \n",
    "        jump_counts[key] = value / total_count # normalize jumps as weights\n",
    "    return jump_counts"
   ]
  },
  {
   "cell_type": "code",
   "execution_count": 16,
   "metadata": {
    "collapsed": false
   },
   "outputs": [
    {
     "name": "stdout",
     "output_type": "stream",
     "text": [
      "207243\n"
     ]
    }
   ],
   "source": [
    "first_date = train_data['Date'][0]\n",
    "train_data_days = train_data['Date'].apply(lambda x: x - first_date).dt.days.tolist() # convert Timedelta to numeric days\n",
    "max_day = train_data_days[-1]\n",
    "# train_data_days = map(lambda d: float(d)/float(max_day), train_data_days) # normalize days\n",
    "print np.sum(train_data_days)"
   ]
  },
  {
   "cell_type": "code",
   "execution_count": 17,
   "metadata": {
    "collapsed": false
   },
   "outputs": [
    {
     "name": "stdout",
     "output_type": "stream",
     "text": [
      "{0: 0.42528145655279276, 1: 0.21192649444350289, 2: 0.073708931554608628, 3: 0.019921071108636175, -2: 0.068842456964385151, -4: 0.0049536353291528461, -3: 0.02072004454882212, -1: 0.17464590949809941}\n"
     ]
    }
   ],
   "source": [
    "jump_weights = FLR_weight(transition_FLR, train_data_days[:len(transition_FLR)])\n",
    "print (jump_weights)"
   ]
  },
  {
   "cell_type": "code",
   "execution_count": 18,
   "metadata": {
    "collapsed": true
   },
   "outputs": [],
   "source": [
    "def FRG_weight(transitions, time_series): \n",
    "    transition_time_series = zip(transitions, time_series)\n",
    "    transition_groups = map(lambda x: (x[0][0], (x[0][1], x[1])), transition_time_series) \n",
    "    transition_weights = defaultdict(list)\n",
    "    for key, value in transition_groups:\n",
    "        transition_weights[key].append(value) # group transitions by initial state A_i\n",
    "    transition_weights = {key: dict(value) for key, value in transition_weights.items()}\n",
    "    for key, value in transition_weights.iteritems():\n",
    "        total_weight = float(np.sum(value.values()))\n",
    "        value = {k: (v/total_weight) for k, v in value.items()} # normalize weight inside each group\n",
    "        transition_weights[key] = value\n",
    "    return transition_weights"
   ]
  },
  {
   "cell_type": "code",
   "execution_count": 19,
   "metadata": {
    "collapsed": false
   },
   "outputs": [
    {
     "name": "stdout",
     "output_type": "stream",
     "text": [
      "{8: {8: 0.49855907780979825, 11: 0.5014409221902018}, 9: {8: 1.0}, 10: {10: 0.19787234042553192, 11: 0.4148936170212766, 12: 0.3872340425531915}, 11: {9: 0.16391852570320078, 10: 0.18816682832201745, 11: 0.18525703200775945, 12: 0.1901066925315228, 13: 0.1784675072744908, 14: 0.09408341416100872}, 12: {10: 0.14035087719298245, 11: 0.24696356275303644, 12: 0.26720647773279355, 13: 0.27125506072874495, 14: 0.07422402159244265}, 13: {11: 0.21664766248574688, 12: 0.21436716077537057, 13: 0.21322690992018245, 14: 0.23033067274800456, 15: 0.12542759407069556}, 14: {12: 0.13268608414239483, 13: 0.2702265372168285, 14: 0.2686084142394822, 15: 0.3284789644012945}, 15: {12: 0.06206896551724138, 13: 0.18275862068965518, 14: 0.06551724137931035, 15: 0.1793103448275862, 16: 0.23448275862068965, 17: 0.27586206896551724}, 16: {14: 0.08866442199775533, 15: 0.1717171717171717, 16: 0.265993265993266, 17: 0.2671156004489338, 18: 0.13468013468013468, 19: 0.0718294051627385}, 17: {16: 0.13369467028003612, 17: 0.2204155374887082, 18: 0.22131887985546522, 19: 0.2086720867208672, 15: 0.21589882565492322}, 18: {16: 0.0448, 17: 0.216, 18: 0.3456, 19: 0.3936}, 19: {16: 0.22846079380445306, 17: 0.22168441432720232, 18: 0.06873184898354308, 19: 0.23910939012584706, 20: 0.2420135527589545}, 20: {19: 0.32193732193732194, 20: 0.32051282051282054, 21: 0.3575498575498576}, 21: {22: 1.0}, 22: {22: 0.49902912621359224, 23: 0.5009708737864078}, 23: {24: 1.0}, 24: {24: 0.24597918637653737, 25: 0.2507095553453169, 26: 0.2563859981078524, 23: 0.2469252601702933}, 25: {24: 0.21770917952883834, 25: 0.2794476035743298, 26: 0.22258326563769293, 27: 0.2802599512591389}, 26: {25: 0.3333333333333333, 26: 0.3275024295432459, 27: 0.3391642371234208}, 27: {26: 0.33493743984600577, 27: 0.32820019249278154, 29: 0.3368623676612127}, 28: {26: 0.3380281690140845, 28: 0.33702213279678067, 29: 0.32494969818913483}, 29: {32: 0.4657142857142857, 29: 0.2507142857142857, 30: 0.2835714285714286}, 30: {32: 0.2283918281822944, 28: 0.1749607124148769, 29: 0.1639601885804086, 30: 0.2283918281822944, 31: 0.20429544264012572}, 31: {32: 0.13523347483323225, 33: 0.21588841722255914, 34: 0.19890842935112188, 29: 0.19739235900545785, 30: 0.1173438447543966, 31: 0.13523347483323225}, 32: {32: 0.18463444857496902, 33: 0.18133002891367203, 34: 0.18463444857496902, 30: 0.17967781908302355, 31: 0.2697232548533664}, 33: {32: 0.12187587756248244, 33: 0.20022465599550687, 34: 0.16371805672563886, 35: 0.18927267621454646, 36: 0.2005054759898905, 31: 0.12440325751193484}, 34: {33: 0.1201440699768459, 34: 0.17494211474144586, 35: 0.1751993825572421, 36: 0.1705685618729097, 37: 0.17674298945201955, 31: 0.18240288139953692}, 35: {33: 0.17799523935466807, 34: 0.170589791060566, 35: 0.1922771753504364, 36: 0.18090452261306533, 37: 0.17614387728114256, 31: 0.10208939434012167}, 36: {34: 0.2018819503849444, 35: 0.20701454234388367, 36: 0.2041631023666952, 37: 0.20501853435985173, 38: 0.18192187054462503}, 37: {35: 0.15090161341347674, 36: 0.2280923758304334, 37: 0.22777602024675736, 38: 0.1755773489402088, 39: 0.2176526415691237}, 38: {41: 0.2392491467576792, 36: 0.1696245733788396, 37: 0.20341296928327646, 38: 0.1696245733788396, 39: 0.21808873720136518}, 39: {36: 0.1718875502008032, 37: 0.1539491298527443, 38: 0.1499330655957162, 39: 0.1855421686746988, 40: 0.18688085676037483, 41: 0.15180722891566265}, 40: {40: 0.18861209964412812, 41: 0.20729537366548043, 36: 0.18890865954922895, 37: 0.2090747330960854, 39: 0.2061091340450771}, 41: {38: 0.1802729848055627, 39: 0.16276075199587947, 40: 0.18078805047643576, 41: 0.1588977594643317, 42: 0.1604429564769508, 43: 0.15683749678083955}, 42: {40: 0.260149130074565, 41: 0.2547638773819387, 42: 0.25890637945318973, 43: 0.22618061309030654}, 43: {42: 0.3486655309483248, 43: 0.3049403747870528, 44: 0.34639409426462237}, 44: {43: 0.5340909090909091, 44: 0.4659090909090909}}\n"
     ]
    }
   ],
   "source": [
    "transition_weights = FRG_weight(transition_FLR, train_data_days[:len(transition_FLR)])\n",
    "print transition_weights"
   ]
  },
  {
   "cell_type": "code",
   "execution_count": 20,
   "metadata": {
    "collapsed": true
   },
   "outputs": [],
   "source": [
    "# forecasting by fuzzy numbers\n",
    "def fuzzy_add(A, B): # Proposition #1 (1)\n",
    "    return tuple([np.sum(x) for x in zip(A, B)])\n",
    "\n",
    "def fuzzy_scale(c, A): # Proposition #1 (2)\n",
    "    cA = [c*a for a in A]\n",
    "    if c>=0:\n",
    "        return tuple(cA)\n",
    "    else:\n",
    "        cA.reverse()\n",
    "        return tuple(cA)\n",
    "\n",
    "def forecast_jump(i, s, A_list):\n",
    "    jumps = s.keys() # possible jumps\n",
    "    m = len(A_list) # number of fuzzy numbers in model\n",
    "    sA_list = list()\n",
    "    sk_list = list()\n",
    "    Aip_list = list()\n",
    "    sA = tuple([0]*len(A_list[0]))\n",
    "    for k in jumps:\n",
    "        ip = k+i\n",
    "        if (ip>=0 and ip<m): # check if index is within range\n",
    "            sk_list.append(s[k])\n",
    "            Aip_list.append(A_list[ip])\n",
    "    sk_tot = np.sum(sk_list)\n",
    "    sk_list = [sk/float(sk_tot) for sk in sk_list] # normalize locally\n",
    "    for i in range(len(sk_list)):\n",
    "        sA_list.append(fuzzy_scale(sk_list[i], Aip_list[i]))\n",
    "    if len(sA_list)>0:\n",
    "        for sa in sA_list:\n",
    "            sA = fuzzy_add(sA, sa)\n",
    "    return sA\n",
    "    \n",
    "def forecast_transition(i, w, A_list):\n",
    "    wA = tuple([0]*len(A_list[0])) # default FLG relation\n",
    "    if i in w.keys():\n",
    "        for kj, v in w[i].iteritems():\n",
    "            wA = fuzzy_add(wA, fuzzy_scale(v, A_list[kj]))\n",
    "    return wA\n",
    "\n",
    "def forecast_price(As, Aw, gamma=0.1):\n",
    "    if gamma<0 or gamma>1:\n",
    "        raise ValueError(\"gamma should be between 0.0 and 1.0 (inclusive on both ends)\")     \n",
    "    wAi = fuzzy_scale(1-gamma, Aw)\n",
    "    if (np.sum(wAi) == 0): # no FLR observed in history\n",
    "        sAi = As\n",
    "    else:\n",
    "        sAi = fuzzy_scale(gamma, As)\n",
    "    Ai_pred = fuzzy_add(sAi, wAi)\n",
    "    return np.mean(Ai_pred)"
   ]
  },
  {
   "cell_type": "code",
   "execution_count": 21,
   "metadata": {
    "collapsed": true
   },
   "outputs": [],
   "source": [
    "def get_membership(value, fuzzy_numbers):\n",
    "    n_fuzzy_numbers = len(fuzzy_numbers)\n",
    "    membership_index = 0\n",
    "    value_rep = [value] * n_fuzzy_numbers\n",
    "    memberships = map(lambda val, Ai: membership_evaluation(val, Ai), value_rep, fuzzy_numbers)\n",
    "    membership_index, _ = max(enumerate(memberships), key=operator.itemgetter(1))\n",
    "    return membership_index"
   ]
  },
  {
   "cell_type": "code",
   "execution_count": 22,
   "metadata": {
    "collapsed": false
   },
   "outputs": [
    {
     "name": "stdout",
     "output_type": "stream",
     "text": [
      "109.669171918\n"
     ]
    }
   ],
   "source": [
    "# fit training data\n",
    "from sklearn.metrics import mean_squared_error\n",
    "train_features = train_data['Price'].tolist()[:-1]\n",
    "train_prices = train_data['Price'].tolist()[1:]\n",
    "fit_prices = list()\n",
    "for price in train_features:\n",
    "    index = get_membership(price, A_list)\n",
    "    next_price = forecast_price(forecast_jump(index, jump_weights, A_list), forecast_transition(index, transition_weights, A_list), gamma=0.9)\n",
    "    fit_prices.append(next_price)\n",
    "print np.sqrt(mean_squared_error(train_prices, fit_prices))"
   ]
  },
  {
   "cell_type": "code",
   "execution_count": 23,
   "metadata": {
    "collapsed": false
   },
   "outputs": [
    {
     "name": "stdout",
     "output_type": "stream",
     "text": [
      "147.398220393\n"
     ]
    }
   ],
   "source": [
    "# forecasting test data\n",
    "test_features = [train_data['Price'].tolist()[-1]] + test_data['Price'].tolist()[:-1]\n",
    "actual_prices = test_data['Price'].tolist()\n",
    "pred_prices = list()\n",
    "for price in test_features:\n",
    "    index = get_membership(price, A_list)\n",
    "    next_price = forecast_price(forecast_jump(index, jump_weights, A_list), forecast_transition(index, transition_weights, A_list), gamma=0.9)\n",
    "    pred_prices.append(next_price)\n",
    "print np.sqrt(mean_squared_error(actual_prices, pred_prices))"
   ]
  },
  {
   "cell_type": "code",
   "execution_count": 24,
   "metadata": {
    "collapsed": false
   },
   "outputs": [],
   "source": [
    "# from pprint import pprint\n",
    "# pprint(zip(actual_prices, pred_prices))"
   ]
  },
  {
   "cell_type": "code",
   "execution_count": 25,
   "metadata": {
    "collapsed": false
   },
   "outputs": [
    {
     "data": {
      "text/html": [
       "<script>requirejs.config({paths: { 'plotly': ['https://cdn.plot.ly/plotly-latest.min']},});if(!window.Plotly) {{require(['plotly'],function(plotly) {window.Plotly=plotly;});}}</script>"
      ],
      "text/plain": [
       "<IPython.core.display.HTML object>"
      ]
     },
     "metadata": {},
     "output_type": "display_data"
    },
    {
     "data": {
      "text/html": [
       "<iframe id=\"igraph\" scrolling=\"no\" style=\"border:none;\" seamless=\"seamless\" src=\"https://plot.ly/~imaginationsuper/6.embed\" height=\"525px\" width=\"100%\"></iframe>"
      ],
      "text/plain": [
       "<plotly.tools.PlotlyDisplay object>"
      ]
     },
     "execution_count": 25,
     "metadata": {},
     "output_type": "execute_result"
    }
   ],
   "source": [
    "import plotly.plotly as py\n",
    "import plotly.graph_objs as go\n",
    "from plotly.offline import init_notebook_mode\n",
    "import plotly.plotly as py\n",
    "py.sign_in('imaginationsuper', 'PQj7gXzsTJFqNKsXkWMT')\n",
    "init_notebook_mode(connected=True)\n",
    "df = pd.DataFrame(train_data[1:]['Date'])\n",
    "df['data training'] = pd.Series(train_prices).values\n",
    "df['data fitting'] = pd.Series(fit_prices).values\n",
    "trace_fit = go.Scatter(\n",
    "                x=df['Date'],\n",
    "                y=df['data fitting'],\n",
    "                name = \"data fitting\",\n",
    "                line = dict(color = 'blue'),\n",
    "                opacity = 0.8)\n",
    "trace_train = go.Scatter(\n",
    "                x=df['Date'],\n",
    "                y=df['data training'],\n",
    "                name = \"data training\",\n",
    "                line = dict(color = 'black'),\n",
    "                opacity = 0.8)\n",
    "data = [trace_fit, trace_train]\n",
    "layout = dict(\n",
    "    title = \"IBEX35 Price Fitting\",\n",
    "    xaxis = dict(\n",
    "        range = ['2013-01-02','2014-12-31'])\n",
    ")\n",
    "fig = dict(data=data, layout=layout)\n",
    "py.iplot(fig, filename = \"IBEX35_fitting\")"
   ]
  },
  {
   "cell_type": "code",
   "execution_count": 26,
   "metadata": {
    "collapsed": false
   },
   "outputs": [
    {
     "data": {
      "text/html": [
       "<iframe id=\"igraph\" scrolling=\"no\" style=\"border:none;\" seamless=\"seamless\" src=\"https://plot.ly/~imaginationsuper/4.embed\" height=\"525px\" width=\"100%\"></iframe>"
      ],
      "text/plain": [
       "<plotly.tools.PlotlyDisplay object>"
      ]
     },
     "execution_count": 26,
     "metadata": {},
     "output_type": "execute_result"
    }
   ],
   "source": [
    "df = pd.DataFrame(test_data['Date'])\n",
    "df['data testing'] = pd.Series(actual_prices).values\n",
    "df['forecasting'] = pd.Series(pred_prices).values\n",
    "trace_forecast = go.Scatter(\n",
    "                x=df['Date'],\n",
    "                y=df['forecasting'],\n",
    "                name = \"forecasting\",\n",
    "                line = dict(color = 'green'),\n",
    "                opacity = 0.8)\n",
    "trace_actual = go.Scatter(\n",
    "                x=df['Date'],\n",
    "                y=df['data testing'],\n",
    "                name = \"data testing\",\n",
    "                line = dict(color = 'black'),\n",
    "                opacity = 0.8)\n",
    "data = [trace_forecast, trace_actual]\n",
    "layout = dict(\n",
    "    title = \"IBEX35 Price Forecasting\",\n",
    "    xaxis = dict(\n",
    "        range = ['2015-01-02','2015-12-01'])\n",
    ")\n",
    "fig = dict(data=data, layout=layout)\n",
    "py.iplot(fig, filename = \"IBEX35_forecasting\")"
   ]
  },
  {
   "cell_type": "code",
   "execution_count": null,
   "metadata": {
    "collapsed": false
   },
   "outputs": [],
   "source": []
  },
  {
   "cell_type": "code",
   "execution_count": null,
   "metadata": {
    "collapsed": true
   },
   "outputs": [],
   "source": []
  }
 ],
 "metadata": {
  "kernelspec": {
   "display_name": "Python 2",
   "language": "python",
   "name": "python2"
  },
  "language_info": {
   "codemirror_mode": {
    "name": "ipython",
    "version": 2
   },
   "file_extension": ".py",
   "mimetype": "text/x-python",
   "name": "python",
   "nbconvert_exporter": "python",
   "pygments_lexer": "ipython2",
   "version": "2.7.13"
  }
 },
 "nbformat": 4,
 "nbformat_minor": 0
}
