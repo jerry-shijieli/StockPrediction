{
 "cells": [
  {
   "cell_type": "code",
   "execution_count": 1,
   "metadata": {
    "collapsed": true
   },
   "outputs": [],
   "source": [
    "import pandas as pd\n",
    "import numpy as np\n",
    "import operator\n",
    "from sklearn.model_selection import train_test_split"
   ]
  },
  {
   "cell_type": "code",
   "execution_count": 2,
   "metadata": {
    "collapsed": false
   },
   "outputs": [
    {
     "data": {
      "text/plain": [
       "[u'Sheet1']"
      ]
     },
     "execution_count": 2,
     "metadata": {},
     "output_type": "execute_result"
    }
   ],
   "source": [
    "datafile = '../data/IBEX35(201301-201512).xlsx'\n",
    "xl = pd.ExcelFile(datafile)\n",
    "xl.sheet_names"
   ]
  },
  {
   "cell_type": "code",
   "execution_count": 3,
   "metadata": {
    "collapsed": false
   },
   "outputs": [
    {
     "data": {
      "text/html": [
       "<div>\n",
       "<table border=\"1\" class=\"dataframe\">\n",
       "  <thead>\n",
       "    <tr style=\"text-align: right;\">\n",
       "      <th></th>\n",
       "      <th>Date</th>\n",
       "      <th>Price</th>\n",
       "      <th>Open</th>\n",
       "      <th>High</th>\n",
       "      <th>Low</th>\n",
       "      <th>Vol.</th>\n",
       "      <th>Change %</th>\n",
       "    </tr>\n",
       "  </thead>\n",
       "  <tbody>\n",
       "    <tr>\n",
       "      <th>0</th>\n",
       "      <td>2013-01-02</td>\n",
       "      <td>8447.6</td>\n",
       "      <td>8337.9</td>\n",
       "      <td>8447.6</td>\n",
       "      <td>8286.7</td>\n",
       "      <td>280.53M</td>\n",
       "      <td>0.0343</td>\n",
       "    </tr>\n",
       "    <tr>\n",
       "      <th>1</th>\n",
       "      <td>2013-01-03</td>\n",
       "      <td>8403.4</td>\n",
       "      <td>8375.0</td>\n",
       "      <td>8422.6</td>\n",
       "      <td>8334.3</td>\n",
       "      <td>182.28M</td>\n",
       "      <td>-0.0052</td>\n",
       "    </tr>\n",
       "    <tr>\n",
       "      <th>2</th>\n",
       "      <td>2013-01-04</td>\n",
       "      <td>8435.8</td>\n",
       "      <td>8411.7</td>\n",
       "      <td>8447.0</td>\n",
       "      <td>8386.7</td>\n",
       "      <td>230.12M</td>\n",
       "      <td>0.0039</td>\n",
       "    </tr>\n",
       "    <tr>\n",
       "      <th>3</th>\n",
       "      <td>2013-01-07</td>\n",
       "      <td>8419.0</td>\n",
       "      <td>8434.3</td>\n",
       "      <td>8485.6</td>\n",
       "      <td>8406.3</td>\n",
       "      <td>289.12M</td>\n",
       "      <td>-0.0020</td>\n",
       "    </tr>\n",
       "    <tr>\n",
       "      <th>4</th>\n",
       "      <td>2013-01-08</td>\n",
       "      <td>8453.0</td>\n",
       "      <td>8388.2</td>\n",
       "      <td>8493.5</td>\n",
       "      <td>8374.7</td>\n",
       "      <td>335.52M</td>\n",
       "      <td>0.0040</td>\n",
       "    </tr>\n",
       "  </tbody>\n",
       "</table>\n",
       "</div>"
      ],
      "text/plain": [
       "        Date   Price    Open    High     Low     Vol.  Change %\n",
       "0 2013-01-02  8447.6  8337.9  8447.6  8286.7  280.53M    0.0343\n",
       "1 2013-01-03  8403.4  8375.0  8422.6  8334.3  182.28M   -0.0052\n",
       "2 2013-01-04  8435.8  8411.7  8447.0  8386.7  230.12M    0.0039\n",
       "3 2013-01-07  8419.0  8434.3  8485.6  8406.3  289.12M   -0.0020\n",
       "4 2013-01-08  8453.0  8388.2  8493.5  8374.7  335.52M    0.0040"
      ]
     },
     "execution_count": 3,
     "metadata": {},
     "output_type": "execute_result"
    }
   ],
   "source": [
    "df = xl.parse(u'Sheet1')\n",
    "df.head()"
   ]
  },
  {
   "cell_type": "code",
   "execution_count": 4,
   "metadata": {
    "collapsed": false,
    "scrolled": true
   },
   "outputs": [
    {
     "data": {
      "text/html": [
       "<div>\n",
       "<table border=\"1\" class=\"dataframe\">\n",
       "  <thead>\n",
       "    <tr style=\"text-align: right;\">\n",
       "      <th></th>\n",
       "      <th>Price</th>\n",
       "      <th>Open</th>\n",
       "      <th>High</th>\n",
       "      <th>Low</th>\n",
       "      <th>Change %</th>\n",
       "    </tr>\n",
       "  </thead>\n",
       "  <tbody>\n",
       "    <tr>\n",
       "      <th>count</th>\n",
       "      <td>792.000000</td>\n",
       "      <td>792.000000</td>\n",
       "      <td>792.000000</td>\n",
       "      <td>792.000000</td>\n",
       "      <td>792.000000</td>\n",
       "    </tr>\n",
       "    <tr>\n",
       "      <th>mean</th>\n",
       "      <td>9963.164141</td>\n",
       "      <td>9965.216667</td>\n",
       "      <td>10037.700379</td>\n",
       "      <td>9878.218687</td>\n",
       "      <td>0.000415</td>\n",
       "    </tr>\n",
       "    <tr>\n",
       "      <th>std</th>\n",
       "      <td>1040.412907</td>\n",
       "      <td>1042.242568</td>\n",
       "      <td>1042.808739</td>\n",
       "      <td>1037.357084</td>\n",
       "      <td>0.012150</td>\n",
       "    </tr>\n",
       "    <tr>\n",
       "      <th>min</th>\n",
       "      <td>7553.200000</td>\n",
       "      <td>7636.600000</td>\n",
       "      <td>7674.600000</td>\n",
       "      <td>7508.400000</td>\n",
       "      <td>-0.050100</td>\n",
       "    </tr>\n",
       "    <tr>\n",
       "      <th>25%</th>\n",
       "      <td>9348.350000</td>\n",
       "      <td>9334.300000</td>\n",
       "      <td>9416.875000</td>\n",
       "      <td>9264.625000</td>\n",
       "      <td>-0.006800</td>\n",
       "    </tr>\n",
       "    <tr>\n",
       "      <th>50%</th>\n",
       "      <td>10223.250000</td>\n",
       "      <td>10227.000000</td>\n",
       "      <td>10310.500000</td>\n",
       "      <td>10129.350000</td>\n",
       "      <td>0.001000</td>\n",
       "    </tr>\n",
       "    <tr>\n",
       "      <th>75%</th>\n",
       "      <td>10691.600000</td>\n",
       "      <td>10700.725000</td>\n",
       "      <td>10761.575000</td>\n",
       "      <td>10611.200000</td>\n",
       "      <td>0.007600</td>\n",
       "    </tr>\n",
       "    <tr>\n",
       "      <th>max</th>\n",
       "      <td>11866.400000</td>\n",
       "      <td>11798.500000</td>\n",
       "      <td>11884.600000</td>\n",
       "      <td>11760.800000</td>\n",
       "      <td>0.038700</td>\n",
       "    </tr>\n",
       "  </tbody>\n",
       "</table>\n",
       "</div>"
      ],
      "text/plain": [
       "              Price          Open          High           Low    Change %\n",
       "count    792.000000    792.000000    792.000000    792.000000  792.000000\n",
       "mean    9963.164141   9965.216667  10037.700379   9878.218687    0.000415\n",
       "std     1040.412907   1042.242568   1042.808739   1037.357084    0.012150\n",
       "min     7553.200000   7636.600000   7674.600000   7508.400000   -0.050100\n",
       "25%     9348.350000   9334.300000   9416.875000   9264.625000   -0.006800\n",
       "50%    10223.250000  10227.000000  10310.500000  10129.350000    0.001000\n",
       "75%    10691.600000  10700.725000  10761.575000  10611.200000    0.007600\n",
       "max    11866.400000  11798.500000  11884.600000  11760.800000    0.038700"
      ]
     },
     "execution_count": 4,
     "metadata": {},
     "output_type": "execute_result"
    }
   ],
   "source": [
    "df['Date'] = pd.to_datetime(df['Date'])\n",
    "df.describe()"
   ]
  },
  {
   "cell_type": "code",
   "execution_count": 5,
   "metadata": {
    "collapsed": false
   },
   "outputs": [
    {
     "name": "stdout",
     "output_type": "stream",
     "text": [
      "(557, 7) (235, 7)\n"
     ]
    }
   ],
   "source": [
    "split_date = '2014-12-31'\n",
    "train_data = df[df['Date'] <= split_date]\n",
    "test_data = df[df['Date'] > split_date]\n",
    "print train_data.shape, test_data.shape"
   ]
  },
  {
   "cell_type": "code",
   "execution_count": 6,
   "metadata": {
    "collapsed": true
   },
   "outputs": [],
   "source": [
    "def universe_partition(data, d1=10, d2=10):\n",
    "    x_max, x_min = data.max(axis=0), data.min(axis=0)\n",
    "    std_val = data.std(axis=0)\n",
    "    len_val = std_val / 10\n",
    "    u_max, u_min = x_max+d2, x_min-d1 # bound of universe discourse\n",
    "    u_b = np.arange(u_min, u_max, step=len_val) # cutting points\n",
    "    u_s = u_b[:-1] # u1\n",
    "    u_e = u_b[1:] # u2\n",
    "    u_discourse = zip(u_b, u_e) # interval\n",
    "    return u_discourse"
   ]
  },
  {
   "cell_type": "code",
   "execution_count": 7,
   "metadata": {
    "collapsed": false
   },
   "outputs": [
    {
     "name": "stdout",
     "output_type": "stream",
     "text": [
      "53\n"
     ]
    }
   ],
   "source": [
    "u_discourse = universe_partition(train_data['Price'], d1=953, d2=812)\n",
    "print len(u_discourse)"
   ]
  },
  {
   "cell_type": "code",
   "execution_count": 8,
   "metadata": {
    "collapsed": false
   },
   "outputs": [],
   "source": [
    "def set_fuzzy_numbers(u_discourse):\n",
    "    fuzzy_numbers = list()\n",
    "    for i, u_i in enumerate(u_discourse):\n",
    "        if (i!=0) and (i!=len(u_discourse)-1):\n",
    "            u_l, u_r = u_discourse[i-1], u_discourse[i+1]\n",
    "            A_l, A_r = np.mean(u_l), np.mean(u_r)\n",
    "            fuzzy_numbers.append((A_l, u_i[0], u_i[1], A_r))\n",
    "    return fuzzy_numbers"
   ]
  },
  {
   "cell_type": "code",
   "execution_count": 9,
   "metadata": {
    "collapsed": false
   },
   "outputs": [
    {
     "name": "stdout",
     "output_type": "stream",
     "text": [
      "51\n"
     ]
    }
   ],
   "source": [
    "A = set_fuzzy_numbers(u_discourse)\n",
    "print len(A)"
   ]
  },
  {
   "cell_type": "code",
   "execution_count": 10,
   "metadata": {
    "collapsed": true
   },
   "outputs": [],
   "source": [
    "def membership_evaluation(value, fuzzy_number):\n",
    "    A_l, u_1, u_2, A_r = fuzzy_number\n",
    "    mu = 0 # membership indication\n",
    "    try:\n",
    "        if np.logical_and(value>=A_l, value <u_1):\n",
    "            mu = (value - A_l) / (u_1 - A_l)\n",
    "        elif np.logical_and(value>=u_1, value<=u_2):\n",
    "            mu = 1\n",
    "        elif np.logical_and(value>u_2, value<=A_r):\n",
    "            mu = (value - u_2) / (A_r - u_2)\n",
    "    except ZeroDivisionError:\n",
    "        mu = 0\n",
    "    return mu"
   ]
  },
  {
   "cell_type": "code",
   "execution_count": 11,
   "metadata": {
    "collapsed": true
   },
   "outputs": [],
   "source": [
    "def membership_assignement(price_time_series, fuzzy_numbers):\n",
    "    n_fuzzy_numbers = len(fuzzy_numbers)\n",
    "    membership_list = list()\n",
    "    for i, price in enumerate(price_time_series):\n",
    "        price_rep = [price] * n_fuzzy_numbers\n",
    "        memberships = map(lambda pr, Ai: membership_evaluation(pr, Ai), price_rep, fuzzy_numbers)\n",
    "        max_index, _ = max(enumerate(memberships), key=operator.itemgetter(1))\n",
    "        membership_list.append(max_index)\n",
    "    return membership_list"
   ]
  },
  {
   "cell_type": "code",
   "execution_count": 12,
   "metadata": {
    "collapsed": false
   },
   "outputs": [
    {
     "name": "stdout",
     "output_type": "stream",
     "text": [
      "557\n"
     ]
    }
   ],
   "source": [
    "train_data_membership_series = membership_assignement(train_data['Price'], fuzzy_numbers=A)\n",
    "print len(train_data_membership_series)"
   ]
  },
  {
   "cell_type": "code",
   "execution_count": 13,
   "metadata": {
    "collapsed": false
   },
   "outputs": [
    {
     "name": "stdout",
     "output_type": "stream",
     "text": [
      "count                         557\n",
      "mean     372 days 01:40:49.551166\n",
      "std      203 days 14:54:05.164563\n",
      "min               0 days 00:00:00\n",
      "25%             198 days 00:00:00\n",
      "50%             398 days 00:00:00\n",
      "75%             531 days 00:00:00\n",
      "max             728 days 00:00:00\n",
      "Name: Date, dtype: object\n"
     ]
    }
   ],
   "source": [
    "first_date = train_data['Date'][0]\n",
    "train_data_days = train_data['Date'].apply(lambda x: x - first_date)\n",
    "print train_data_days.describe()"
   ]
  },
  {
   "cell_type": "code",
   "execution_count": 16,
   "metadata": {
    "collapsed": true
   },
   "outputs": [],
   "source": [
    "def FLR(membership_time_series): # transition between consecutive observations\n",
    "    transitions = list()\n",
    "    for i, Aj in enumerate(membership_time_series):\n",
    "        if i!=0:\n",
    "            Ai = membership_time_series[i-1]\n",
    "            transitions.append((Ai, Aj))\n",
    "    return transitions"
   ]
  },
  {
   "cell_type": "code",
   "execution_count": 18,
   "metadata": {
    "collapsed": false
   },
   "outputs": [
    {
     "name": "stdout",
     "output_type": "stream",
     "text": [
      "556\n"
     ]
    }
   ],
   "source": [
    "transition_FLR = FLR(train_data_membership_series)\n",
    "print len(transition_FLR)"
   ]
  },
  {
   "cell_type": "code",
   "execution_count": 19,
   "metadata": {
    "collapsed": true
   },
   "outputs": [],
   "source": [
    "def FLR_weight(transitions): # compute jump frequency by FLR\n",
    "    pass"
   ]
  },
  {
   "cell_type": "code",
   "execution_count": null,
   "metadata": {
    "collapsed": true
   },
   "outputs": [],
   "source": []
  }
 ],
 "metadata": {
  "kernelspec": {
   "display_name": "Python 2",
   "language": "python",
   "name": "python2"
  },
  "language_info": {
   "codemirror_mode": {
    "name": "ipython",
    "version": 2
   },
   "file_extension": ".py",
   "mimetype": "text/x-python",
   "name": "python",
   "nbconvert_exporter": "python",
   "pygments_lexer": "ipython2",
   "version": "2.7.13"
  }
 },
 "nbformat": 4,
 "nbformat_minor": 0
}
