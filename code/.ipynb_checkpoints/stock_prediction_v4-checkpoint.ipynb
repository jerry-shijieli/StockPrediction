{
 "cells": [
  {
   "cell_type": "markdown",
   "metadata": {},
   "source": [
    "Reorganize code of fuzzy functions to enhance performance by fixing the discourse and thus the fuzzy set (no reassignment for online learning)."
   ]
  },
  {
   "cell_type": "code",
   "execution_count": 1,
   "metadata": {
    "collapsed": false
   },
   "outputs": [
    {
     "data": {
      "text/html": [
       "<script>requirejs.config({paths: { 'plotly': ['https://cdn.plot.ly/plotly-latest.min']},});if(!window.Plotly) {{require(['plotly'],function(plotly) {window.Plotly=plotly;});}}</script>"
      ],
      "text/plain": [
       "<IPython.core.display.HTML object>"
      ]
     },
     "metadata": {},
     "output_type": "display_data"
    }
   ],
   "source": [
    "import pandas as pd\n",
    "import numpy as np\n",
    "import operator\n",
    "import matplotlib.pyplot as plt\n",
    "import plotly.plotly as py\n",
    "import plotly.graph_objs as go\n",
    "%matplotlib inline\n",
    "from time import time\n",
    "\n",
    "from collections import defaultdict\n",
    "from sklearn.model_selection import train_test_split\n",
    "from sklearn.metrics import mean_squared_error\n",
    "from plotly.offline import init_notebook_mode\n",
    "\n",
    "py.sign_in('imaginationsuper', 'PQj7gXzsTJFqNKsXkWMT')\n",
    "init_notebook_mode(connected=True)"
   ]
  },
  {
   "cell_type": "code",
   "execution_count": 2,
   "metadata": {
    "collapsed": true
   },
   "outputs": [],
   "source": [
    "def universe_partition(data, d1=10, d2=10):\n",
    "#     x_max, x_min = data.max(axis=0), data.min(axis=0)    \n",
    "#     std_val = data.std(axis=0)\n",
    "#     len_val = np.round(std_val / 10)\n",
    "    len_val = 100\n",
    "    u_max, u_min = 12600+len_val, 6600-len_val\n",
    "#     u_max, u_min = int(x_max+d2), int(x_min-d1) # bound of universe discourse\n",
    "    u_b = np.arange(u_min, u_max, step=float(len_val)) # cutting points\n",
    "    u_s = u_b[:-1] # u1\n",
    "    u_e = u_b[1:] # u2\n",
    "    u_discourse = zip(u_b, u_e) # interval\n",
    "    return u_discourse\n",
    "\n",
    "def set_fuzzy_numbers(u_discourse):\n",
    "    fuzzy_numbers = list()\n",
    "    for i, u_i in enumerate(u_discourse):\n",
    "        if (i!=0) and (i!=len(u_discourse)-1):\n",
    "            u_l, u_r = u_discourse[i-1], u_discourse[i+1]\n",
    "            A_l, A_r = np.mean(u_l), np.mean(u_r)\n",
    "            fuzzy_numbers.append((A_l, u_i[0], u_i[1], A_r))\n",
    "    return fuzzy_numbers"
   ]
  },
  {
   "cell_type": "code",
   "execution_count": 3,
   "metadata": {
    "collapsed": true
   },
   "outputs": [],
   "source": [
    "def membership_evaluation(value, fuzzy_number):\n",
    "    A_l, u_1, u_2, A_r = fuzzy_number\n",
    "    mu = 0 # membership indication\n",
    "    try:\n",
    "        if np.logical_and(value>=A_l, value <u_1):\n",
    "            mu = (value - A_l) / (u_1 - A_l)\n",
    "        elif np.logical_and(value>=u_1, value<=u_2):\n",
    "            mu = 1\n",
    "        elif np.logical_and(value>u_2, value<=A_r):\n",
    "            mu = (value - u_2) / (A_r - u_2)\n",
    "    except ZeroDivisionError:\n",
    "        mu = 0\n",
    "    return mu\n",
    "\n",
    "def membership_assignment(value_time_series, fuzzy_numbers):\n",
    "    n_fuzzy_numbers = len(fuzzy_numbers)\n",
    "    membership_list = list()\n",
    "    for i, value in enumerate(value_time_series):\n",
    "        value_rep = [value] * n_fuzzy_numbers\n",
    "        memberships = map(lambda val, A: membership_evaluation(val, A), value_rep, fuzzy_numbers)\n",
    "        max_index, _ = max(enumerate(memberships), key=operator.itemgetter(1))\n",
    "        membership_list.append(max_index)\n",
    "    return membership_list\n",
    "\n",
    "def get_membership(value, fuzzy_numbers):\n",
    "    n_fuzzy_numbers = len(fuzzy_numbers)\n",
    "    membership_index = 0\n",
    "    value_rep = [value] * n_fuzzy_numbers\n",
    "    memberships = map(lambda val, Ai: membership_evaluation(val, Ai), value_rep, fuzzy_numbers)\n",
    "    membership_index, _ = max(enumerate(memberships), key=operator.itemgetter(1))\n",
    "    return membership_index"
   ]
  },
  {
   "cell_type": "code",
   "execution_count": 4,
   "metadata": {
    "collapsed": true
   },
   "outputs": [],
   "source": [
    "def FLR(membership_time_series): # transition between consecutive observations\n",
    "    transitions = list()\n",
    "    for j, Aj in enumerate(membership_time_series):\n",
    "        if j!=0:\n",
    "            Ai = membership_time_series[j-1]\n",
    "            transitions.append((Ai, Aj))\n",
    "    return transitions\n",
    "\n",
    "def FLR_weight(transitions, time_series): # compute jump frequency by FLR\n",
    "    jumps = map(lambda x: x[1]-x[0], transitions) # compute jumps by transitions \n",
    "    jump_time_series = zip(jumps, time_series) # assign timestamp for each jump beta^t_p,p+k\n",
    "    jump_counts = defaultdict(list) \n",
    "    for key, value in jump_time_series:\n",
    "        jump_counts[key].append(value) # count jump by its timestamps\n",
    "    jump_counts = {key: np.sum(value) for key, value in jump_counts.items()} # sum up total time for each jump\n",
    "    total_count = float(np.sum(jump_counts.values()))\n",
    "    for key, value in jump_counts.iteritems(): \n",
    "        jump_counts[key] = value / total_count # normalize jumps as weights\n",
    "    return jump_counts\n",
    "\n",
    "def FRG_weight(transitions, time_series): \n",
    "    transition_time_series = zip(transitions, time_series)\n",
    "    transition_groups = map(lambda x: (x[0][0], (x[0][1], x[1])), transition_time_series) \n",
    "    transition_weights = defaultdict(list)\n",
    "    for key, value in transition_groups:\n",
    "        transition_weights[key].append(value) # group transitions by initial state A_i\n",
    "    transition_weights = {key: dict(value) for key, value in transition_weights.items()}\n",
    "    for key, value in transition_weights.iteritems():\n",
    "        total_weight = float(np.sum(value.values()))\n",
    "        value = {k: (v/total_weight) for k, v in value.items()} # normalize weight inside each group\n",
    "        transition_weights[key] = value\n",
    "    return transition_weights"
   ]
  },
  {
   "cell_type": "code",
   "execution_count": 5,
   "metadata": {
    "collapsed": true
   },
   "outputs": [],
   "source": [
    "# forecasting by fuzzy numbers\n",
    "def fuzzy_add(A, B): # Proposition #1 (1)\n",
    "    return tuple([np.sum(x) for x in zip(A, B)])\n",
    "\n",
    "def fuzzy_scale(c, A): # Proposition #1 (2)\n",
    "    cA = [c*a for a in A]\n",
    "    if c>=0:\n",
    "        return tuple(cA)\n",
    "    else:\n",
    "        cA.reverse()\n",
    "        return tuple(cA)\n",
    "\n",
    "def forecast_jump(i, s, A_list):\n",
    "    jumps = s.keys() # possible jumps\n",
    "    m = len(A_list) # number of fuzzy numbers in model\n",
    "    sA_list = list()\n",
    "    sk_list = list()\n",
    "    Aip_list = list()\n",
    "    sA = tuple([0]*len(A_list[0]))\n",
    "    for k in jumps:\n",
    "        ip = k+i\n",
    "        if (ip>=0 and ip<m): # check if index is within range\n",
    "            sk_list.append(s[k])\n",
    "            Aip_list.append(A_list[ip])\n",
    "    sk_tot = np.sum(sk_list)\n",
    "    sk_list = [sk/float(sk_tot) for sk in sk_list] # normalize locally\n",
    "    for i in range(len(sk_list)):\n",
    "        sA_list.append(fuzzy_scale(sk_list[i], Aip_list[i]))\n",
    "    if len(sA_list)>0:\n",
    "        for sa in sA_list:\n",
    "            sA = fuzzy_add(sA, sa)\n",
    "    return sA\n",
    "    \n",
    "def forecast_transition(i, w, A_list):\n",
    "    wA = tuple([0]*len(A_list[0])) # default FLG relation\n",
    "    if i in w.keys():\n",
    "        for kj, v in w[i].iteritems():\n",
    "            wA = fuzzy_add(wA, fuzzy_scale(v, A_list[kj]))\n",
    "    return wA\n",
    "\n",
    "def forecast_price(As, Aw, gamma=0.1):\n",
    "    if gamma<0 or gamma>1:\n",
    "        raise ValueError(\"gamma should be between 0.0 and 1.0 (inclusive on both ends)\")     \n",
    "    wAi = fuzzy_scale(1-gamma, Aw)\n",
    "    if (np.sum(wAi) == 0): # no FLR observed in history\n",
    "        sAi = As\n",
    "    else:\n",
    "        sAi = fuzzy_scale(gamma, As)\n",
    "    Ai_pred = fuzzy_add(sAi, wAi)\n",
    "    return np.mean(Ai_pred)"
   ]
  },
  {
   "cell_type": "code",
   "execution_count": 6,
   "metadata": {
    "collapsed": true
   },
   "outputs": [],
   "source": [
    "start_time = time()\n",
    "# datafile = '../data/IBEX35(201301-201512).xlsx'\n",
    "# xl = pd.ExcelFile(datafile)\n",
    "# df = xl.parse(u'Sheet1')\n",
    "datafile = '../data/IBEX35.csv'\n",
    "dateparse = lambda x: pd.datetime.strptime(x, '%m/%d/%y')\n",
    "df = pd.read_csv(datafile, header=0, parse_dates=['Date'], date_parser=dateparse)"
   ]
  },
  {
   "cell_type": "code",
   "execution_count": 7,
   "metadata": {
    "collapsed": true
   },
   "outputs": [],
   "source": [
    "split_date = pd.datetime.strptime('2014-12-31', '%Y-%m-%d')\n",
    "train_data = df[df['Date'] < split_date]\n",
    "test_data = df[df['Date'] >= split_date]\n",
    "first_date = train_data['Date'][0]"
   ]
  },
  {
   "cell_type": "code",
   "execution_count": 8,
   "metadata": {
    "collapsed": false
   },
   "outputs": [
    {
     "ename": "ValueError",
     "evalue": "max() arg is an empty sequence",
     "output_type": "error",
     "traceback": [
      "\u001b[0;31m---------------------------------------------------------------------------\u001b[0m",
      "\u001b[0;31mValueError\u001b[0m                                Traceback (most recent call last)",
      "\u001b[0;32m<ipython-input-8-9149bd059da7>\u001b[0m in \u001b[0;36m<module>\u001b[0;34m()\u001b[0m\n\u001b[1;32m      5\u001b[0m \u001b[0mu_discourse\u001b[0m \u001b[0;34m=\u001b[0m \u001b[0muniverse_partition\u001b[0m\u001b[0;34m(\u001b[0m\u001b[0mtrain_data\u001b[0m\u001b[0;34m[\u001b[0m\u001b[0moption\u001b[0m\u001b[0;34m]\u001b[0m\u001b[0;34m,\u001b[0m \u001b[0md1\u001b[0m\u001b[0;34m=\u001b[0m\u001b[0;36m1053\u001b[0m\u001b[0;34m,\u001b[0m \u001b[0md2\u001b[0m\u001b[0;34m=\u001b[0m\u001b[0;36m912\u001b[0m\u001b[0;34m)\u001b[0m\u001b[0;34m\u001b[0m\u001b[0m\n\u001b[1;32m      6\u001b[0m \u001b[0mA_list\u001b[0m \u001b[0;34m=\u001b[0m \u001b[0mset_fuzzy_numbers\u001b[0m\u001b[0;34m(\u001b[0m\u001b[0mu_discourse\u001b[0m\u001b[0;34m)\u001b[0m\u001b[0;34m\u001b[0m\u001b[0m\n\u001b[0;32m----> 7\u001b[0;31m \u001b[0mdata_membership_sequence\u001b[0m \u001b[0;34m=\u001b[0m \u001b[0mmembership_assignment\u001b[0m\u001b[0;34m(\u001b[0m\u001b[0mtrain_data\u001b[0m\u001b[0;34m[\u001b[0m\u001b[0moption\u001b[0m\u001b[0;34m]\u001b[0m\u001b[0;34m,\u001b[0m \u001b[0mfuzzy_numbers\u001b[0m\u001b[0;34m=\u001b[0m\u001b[0mA_list\u001b[0m\u001b[0;34m)\u001b[0m\u001b[0;34m\u001b[0m\u001b[0m\n\u001b[0m\u001b[1;32m      8\u001b[0m \u001b[0mdata_days\u001b[0m \u001b[0;34m=\u001b[0m \u001b[0mtrain_data\u001b[0m\u001b[0;34m[\u001b[0m\u001b[0;34m'Date'\u001b[0m\u001b[0;34m]\u001b[0m\u001b[0;34m.\u001b[0m\u001b[0mapply\u001b[0m\u001b[0;34m(\u001b[0m\u001b[0;32mlambda\u001b[0m \u001b[0mx\u001b[0m\u001b[0;34m:\u001b[0m \u001b[0mx\u001b[0m\u001b[0;34m-\u001b[0m\u001b[0mfirst_date\u001b[0m\u001b[0;34m)\u001b[0m\u001b[0;34m.\u001b[0m\u001b[0mdt\u001b[0m\u001b[0;34m.\u001b[0m\u001b[0mdays\u001b[0m\u001b[0;34m.\u001b[0m\u001b[0mtolist\u001b[0m\u001b[0;34m(\u001b[0m\u001b[0;34m)\u001b[0m\u001b[0;34m\u001b[0m\u001b[0m\n\u001b[1;32m      9\u001b[0m \u001b[0;32mfor\u001b[0m \u001b[0mi\u001b[0m \u001b[0;32min\u001b[0m \u001b[0mrange\u001b[0m\u001b[0;34m(\u001b[0m\u001b[0mlen\u001b[0m\u001b[0;34m(\u001b[0m\u001b[0mindices\u001b[0m\u001b[0;34m)\u001b[0m \u001b[0;34m-\u001b[0m \u001b[0;36m1\u001b[0m\u001b[0;34m)\u001b[0m\u001b[0;34m:\u001b[0m\u001b[0;34m\u001b[0m\u001b[0m\n",
      "\u001b[0;32m<ipython-input-3-2f36685a2803>\u001b[0m in \u001b[0;36mmembership_assignment\u001b[0;34m(value_time_series, fuzzy_numbers)\u001b[0m\n\u001b[1;32m     19\u001b[0m         \u001b[0mvalue_rep\u001b[0m \u001b[0;34m=\u001b[0m \u001b[0;34m[\u001b[0m\u001b[0mvalue\u001b[0m\u001b[0;34m]\u001b[0m \u001b[0;34m*\u001b[0m \u001b[0mn_fuzzy_numbers\u001b[0m\u001b[0;34m\u001b[0m\u001b[0m\n\u001b[1;32m     20\u001b[0m         \u001b[0mmemberships\u001b[0m \u001b[0;34m=\u001b[0m \u001b[0mmap\u001b[0m\u001b[0;34m(\u001b[0m\u001b[0;32mlambda\u001b[0m \u001b[0mval\u001b[0m\u001b[0;34m,\u001b[0m \u001b[0mA\u001b[0m\u001b[0;34m:\u001b[0m \u001b[0mmembership_evaluation\u001b[0m\u001b[0;34m(\u001b[0m\u001b[0mval\u001b[0m\u001b[0;34m,\u001b[0m \u001b[0mA\u001b[0m\u001b[0;34m)\u001b[0m\u001b[0;34m,\u001b[0m \u001b[0mvalue_rep\u001b[0m\u001b[0;34m,\u001b[0m \u001b[0mfuzzy_numbers\u001b[0m\u001b[0;34m)\u001b[0m\u001b[0;34m\u001b[0m\u001b[0m\n\u001b[0;32m---> 21\u001b[0;31m         \u001b[0mmax_index\u001b[0m\u001b[0;34m,\u001b[0m \u001b[0m_\u001b[0m \u001b[0;34m=\u001b[0m \u001b[0mmax\u001b[0m\u001b[0;34m(\u001b[0m\u001b[0menumerate\u001b[0m\u001b[0;34m(\u001b[0m\u001b[0mmemberships\u001b[0m\u001b[0;34m)\u001b[0m\u001b[0;34m,\u001b[0m \u001b[0mkey\u001b[0m\u001b[0;34m=\u001b[0m\u001b[0moperator\u001b[0m\u001b[0;34m.\u001b[0m\u001b[0mitemgetter\u001b[0m\u001b[0;34m(\u001b[0m\u001b[0;36m1\u001b[0m\u001b[0;34m)\u001b[0m\u001b[0;34m)\u001b[0m\u001b[0;34m\u001b[0m\u001b[0m\n\u001b[0m\u001b[1;32m     22\u001b[0m         \u001b[0mmembership_list\u001b[0m\u001b[0;34m.\u001b[0m\u001b[0mappend\u001b[0m\u001b[0;34m(\u001b[0m\u001b[0mmax_index\u001b[0m\u001b[0;34m)\u001b[0m\u001b[0;34m\u001b[0m\u001b[0m\n\u001b[1;32m     23\u001b[0m     \u001b[0;32mreturn\u001b[0m \u001b[0mmembership_list\u001b[0m\u001b[0;34m\u001b[0m\u001b[0m\n",
      "\u001b[0;31mValueError\u001b[0m: max() arg is an empty sequence"
     ]
    }
   ],
   "source": [
    "option = 'Price'\n",
    "pred_prices = list()\n",
    "actual_prices = test_data[option].tolist()[1:]\n",
    "indices = test_data.index\n",
    "u_discourse = universe_partition(train_data[option], d1=1053, d2=912)\n",
    "A_list = set_fuzzy_numbers(u_discourse)\n",
    "data_membership_sequence = membership_assignment(train_data[option], fuzzy_numbers=A_list)\n",
    "data_days = train_data['Date'].apply(lambda x: x-first_date).dt.days.tolist()\n",
    "for i in range(len(indices) - 1):\n",
    "    prev = test_data.iloc[i]\n",
    "    price = prev[option]\n",
    "    index = get_membership(price, A_list)\n",
    "    data_membership_sequence.append(index)\n",
    "    transition_FLR = FLR(data_membership_sequence) # can be reduced\n",
    "    data_days.append((prev['Date']-first_date).days)\n",
    "    jump_weights = FLR_weight(transition_FLR, data_days[:len(transition_FLR)])\n",
    "    transition_weights = FRG_weight(transition_FLR, data_days[:len(transition_FLR)])\n",
    "    next_price = forecast_price(forecast_jump(index, jump_weights, A_list), forecast_transition(index, transition_weights, A_list))\n",
    "    pred_prices.append(next_price)\n",
    "    \n",
    "print \"RMSE = \"+str(np.sqrt(mean_squared_error(actual_prices, pred_prices)))\n",
    "print \"Time cost: \"+str(time()-start_time)+\" seconds\""
   ]
  },
  {
   "cell_type": "code",
   "execution_count": null,
   "metadata": {
    "collapsed": false
   },
   "outputs": [],
   "source": [
    "df_test = pd.DataFrame(test_data.iloc[1:]['Date'])\n",
    "df_test['data testing'] = pd.Series(actual_prices).values\n",
    "df_test['forecasting'] = pd.Series(pred_prices).values\n",
    "df_test.index = df_test['Date']\n",
    "plt.figure(figsize=(14,7))\n",
    "df_test['data testing'].plot(style='k-', linewidth=2, label='data testing')\n",
    "df_test['forecasting'].plot(style='g:', linewidth=3, label='forecasting')\n",
    "plt.ylabel('Price', fontsize=18)\n",
    "plt.legend(loc='best')\n",
    "plt.title(\"IBEX35_forecasting\", fontsize=24)"
   ]
  },
  {
   "cell_type": "code",
   "execution_count": null,
   "metadata": {
    "collapsed": true
   },
   "outputs": [],
   "source": []
  }
 ],
 "metadata": {
  "kernelspec": {
   "display_name": "Python 2",
   "language": "python",
   "name": "python2"
  },
  "language_info": {
   "codemirror_mode": {
    "name": "ipython",
    "version": 2
   },
   "file_extension": ".py",
   "mimetype": "text/x-python",
   "name": "python",
   "nbconvert_exporter": "python",
   "pygments_lexer": "ipython2",
   "version": "2.7.13"
  }
 },
 "nbformat": 4,
 "nbformat_minor": 0
}
