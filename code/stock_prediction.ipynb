{
 "cells": [
  {
   "cell_type": "code",
   "execution_count": 15,
   "metadata": {
    "collapsed": true
   },
   "outputs": [],
   "source": [
    "import pandas as pd\n",
    "import numpy as np\n",
    "from sklearn.model_selection import train_test_split"
   ]
  },
  {
   "cell_type": "code",
   "execution_count": 3,
   "metadata": {
    "collapsed": false
   },
   "outputs": [
    {
     "data": {
      "text/plain": [
       "[u'Sheet1']"
      ]
     },
     "execution_count": 3,
     "metadata": {},
     "output_type": "execute_result"
    }
   ],
   "source": [
    "datafile = '../data/IBEX35(201301-201512).xlsx'\n",
    "xl = pd.ExcelFile(datafile)\n",
    "xl.sheet_names"
   ]
  },
  {
   "cell_type": "code",
   "execution_count": 5,
   "metadata": {
    "collapsed": false
   },
   "outputs": [
    {
     "data": {
      "text/html": [
       "<div>\n",
       "<table border=\"1\" class=\"dataframe\">\n",
       "  <thead>\n",
       "    <tr style=\"text-align: right;\">\n",
       "      <th></th>\n",
       "      <th>Date</th>\n",
       "      <th>Price</th>\n",
       "      <th>Open</th>\n",
       "      <th>High</th>\n",
       "      <th>Low</th>\n",
       "      <th>Vol.</th>\n",
       "      <th>Change %</th>\n",
       "    </tr>\n",
       "  </thead>\n",
       "  <tbody>\n",
       "    <tr>\n",
       "      <th>0</th>\n",
       "      <td>2013-01-02</td>\n",
       "      <td>8447.6</td>\n",
       "      <td>8337.9</td>\n",
       "      <td>8447.6</td>\n",
       "      <td>8286.7</td>\n",
       "      <td>280.53M</td>\n",
       "      <td>0.0343</td>\n",
       "    </tr>\n",
       "    <tr>\n",
       "      <th>1</th>\n",
       "      <td>2013-01-03</td>\n",
       "      <td>8403.4</td>\n",
       "      <td>8375.0</td>\n",
       "      <td>8422.6</td>\n",
       "      <td>8334.3</td>\n",
       "      <td>182.28M</td>\n",
       "      <td>-0.0052</td>\n",
       "    </tr>\n",
       "    <tr>\n",
       "      <th>2</th>\n",
       "      <td>2013-01-04</td>\n",
       "      <td>8435.8</td>\n",
       "      <td>8411.7</td>\n",
       "      <td>8447.0</td>\n",
       "      <td>8386.7</td>\n",
       "      <td>230.12M</td>\n",
       "      <td>0.0039</td>\n",
       "    </tr>\n",
       "    <tr>\n",
       "      <th>3</th>\n",
       "      <td>2013-01-07</td>\n",
       "      <td>8419.0</td>\n",
       "      <td>8434.3</td>\n",
       "      <td>8485.6</td>\n",
       "      <td>8406.3</td>\n",
       "      <td>289.12M</td>\n",
       "      <td>-0.0020</td>\n",
       "    </tr>\n",
       "    <tr>\n",
       "      <th>4</th>\n",
       "      <td>2013-01-08</td>\n",
       "      <td>8453.0</td>\n",
       "      <td>8388.2</td>\n",
       "      <td>8493.5</td>\n",
       "      <td>8374.7</td>\n",
       "      <td>335.52M</td>\n",
       "      <td>0.0040</td>\n",
       "    </tr>\n",
       "  </tbody>\n",
       "</table>\n",
       "</div>"
      ],
      "text/plain": [
       "        Date   Price    Open    High     Low     Vol.  Change %\n",
       "0 2013-01-02  8447.6  8337.9  8447.6  8286.7  280.53M    0.0343\n",
       "1 2013-01-03  8403.4  8375.0  8422.6  8334.3  182.28M   -0.0052\n",
       "2 2013-01-04  8435.8  8411.7  8447.0  8386.7  230.12M    0.0039\n",
       "3 2013-01-07  8419.0  8434.3  8485.6  8406.3  289.12M   -0.0020\n",
       "4 2013-01-08  8453.0  8388.2  8493.5  8374.7  335.52M    0.0040"
      ]
     },
     "execution_count": 5,
     "metadata": {},
     "output_type": "execute_result"
    }
   ],
   "source": [
    "df = xl.parse(u'Sheet1')\n",
    "df.head()"
   ]
  },
  {
   "cell_type": "code",
   "execution_count": 9,
   "metadata": {
    "collapsed": false,
    "scrolled": true
   },
   "outputs": [
    {
     "data": {
      "text/html": [
       "<div>\n",
       "<table border=\"1\" class=\"dataframe\">\n",
       "  <thead>\n",
       "    <tr style=\"text-align: right;\">\n",
       "      <th></th>\n",
       "      <th>Price</th>\n",
       "      <th>Open</th>\n",
       "      <th>High</th>\n",
       "      <th>Low</th>\n",
       "      <th>Change %</th>\n",
       "    </tr>\n",
       "  </thead>\n",
       "  <tbody>\n",
       "    <tr>\n",
       "      <th>count</th>\n",
       "      <td>792.000000</td>\n",
       "      <td>792.000000</td>\n",
       "      <td>792.000000</td>\n",
       "      <td>792.000000</td>\n",
       "      <td>792.000000</td>\n",
       "    </tr>\n",
       "    <tr>\n",
       "      <th>mean</th>\n",
       "      <td>9963.164141</td>\n",
       "      <td>9965.216667</td>\n",
       "      <td>10037.700379</td>\n",
       "      <td>9878.218687</td>\n",
       "      <td>0.000415</td>\n",
       "    </tr>\n",
       "    <tr>\n",
       "      <th>std</th>\n",
       "      <td>1040.412907</td>\n",
       "      <td>1042.242568</td>\n",
       "      <td>1042.808739</td>\n",
       "      <td>1037.357084</td>\n",
       "      <td>0.012150</td>\n",
       "    </tr>\n",
       "    <tr>\n",
       "      <th>min</th>\n",
       "      <td>7553.200000</td>\n",
       "      <td>7636.600000</td>\n",
       "      <td>7674.600000</td>\n",
       "      <td>7508.400000</td>\n",
       "      <td>-0.050100</td>\n",
       "    </tr>\n",
       "    <tr>\n",
       "      <th>25%</th>\n",
       "      <td>9348.350000</td>\n",
       "      <td>9334.300000</td>\n",
       "      <td>9416.875000</td>\n",
       "      <td>9264.625000</td>\n",
       "      <td>-0.006800</td>\n",
       "    </tr>\n",
       "    <tr>\n",
       "      <th>50%</th>\n",
       "      <td>10223.250000</td>\n",
       "      <td>10227.000000</td>\n",
       "      <td>10310.500000</td>\n",
       "      <td>10129.350000</td>\n",
       "      <td>0.001000</td>\n",
       "    </tr>\n",
       "    <tr>\n",
       "      <th>75%</th>\n",
       "      <td>10691.600000</td>\n",
       "      <td>10700.725000</td>\n",
       "      <td>10761.575000</td>\n",
       "      <td>10611.200000</td>\n",
       "      <td>0.007600</td>\n",
       "    </tr>\n",
       "    <tr>\n",
       "      <th>max</th>\n",
       "      <td>11866.400000</td>\n",
       "      <td>11798.500000</td>\n",
       "      <td>11884.600000</td>\n",
       "      <td>11760.800000</td>\n",
       "      <td>0.038700</td>\n",
       "    </tr>\n",
       "  </tbody>\n",
       "</table>\n",
       "</div>"
      ],
      "text/plain": [
       "              Price          Open          High           Low    Change %\n",
       "count    792.000000    792.000000    792.000000    792.000000  792.000000\n",
       "mean    9963.164141   9965.216667  10037.700379   9878.218687    0.000415\n",
       "std     1040.412907   1042.242568   1042.808739   1037.357084    0.012150\n",
       "min     7553.200000   7636.600000   7674.600000   7508.400000   -0.050100\n",
       "25%     9348.350000   9334.300000   9416.875000   9264.625000   -0.006800\n",
       "50%    10223.250000  10227.000000  10310.500000  10129.350000    0.001000\n",
       "75%    10691.600000  10700.725000  10761.575000  10611.200000    0.007600\n",
       "max    11866.400000  11798.500000  11884.600000  11760.800000    0.038700"
      ]
     },
     "execution_count": 9,
     "metadata": {},
     "output_type": "execute_result"
    }
   ],
   "source": [
    "df['Date'] = pd.to_datetime(df['Date'])\n",
    "df.describe()"
   ]
  },
  {
   "cell_type": "code",
   "execution_count": 21,
   "metadata": {
    "collapsed": false
   },
   "outputs": [
    {
     "name": "stdout",
     "output_type": "stream",
     "text": [
      "(557, 7) (235, 7)\n"
     ]
    }
   ],
   "source": [
    "split_date = '2014-12-31'\n",
    "train_data = df[df['Date'] <= split_date]\n",
    "test_data = df[df['Date'] > split_date]\n",
    "print train_data.shape, test_data.shape"
   ]
  },
  {
   "cell_type": "code",
   "execution_count": null,
   "metadata": {
    "collapsed": true
   },
   "outputs": [],
   "source": [
    "def universe_partition(data, d1=10, d2=10):\n",
    "    x_max = data.max(axis=0)\n",
    "    x_min = data.min(axis=0)\n",
    "    std_val = data.std(axis=0)\n",
    "    len_val = std_val / 10\n",
    "    d1 = d2 = (x_max - x_min) / 10 # 10% margin\n",
    "    u_discourse = list()\n",
    "    "
   ]
  }
 ],
 "metadata": {
  "kernelspec": {
   "display_name": "Python 2",
   "language": "python",
   "name": "python2"
  },
  "language_info": {
   "codemirror_mode": {
    "name": "ipython",
    "version": 2
   },
   "file_extension": ".py",
   "mimetype": "text/x-python",
   "name": "python",
   "nbconvert_exporter": "python",
   "pygments_lexer": "ipython2",
   "version": "2.7.13"
  }
 },
 "nbformat": 4,
 "nbformat_minor": 0
}
