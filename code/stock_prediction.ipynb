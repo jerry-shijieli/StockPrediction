{
 "cells": [
  {
   "cell_type": "code",
   "execution_count": 2,
   "metadata": {
    "collapsed": true
   },
   "outputs": [],
   "source": [
    "import pandas as pd\n",
    "import numpy as np\n",
    "from sklearn.model_selection import train_test_split"
   ]
  },
  {
   "cell_type": "code",
   "execution_count": 3,
   "metadata": {
    "collapsed": false
   },
   "outputs": [
    {
     "data": {
      "text/plain": [
       "[u'Sheet1']"
      ]
     },
     "execution_count": 3,
     "metadata": {},
     "output_type": "execute_result"
    }
   ],
   "source": [
    "datafile = '../data/IBEX35(201301-201512).xlsx'\n",
    "xl = pd.ExcelFile(datafile)\n",
    "xl.sheet_names"
   ]
  },
  {
   "cell_type": "code",
   "execution_count": 4,
   "metadata": {
    "collapsed": false
   },
   "outputs": [
    {
     "data": {
      "text/html": [
       "<div>\n",
       "<table border=\"1\" class=\"dataframe\">\n",
       "  <thead>\n",
       "    <tr style=\"text-align: right;\">\n",
       "      <th></th>\n",
       "      <th>Date</th>\n",
       "      <th>Price</th>\n",
       "      <th>Open</th>\n",
       "      <th>High</th>\n",
       "      <th>Low</th>\n",
       "      <th>Vol.</th>\n",
       "      <th>Change %</th>\n",
       "    </tr>\n",
       "  </thead>\n",
       "  <tbody>\n",
       "    <tr>\n",
       "      <th>0</th>\n",
       "      <td>2013-01-02</td>\n",
       "      <td>8447.6</td>\n",
       "      <td>8337.9</td>\n",
       "      <td>8447.6</td>\n",
       "      <td>8286.7</td>\n",
       "      <td>280.53M</td>\n",
       "      <td>0.0343</td>\n",
       "    </tr>\n",
       "    <tr>\n",
       "      <th>1</th>\n",
       "      <td>2013-01-03</td>\n",
       "      <td>8403.4</td>\n",
       "      <td>8375.0</td>\n",
       "      <td>8422.6</td>\n",
       "      <td>8334.3</td>\n",
       "      <td>182.28M</td>\n",
       "      <td>-0.0052</td>\n",
       "    </tr>\n",
       "    <tr>\n",
       "      <th>2</th>\n",
       "      <td>2013-01-04</td>\n",
       "      <td>8435.8</td>\n",
       "      <td>8411.7</td>\n",
       "      <td>8447.0</td>\n",
       "      <td>8386.7</td>\n",
       "      <td>230.12M</td>\n",
       "      <td>0.0039</td>\n",
       "    </tr>\n",
       "    <tr>\n",
       "      <th>3</th>\n",
       "      <td>2013-01-07</td>\n",
       "      <td>8419.0</td>\n",
       "      <td>8434.3</td>\n",
       "      <td>8485.6</td>\n",
       "      <td>8406.3</td>\n",
       "      <td>289.12M</td>\n",
       "      <td>-0.0020</td>\n",
       "    </tr>\n",
       "    <tr>\n",
       "      <th>4</th>\n",
       "      <td>2013-01-08</td>\n",
       "      <td>8453.0</td>\n",
       "      <td>8388.2</td>\n",
       "      <td>8493.5</td>\n",
       "      <td>8374.7</td>\n",
       "      <td>335.52M</td>\n",
       "      <td>0.0040</td>\n",
       "    </tr>\n",
       "  </tbody>\n",
       "</table>\n",
       "</div>"
      ],
      "text/plain": [
       "        Date   Price    Open    High     Low     Vol.  Change %\n",
       "0 2013-01-02  8447.6  8337.9  8447.6  8286.7  280.53M    0.0343\n",
       "1 2013-01-03  8403.4  8375.0  8422.6  8334.3  182.28M   -0.0052\n",
       "2 2013-01-04  8435.8  8411.7  8447.0  8386.7  230.12M    0.0039\n",
       "3 2013-01-07  8419.0  8434.3  8485.6  8406.3  289.12M   -0.0020\n",
       "4 2013-01-08  8453.0  8388.2  8493.5  8374.7  335.52M    0.0040"
      ]
     },
     "execution_count": 4,
     "metadata": {},
     "output_type": "execute_result"
    }
   ],
   "source": [
    "df = xl.parse(u'Sheet1')\n",
    "df.head()"
   ]
  },
  {
   "cell_type": "code",
   "execution_count": 5,
   "metadata": {
    "collapsed": false,
    "scrolled": true
   },
   "outputs": [
    {
     "data": {
      "text/html": [
       "<div>\n",
       "<table border=\"1\" class=\"dataframe\">\n",
       "  <thead>\n",
       "    <tr style=\"text-align: right;\">\n",
       "      <th></th>\n",
       "      <th>Price</th>\n",
       "      <th>Open</th>\n",
       "      <th>High</th>\n",
       "      <th>Low</th>\n",
       "      <th>Change %</th>\n",
       "    </tr>\n",
       "  </thead>\n",
       "  <tbody>\n",
       "    <tr>\n",
       "      <th>count</th>\n",
       "      <td>792.000000</td>\n",
       "      <td>792.000000</td>\n",
       "      <td>792.000000</td>\n",
       "      <td>792.000000</td>\n",
       "      <td>792.000000</td>\n",
       "    </tr>\n",
       "    <tr>\n",
       "      <th>mean</th>\n",
       "      <td>9963.164141</td>\n",
       "      <td>9965.216667</td>\n",
       "      <td>10037.700379</td>\n",
       "      <td>9878.218687</td>\n",
       "      <td>0.000415</td>\n",
       "    </tr>\n",
       "    <tr>\n",
       "      <th>std</th>\n",
       "      <td>1040.412907</td>\n",
       "      <td>1042.242568</td>\n",
       "      <td>1042.808739</td>\n",
       "      <td>1037.357084</td>\n",
       "      <td>0.012150</td>\n",
       "    </tr>\n",
       "    <tr>\n",
       "      <th>min</th>\n",
       "      <td>7553.200000</td>\n",
       "      <td>7636.600000</td>\n",
       "      <td>7674.600000</td>\n",
       "      <td>7508.400000</td>\n",
       "      <td>-0.050100</td>\n",
       "    </tr>\n",
       "    <tr>\n",
       "      <th>25%</th>\n",
       "      <td>9348.350000</td>\n",
       "      <td>9334.300000</td>\n",
       "      <td>9416.875000</td>\n",
       "      <td>9264.625000</td>\n",
       "      <td>-0.006800</td>\n",
       "    </tr>\n",
       "    <tr>\n",
       "      <th>50%</th>\n",
       "      <td>10223.250000</td>\n",
       "      <td>10227.000000</td>\n",
       "      <td>10310.500000</td>\n",
       "      <td>10129.350000</td>\n",
       "      <td>0.001000</td>\n",
       "    </tr>\n",
       "    <tr>\n",
       "      <th>75%</th>\n",
       "      <td>10691.600000</td>\n",
       "      <td>10700.725000</td>\n",
       "      <td>10761.575000</td>\n",
       "      <td>10611.200000</td>\n",
       "      <td>0.007600</td>\n",
       "    </tr>\n",
       "    <tr>\n",
       "      <th>max</th>\n",
       "      <td>11866.400000</td>\n",
       "      <td>11798.500000</td>\n",
       "      <td>11884.600000</td>\n",
       "      <td>11760.800000</td>\n",
       "      <td>0.038700</td>\n",
       "    </tr>\n",
       "  </tbody>\n",
       "</table>\n",
       "</div>"
      ],
      "text/plain": [
       "              Price          Open          High           Low    Change %\n",
       "count    792.000000    792.000000    792.000000    792.000000  792.000000\n",
       "mean    9963.164141   9965.216667  10037.700379   9878.218687    0.000415\n",
       "std     1040.412907   1042.242568   1042.808739   1037.357084    0.012150\n",
       "min     7553.200000   7636.600000   7674.600000   7508.400000   -0.050100\n",
       "25%     9348.350000   9334.300000   9416.875000   9264.625000   -0.006800\n",
       "50%    10223.250000  10227.000000  10310.500000  10129.350000    0.001000\n",
       "75%    10691.600000  10700.725000  10761.575000  10611.200000    0.007600\n",
       "max    11866.400000  11798.500000  11884.600000  11760.800000    0.038700"
      ]
     },
     "execution_count": 5,
     "metadata": {},
     "output_type": "execute_result"
    }
   ],
   "source": [
    "df['Date'] = pd.to_datetime(df['Date'])\n",
    "df.describe()"
   ]
  },
  {
   "cell_type": "code",
   "execution_count": 6,
   "metadata": {
    "collapsed": false
   },
   "outputs": [
    {
     "name": "stdout",
     "output_type": "stream",
     "text": [
      "(557, 7) (235, 7)\n"
     ]
    }
   ],
   "source": [
    "split_date = '2014-12-31'\n",
    "train_data = df[df['Date'] <= split_date]\n",
    "test_data = df[df['Date'] > split_date]\n",
    "print train_data.shape, test_data.shape"
   ]
  },
  {
   "cell_type": "code",
   "execution_count": 10,
   "metadata": {
    "collapsed": true
   },
   "outputs": [],
   "source": [
    "def universe_partition(data, d1=10, d2=10):\n",
    "    x_max, x_min = data.max(axis=0), data.min(axis=0)\n",
    "    std_val = data.std(axis=0)\n",
    "    len_val = std_val / 10\n",
    "    u_max, u_min = x_max+d2, x_min-d1 # bound of universe discourse\n",
    "    u_b = np.arange(u_min, u_max, step=len_val) # cutting points\n",
    "    u_s = u_b[:-1] # u1\n",
    "    u_e = u_b[1:] # u2\n",
    "    u_discourse = zip(u_b, u_e) # interval\n",
    "    return u_discourse"
   ]
  },
  {
   "cell_type": "code",
   "execution_count": 11,
   "metadata": {
    "collapsed": false
   },
   "outputs": [
    {
     "name": "stdout",
     "output_type": "stream",
     "text": [
      "[(6600.1999999999998, 6701.0920529569803), (6701.0920529569803, 6801.9841059139608), (6801.9841059139608, 6902.8761588709413), (6902.8761588709413, 7003.7682118279217), (7003.7682118279217, 7104.6602647849022), (7104.6602647849022, 7205.5523177418827), (7205.5523177418827, 7306.4443706988632), (7306.4443706988632, 7407.3364236558436), (7407.3364236558436, 7508.2284766128241), (7508.2284766128241, 7609.1205295698046), (7609.1205295698046, 7710.0125825267851), (7710.0125825267851, 7810.9046354837656), (7810.9046354837656, 7911.796688440746), (7911.796688440746, 8012.6887413977265), (8012.6887413977265, 8113.580794354707), (8113.580794354707, 8214.4728473116884), (8214.4728473116884, 8315.3649002686689), (8315.3649002686689, 8416.2569532256493), (8416.2569532256493, 8517.1490061826298), (8517.1490061826298, 8618.0410591396103), (8618.0410591396103, 8718.9331120965908), (8718.9331120965908, 8819.8251650535713), (8819.8251650535713, 8920.7172180105517), (8920.7172180105517, 9021.6092709675322), (9021.6092709675322, 9122.5013239245127), (9122.5013239245127, 9223.3933768814932), (9223.3933768814932, 9324.2854298384736), (9324.2854298384736, 9425.1774827954541), (9425.1774827954541, 9526.0695357524346), (9526.0695357524346, 9626.9615887094151), (9626.9615887094151, 9727.8536416663956), (9727.8536416663956, 9828.745694623376), (9828.745694623376, 9929.6377475803565), (9929.6377475803565, 10030.529800537337), (10030.529800537337, 10131.421853494317), (10131.421853494317, 10232.313906451298), (10232.313906451298, 10333.205959408278), (10333.205959408278, 10434.098012365259), (10434.098012365259, 10534.990065322239), (10534.990065322239, 10635.88211827922), (10635.88211827922, 10736.7741712362), (10736.7741712362, 10837.666224193181), (10837.666224193181, 10938.558277150161), (10938.558277150161, 11039.450330107142), (11039.450330107142, 11140.342383064122), (11140.342383064122, 11241.234436021103), (11241.234436021103, 11342.126488978083), (11342.126488978083, 11443.018541935064), (11443.018541935064, 11543.910594892044), (11543.910594892044, 11644.802647849025), (11644.802647849025, 11745.694700806005), (11745.694700806005, 11846.586753762986), (11846.586753762986, 11947.478806719966)]\n"
     ]
    }
   ],
   "source": [
    "u_discourse = universe_partition(train_data['Price'], d1=953, d2=812)\n",
    "print u_discourse"
   ]
  },
  {
   "cell_type": "code",
   "execution_count": null,
   "metadata": {
    "collapsed": true
   },
   "outputs": [],
   "source": [
    "def set_fuzzy_numbers(u_discourse):\n",
    "    pass"
   ]
  }
 ],
 "metadata": {
  "kernelspec": {
   "display_name": "Python [Root]",
   "language": "python",
   "name": "Python [Root]"
  },
  "language_info": {
   "codemirror_mode": {
    "name": "ipython",
    "version": 2
   },
   "file_extension": ".py",
   "mimetype": "text/x-python",
   "name": "python",
   "nbconvert_exporter": "python",
   "pygments_lexer": "ipython2",
   "version": "2.7.13"
  }
 },
 "nbformat": 4,
 "nbformat_minor": 0
}
